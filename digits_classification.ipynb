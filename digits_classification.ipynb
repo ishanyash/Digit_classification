{
  "nbformat": 4,
  "nbformat_minor": 0,
  "metadata": {
    "kernelspec": {
      "display_name": "Python 3",
      "language": "python",
      "name": "python3"
    },
    "language_info": {
      "codemirror_mode": {
        "name": "ipython",
        "version": 3
      },
      "file_extension": ".py",
      "mimetype": "text/x-python",
      "name": "python",
      "nbconvert_exporter": "python",
      "pygments_lexer": "ipython3",
      "version": "3.6.5"
    },
    "colab": {
      "name": "digits_classification.ipynb",
      "provenance": [],
      "include_colab_link": true
    }
  },
  "cells": [
    {
      "cell_type": "markdown",
      "metadata": {
        "id": "view-in-github",
        "colab_type": "text"
      },
      "source": [
        "<a href=\"https://colab.research.google.com/github/ishanyash/Digit_classification/blob/master/digits_classification.ipynb\" target=\"_parent\"><img src=\"https://colab.research.google.com/assets/colab-badge.svg\" alt=\"Open In Colab\"/></a>"
      ]
    },
    {
      "cell_type": "markdown",
      "metadata": {
        "id": "aEP7H4Tl8s44",
        "colab_type": "text"
      },
      "source": [
        "# MNIST digits classification with TensorFlow"
      ]
    },
    {
      "cell_type": "markdown",
      "metadata": {
        "id": "pCtq8JU9653W",
        "colab_type": "text"
      },
      "source": [
        "This Notebook will help you understand the process of digit classification and help you with the Coursera course of Intro Into DL. "
      ]
    },
    {
      "cell_type": "code",
      "metadata": {
        "id": "GwbK8dcq_xkC",
        "colab_type": "code",
        "outputId": "f07c6a66-b902-4a84-9b83-e3e275faa376",
        "colab": {
          "base_uri": "https://localhost:8080/",
          "height": 319
        }
      },
      "source": [
        "! shred -u setup_google_colab.py\n",
        "! wget https://raw.githubusercontent.com/hse-aml/intro-to-dl/master/setup_google_colab.py -O setup_google_colab.py\n",
        "import setup_google_colab\n",
        "# please, uncomment the week you're working on\n",
        "# setup_google_colab.setup_week1()\n",
        "# setup_google_colab.setup_week2()\n",
        "# setup_google_colab.setup_week3()\n",
        "# setup_google_colab.setup_week4()\n",
        "# setup_google_colab.setup_week5()\n",
        "# setup_google_colab.setup_week6()\n",
        "\n",
        "# If you're using the old version of the course (check a path of notebook on Coursera, you'll see v1 or v2),\n",
        "# use setup_week2_old()."
      ],
      "execution_count": 0,
      "outputs": [
        {
          "output_type": "stream",
          "text": [
            "shred: setup_google_colab.py: failed to open for writing: No such file or directory\n",
            "--2019-11-08 17:11:44--  https://raw.githubusercontent.com/hse-aml/intro-to-dl/master/setup_google_colab.py\n",
            "Resolving raw.githubusercontent.com (raw.githubusercontent.com)... 151.101.0.133, 151.101.64.133, 151.101.128.133, ...\n",
            "Connecting to raw.githubusercontent.com (raw.githubusercontent.com)|151.101.0.133|:443... connected.\n",
            "HTTP request sent, awaiting response... 200 OK\n",
            "Length: 3792 (3.7K) [text/plain]\n",
            "Saving to: ‘setup_google_colab.py’\n",
            "\n",
            "setup_google_colab. 100%[===================>]   3.70K  --.-KB/s    in 0s      \n",
            "\n",
            "2019-11-08 17:11:44 (72.4 MB/s) - ‘setup_google_colab.py’ saved [3792/3792]\n",
            "\n",
            "**************************************************\n",
            "inception_v3_weights_tf_dim_ordering_tf_kernels_notop.h5\n",
            "**************************************************\n",
            "cifar-10-batches-py.tar.gz\n",
            "**************************************************\n",
            "mnist.npz\n"
          ],
          "name": "stdout"
        }
      ]
    },
    {
      "cell_type": "markdown",
      "metadata": {
        "id": "sWXwytla8s47",
        "colab_type": "text"
      },
      "source": [
        "<img src=\"https://github.com/hse-aml/intro-to-dl/blob/master/week2/v2/images/mnist_sample.png?raw=1\" style=\"width:30%\">"
      ]
    },
    {
      "cell_type": "code",
      "metadata": {
        "id": "OmoyhPJZ8s49",
        "colab_type": "code",
        "outputId": "e9ae0a92-5373-4743-85f3-3704193a6fa4",
        "colab": {
          "base_uri": "https://localhost:8080/",
          "height": 96
        }
      },
      "source": [
        "import numpy as np\n",
        "from sklearn.metrics import accuracy_score\n",
        "from matplotlib import pyplot as plt\n",
        "%matplotlib inline\n",
        "import tensorflow as tf\n",
        "print(\"We're using TF\", tf.__version__)\n",
        "\n",
        "import sys\n",
        "sys.path.append(\"../..\")\n",
        "import grading\n",
        "\n",
        "import matplotlib_utils\n",
        "from importlib import reload\n",
        "reload(matplotlib_utils)\n",
        "\n",
        "import grading_utils\n",
        "reload(grading_utils)\n",
        "\n",
        "import keras_utils\n",
        "from keras_utils import reset_tf_session"
      ],
      "execution_count": 0,
      "outputs": [
        {
          "output_type": "display_data",
          "data": {
            "text/html": [
              "<p style=\"color: red;\">\n",
              "The default version of TensorFlow in Colab will soon switch to TensorFlow 2.x.<br>\n",
              "We recommend you <a href=\"https://www.tensorflow.org/guide/migrate\" target=\"_blank\">upgrade</a> now \n",
              "or ensure your notebook will continue to use TensorFlow 1.x via the <code>%tensorflow_version 1.x</code> magic:\n",
              "<a href=\"https://colab.research.google.com/notebooks/tensorflow_version.ipynb\" target=\"_blank\">more info</a>.</p>\n"
            ],
            "text/plain": [
              "<IPython.core.display.HTML object>"
            ]
          },
          "metadata": {
            "tags": []
          }
        },
        {
          "output_type": "stream",
          "text": [
            "We're using TF 1.15.0\n"
          ],
          "name": "stdout"
        },
        {
          "output_type": "stream",
          "text": [
            "Using TensorFlow backend.\n"
          ],
          "name": "stderr"
        }
      ]
    },
    {
      "cell_type": "markdown",
      "metadata": {
        "id": "VtpC9OqM8s5D",
        "colab_type": "text"
      },
      "source": [
        "# Fill in your Coursera token and email\n",
        "To successfully submit your answers to our grader, please fill in your Coursera submission token and email"
      ]
    },
    {
      "cell_type": "code",
      "metadata": {
        "id": "G5pNB5kY8s5E",
        "colab_type": "code",
        "colab": {}
      },
      "source": [
        "grader = grading.Grader(assignment_key=\"XtD7ho3TEeiHQBLWejjYAA\", \n",
        "                        all_parts=[\"9XaAS\", \"vmogZ\", \"RMv95\", \"i8bgs\", \"rE763\"])"
      ],
      "execution_count": 0,
      "outputs": []
    },
    {
      "cell_type": "code",
      "metadata": {
        "id": "m9bqBK-c8s5K",
        "colab_type": "code",
        "colab": {}
      },
      "source": [
        "'''# token expires every 30 min\n",
        "COURSERA_TOKEN = ''\n",
        "COURSERA_EMAIL = '''''"
      ],
      "execution_count": 0,
      "outputs": []
    },
    {
      "cell_type": "markdown",
      "metadata": {
        "id": "D9bi2N9H8s5S",
        "colab_type": "text"
      },
      "source": [
        "# Look at the data\n",
        "\n",
        "In this task we have 50000 28x28 images of digits from 0 to 9.\n",
        "We will train a classifier on this data."
      ]
    },
    {
      "cell_type": "code",
      "metadata": {
        "id": "V-16xpgL8s5T",
        "colab_type": "code",
        "outputId": "21e1cb22-089d-479a-b4ee-41363c430524",
        "colab": {
          "base_uri": "https://localhost:8080/",
          "height": 50
        }
      },
      "source": [
        "import preprocessed_mnist\n",
        "X_train, y_train, X_val, y_val, X_test, y_test = preprocessed_mnist.load_dataset()"
      ],
      "execution_count": 0,
      "outputs": [
        {
          "output_type": "stream",
          "text": [
            "Downloading data from https://s3.amazonaws.com/img-datasets/mnist.npz\n",
            "10780672/11490434 [===========================>..] - ETA: 0s"
          ],
          "name": "stdout"
        }
      ]
    },
    {
      "cell_type": "code",
      "metadata": {
        "id": "ZeJx4t2U8s5l",
        "colab_type": "code",
        "outputId": "1e4b705b-516b-4e12-a620-b3370159b37c",
        "colab": {
          "base_uri": "https://localhost:8080/",
          "height": 681
        }
      },
      "source": [
        "# X contains rgb values divided by 255\n",
        "print(\"X_train [shape %s] sample patch:\\n\" % (str(X_train.shape)), X_train[1, 15:20, 5:10])\n",
        "print(\"A closeup of a sample patch:\")\n",
        "plt.imshow(X_train[1, 15:20, 5:10], cmap=\"Greys\")\n",
        "plt.show()\n",
        "print(\"And the whole sample:\")\n",
        "plt.imshow(X_train[1], cmap=\"Greys\")\n",
        "plt.show()\n",
        "print(\"y_train [shape %s] 10 samples:\\n\" % (str(y_train.shape)), y_train[:10])"
      ],
      "execution_count": 0,
      "outputs": [
        {
          "output_type": "stream",
          "text": [
            "X_train [shape (50000, 28, 28)] sample patch:\n",
            " [[0.         0.29803922 0.96470588 0.98823529 0.43921569]\n",
            " [0.         0.33333333 0.98823529 0.90196078 0.09803922]\n",
            " [0.         0.33333333 0.98823529 0.8745098  0.        ]\n",
            " [0.         0.33333333 0.98823529 0.56862745 0.        ]\n",
            " [0.         0.3372549  0.99215686 0.88235294 0.        ]]\n",
            "A closeup of a sample patch:\n"
          ],
          "name": "stdout"
        },
        {
          "output_type": "display_data",
          "data": {
            "image/png": "[encoded data removed]",
            "text/plain": [
              "<Figure size 432x288 with 1 Axes>"
            ]
          },
          "metadata": {
            "tags": []
          }
        },
        {
          "output_type": "stream",
          "text": [
            "And the whole sample:\n"
          ],
          "name": "stdout"
        },
        {
          "output_type": "display_data",
          "data": {
            "image/png": "[encoded data removed]",
            "text/plain": [
              "<Figure size 432x288 with 1 Axes>"
            ]
          },
          "metadata": {
            "tags": []
          }
        },
        {
          "output_type": "stream",
          "text": [
            "y_train [shape (50000,)] 10 samples:\n",
            " [5 0 4 1 9 2 1 3 1 4]\n"
          ],
          "name": "stdout"
        }
      ]
    },
    {
      "cell_type": "markdown",
      "metadata": {
        "id": "nxC-TG5f8s5p",
        "colab_type": "text"
      },
      "source": [
        "# Linear model\n",
        "\n",
        "Your task is to train a linear classifier $\\vec{x} \\rightarrow y$ with SGD using TensorFlow.\n",
        "\n",
        "You will need to calculate a logit (a linear transformation) $z_k$ for each class: \n",
        "$$z_k = \\vec{x} \\cdot \\vec{w_k} + b_k \\quad k = 0..9$$\n",
        "\n",
        "And transform logits $z_k$ to valid probabilities $p_k$ with softmax: \n",
        "$$p_k = \\frac{e^{z_k}}{\\sum_{i=0}^{9}{e^{z_i}}} \\quad k = 0..9$$\n",
        "\n",
        "We will use a cross-entropy loss to train our multi-class classifier:\n",
        "$$\\text{cross-entropy}(y, p) = -\\sum_{k=0}^{9}{\\log(p_k)[y = k]}$$ \n",
        "\n",
        "where \n",
        "$$\n",
        "[x]=\\begin{cases}\n",
        "       1, \\quad \\text{if $x$ is true} \\\\\n",
        "       0, \\quad \\text{otherwise}\n",
        "    \\end{cases}\n",
        "$$\n",
        "\n",
        "Cross-entropy minimization pushes $p_k$ close to 1 when $y = k$, which is what we want.\n",
        "\n",
        "Here's the plan:\n",
        "* Flatten the images (28x28 -> 784) with `X_train.reshape((X_train.shape[0], -1))` to simplify our linear model implementation\n",
        "* Use a matrix placeholder for flattened `X_train`\n",
        "* Convert `y_train` to one-hot encoded vectors that are needed for cross-entropy\n",
        "* Use a shared variable `W` for all weights (a column $\\vec{w_k}$ per class) and `b` for all biases.\n",
        "* Aim for ~0.93 validation accuracy"
      ]
    },
    {
      "cell_type": "code",
      "metadata": {
        "id": "Q2UmJqiY8s5r",
        "colab_type": "code",
        "outputId": "94efc970-6c6b-4f3f-a471-5d361d2a5b4d",
        "colab": {
          "base_uri": "https://localhost:8080/",
          "height": 50
        }
      },
      "source": [
        "X_train_flat = X_train.reshape((X_train.shape[0], -1))\n",
        "print(X_train_flat.shape)\n",
        "\n",
        "X_val_flat = X_val.reshape((X_val.shape[0], -1))\n",
        "print(X_val_flat.shape)"
      ],
      "execution_count": 0,
      "outputs": [
        {
          "output_type": "stream",
          "text": [
            "(50000, 784)\n",
            "(10000, 784)\n"
          ],
          "name": "stdout"
        }
      ]
    },
    {
      "cell_type": "code",
      "metadata": {
        "id": "ybV4EmdL8s5v",
        "colab_type": "code",
        "outputId": "47e77ed4-2aae-427c-8b7f-ca560d790b39",
        "colab": {
          "base_uri": "https://localhost:8080/",
          "height": 84
        }
      },
      "source": [
        "import keras\n",
        "\n",
        "y_train_oh = keras.utils.to_categorical(y_train, 10)\n",
        "y_val_oh = keras.utils.to_categorical(y_val, 10)\n",
        "\n",
        "print(y_train_oh.shape)\n",
        "print(y_train_oh[:3], y_train[:3])"
      ],
      "execution_count": 0,
      "outputs": [
        {
          "output_type": "stream",
          "text": [
            "(50000, 10)\n",
            "[[0. 0. 0. 0. 0. 1. 0. 0. 0. 0.]\n",
            " [1. 0. 0. 0. 0. 0. 0. 0. 0. 0.]\n",
            " [0. 0. 0. 0. 1. 0. 0. 0. 0. 0.]] [5 0 4]\n"
          ],
          "name": "stdout"
        }
      ]
    },
    {
      "cell_type": "code",
      "metadata": {
        "id": "Y42O9vTn8s54",
        "colab_type": "code",
        "outputId": "5a09944e-2538-475b-b635-f26a1a05bc0e",
        "colab": {
          "base_uri": "https://localhost:8080/",
          "height": 238
        }
      },
      "source": [
        "# run this again if you remake your graph\n",
        "s = reset_tf_session()"
      ],
      "execution_count": 0,
      "outputs": [
        {
          "output_type": "stream",
          "text": [
            "WARNING:tensorflow:From /content/keras_utils.py:68: The name tf.get_default_session is deprecated. Please use tf.compat.v1.get_default_session instead.\n",
            "\n",
            "WARNING:tensorflow:From /usr/local/lib/python3.6/dist-packages/keras/backend/tensorflow_backend.py:79: The name tf.reset_default_graph is deprecated. Please use tf.compat.v1.reset_default_graph instead.\n",
            "\n",
            "WARNING:tensorflow:From /usr/local/lib/python3.6/dist-packages/keras/backend/tensorflow_backend.py:82: The name tf.placeholder is deprecated. Please use tf.compat.v1.placeholder instead.\n",
            "\n",
            "WARNING:tensorflow:From /usr/local/lib/python3.6/dist-packages/keras/backend/tensorflow_backend.py:84: The name tf.get_default_graph is deprecated. Please use tf.compat.v1.get_default_graph instead.\n",
            "\n",
            "WARNING:tensorflow:From /content/keras_utils.py:75: The name tf.ConfigProto is deprecated. Please use tf.compat.v1.ConfigProto instead.\n",
            "\n",
            "WARNING:tensorflow:From /content/keras_utils.py:77: The name tf.InteractiveSession is deprecated. Please use tf.compat.v1.InteractiveSession instead.\n",
            "\n"
          ],
          "name": "stdout"
        }
      ]
    },
    {
      "cell_type": "code",
      "metadata": {
        "id": "2f9bUcfW8s58",
        "colab_type": "code",
        "outputId": "9af2879f-f1e9-4335-8bba-105052f27bb0",
        "colab": {
          "base_uri": "https://localhost:8080/",
          "height": 151
        }
      },
      "source": [
        "# Model parameters: W and b\n",
        "W = tf.get_variable('W', shape=(784, 10), initializer=tf.contrib.layers.xavier_initializer())### YOUR CODE HERE ### tf.get_variable(...) with shape[0] = 784\n",
        "b = tf.get_variable('b', shape=(10,), initializer=tf.zeros_initializer())### YOUR CODE HERE ### tf.get_variable(...)"
      ],
      "execution_count": 0,
      "outputs": [
        {
          "output_type": "stream",
          "text": [
            "WARNING:tensorflow:\n",
            "The TensorFlow contrib module will not be included in TensorFlow 2.0.\n",
            "For more information, please see:\n",
            "  * https://github.com/tensorflow/community/blob/master/rfcs/20180907-contrib-sunset.md\n",
            "  * https://github.com/tensorflow/addons\n",
            "  * https://github.com/tensorflow/io (for I/O related ops)\n",
            "If you depend on functionality not listed there, please file an issue.\n",
            "\n"
          ],
          "name": "stdout"
        }
      ]
    },
    {
      "cell_type": "code",
      "metadata": {
        "id": "2zLOW9nM8s5_",
        "colab_type": "code",
        "colab": {}
      },
      "source": [
        "# Placeholders for the input data\n",
        "input_X = tf.placeholder(tf.float32, shape=(None, 784), name='input_X')### YOUR CODE HERE ### tf.placeholder(...) for flat X with shape[0] = None for any batch size\n",
        "input_y = tf.placeholder(tf.float32, shape=(None, 10), name='input_y')### YOUR CODE HERE ### tf.placeholder(...) for one-hot encoded true labels"
      ],
      "execution_count": 0,
      "outputs": []
    },
    {
      "cell_type": "code",
      "metadata": {
        "id": "NJgeEWHQ8s6O",
        "colab_type": "code",
        "outputId": "518ec9d0-fba2-4fd8-cf2d-614c8887159c",
        "colab": {
          "base_uri": "https://localhost:8080/",
          "height": 171
        }
      },
      "source": [
        "# Compute predictions\n",
        "logits = tf.matmul(input_X, W) + b### YOUR CODE HERE ### logits for input_X, resulting shape should be [input_X.shape[0], 10]\n",
        "probas = tf.nn.softmax(logits)### YOUR CODE HERE ### apply tf.nn.softmax to logits\n",
        "classes = tf.argmax(probas, axis=1)### YOUR CODE HERE ### apply tf.argmax to find a class index with highest probability\n",
        "\n",
        "# Loss should be a scalar number: average loss over all the objects with tf.reduce_mean().\n",
        "# Use tf.nn.softmax_cross_entropy_with_logits on top of one-hot encoded input_y and logits.\n",
        "# It is identical to calculating cross-entropy on top of probas, but is more numerically friendly (read the docs).\n",
        "loss = tf.reduce_mean(tf.nn.softmax_cross_entropy_with_logits(labels=input_y, logits=logits))### YOUR CODE HERE ### cross-entropy loss\n",
        "\n",
        "# Use a default tf.train.AdamOptimizer to get an SGD step\n",
        "step = tf.train.AdamOptimizer().minimize(loss)### YOUR CODE HERE ### optimizer step that minimizes the loss"
      ],
      "execution_count": 0,
      "outputs": [
        {
          "output_type": "stream",
          "text": [
            "WARNING:tensorflow:From <ipython-input-12-cb34529991a5>:8: softmax_cross_entropy_with_logits (from tensorflow.python.ops.nn_ops) is deprecated and will be removed in a future version.\n",
            "Instructions for updating:\n",
            "\n",
            "Future major versions of TensorFlow will allow gradients to flow\n",
            "into the labels input on backprop by default.\n",
            "\n",
            "See `tf.nn.softmax_cross_entropy_with_logits_v2`.\n",
            "\n"
          ],
          "name": "stdout"
        }
      ]
    },
    {
      "cell_type": "code",
      "metadata": {
        "scrolled": false,
        "id": "99NyFMsr8s6Q",
        "colab_type": "code",
        "outputId": "05a1309f-14d7-4f1c-fbd1-a8a78800c5a5",
        "colab": {
          "base_uri": "https://localhost:8080/",
          "height": 309
        }
      },
      "source": [
        "s.run(tf.global_variables_initializer())\n",
        "\n",
        "BATCH_SIZE = 512\n",
        "EPOCHS = 40\n",
        "\n",
        "# for logging the progress right here in Jupyter (for those who don't have TensorBoard)\n",
        "simpleTrainingCurves = matplotlib_utils.SimpleTrainingCurves(\"cross-entropy\", \"accuracy\")\n",
        "\n",
        "for epoch in range(EPOCHS):  # we finish an epoch when we've looked at all training samples\n",
        "    \n",
        "    batch_losses = []\n",
        "    for batch_start in range(0, X_train_flat.shape[0], BATCH_SIZE):  # data is already shuffled\n",
        "        _, batch_loss = s.run([step, loss], {input_X: X_train_flat[batch_start:batch_start+BATCH_SIZE], \n",
        "                                             input_y: y_train_oh[batch_start:batch_start+BATCH_SIZE]})\n",
        "        # collect batch losses, this is almost free as we need a forward pass for backprop anyway\n",
        "        batch_losses.append(batch_loss)\n",
        "\n",
        "    train_loss = np.mean(batch_losses)\n",
        "    val_loss = s.run(loss, {input_X: X_val_flat, input_y: y_val_oh})  # this part is usually small\n",
        "    train_accuracy = accuracy_score(y_train, s.run(classes, {input_X: X_train_flat}))  # this is slow and usually skipped\n",
        "    valid_accuracy = accuracy_score(y_val, s.run(classes, {input_X: X_val_flat}))  \n",
        "    simpleTrainingCurves.add(train_loss, val_loss, train_accuracy, valid_accuracy)"
      ],
      "execution_count": 0,
      "outputs": [
        {
          "output_type": "display_data",
          "data": {
            "text/html": [
              "<img src=\"data:image/jpeg;base64,/9j/4AAQSkZJRgABAQEASABIAAD/2wBDAAIBAQEBAQIBAQECAgICAgQDAgICAgUEBAMEBgUGBgYFBgYGBwkIBgcJBwYGCAsICQoKCgoKBggLDAsKDAkKCgr/2wBDAQICAgICAgUDAwUKBwYHCgoKCgoKCgoKCgoKCgoKCgoKCgoKCgoKCgoKCgoKCgoKCgoKCgoKCgoKCgoKCgoKCgr/wAARCAEgA2ADASIAAhEBAxEB/8QAHwAAAQUBAQEBAQEAAAAAAAAAAAECAwQFBgcICQoL/8QAtRAAAgEDAwIEAwUFBAQAAAF9AQIDAAQRBRIhMUEGE1FhByJxFDKBkaEII0KxwRVS0fAkM2JyggkKFhcYGRolJicoKSo0NTY3ODk6Q0RFRkdISUpTVFVWV1hZWmNkZWZnaGlqc3R1dnd4eXqDhIWGh4iJipKTlJWWl5iZmqKjpKWmp6ipqrKztLW2t7i5usLDxMXGx8jJytLT1NXW19jZ2uHi4%2BTl5ufo6erx8vP09fb3%2BPn6/8QAHwEAAwEBAQEBAQEBAQAAAAAAAAECAwQFBgcICQoL/8QAtREAAgECBAQDBAcFBAQAAQJ3AAECAxEEBSExBhJBUQdhcRMiMoEIFEKRobHBCSMzUvAVYnLRChYkNOEl8RcYGRomJygpKjU2Nzg5OkNERUZHSElKU1RVVldYWVpjZGVmZ2hpanN0dXZ3eHl6goOEhYaHiImKkpOUlZaXmJmaoqOkpaanqKmqsrO0tba3uLm6wsPExcbHyMnK0tPU1dbX2Nna4uPk5ebn6Onq8vP09fb3%2BPn6/9oADAMBAAIRAxEAPwD9/KKKKACiiigAooooAKKKKACiiigAooooAKKKKACiiigAooooAKKKKACiiigAooooAKKKKACiiigAooooAKKKKACiiigAooooAKKKKACiiigAooooAKKKKACiiigAooooAKKKKACiiigAooooAKKKKACiiigAooooAKKKKACiiigAooooAKKKKACiiigAooooAKKKKACiiigAooooAKKKKACiiigAooooAKKKKACiiigAooooAKKKKACiiigAooooAKKKKACiiigAooooAKKKKACiiigAooooAKKKKACiiigAooooAKKKKACiiigAooooAKKKKACiiigAooooAKKKKACiiigAooooAKKKKACvPfjt%2B1J8FP2b5NGsfil4g1Maj4ilnTQNB8OeF9R1zVNR8lVed4bHTbee5kjiVkMkixlI96biu5c%2BhV4N%2B0P8D/j5/wANJ%2BDv2tv2bLLwfrWueH/B2seFNX8KeOdcutLtLywv7mwuxcQXtraXj288U2noCpt3WVJSCUKK1ABpf/BTL9izWLvxPb2nxXv0h8FWsk/jLUrvwXrEFjoIS0iu9l5dy2iwWsrQzRskMjrJIWKorMrKL2n/APBQ/wDZK1HwBrXxFTx/q9vB4f1ay0vVdE1DwNrNrrkV5ebfscC6PNaLqEr3AYGER27eaAxTcFYjy2b9gH4y%2BMf2a/jn8NfGHinwppHin4o/FS38daHc6U1xeWFpeW0OiywQ3IkihkkiN3pRRwoyYHGDuJVaPi79i/8AaV%2BLmr/Ef45fG34S/CjWvFnjWx8KaPp/gKy%2BI2s2Wm6fY6Hcaldw3qa7b6al5DqDXOqTOksVoPJSKNFZiWcgHsviH9vv9mzwv4a8OeI9XvvG3meK0v5NE8P2vwm8SXGuSRWUscV3NJpMWntf28MLzQq8s0CIpmiy37xM%2Bmaz8RPBHhv4e3XxX8T%2BJbbSvDljo76rf6vqrfZYbSySIzPPMZdvlKsYLNvxtAOcYNfGHin9hH9s/WPgX4X8Nay3hfxV470a58RHRfGV/wDHbxNpGr%2BCLW%2BuUktLO11q1sJLzXIYkjhEy3qw/aTbReYCFGPUfjR/wTotfj1%2Bzb4n%2BHHxD%2BOfjW78d%2BMPhfH4Z17xS3jbWho818tpDE2oJoS3y2FuzzQLK3kRRSEPIBIrSM5AOkg/4KUfsZf8K58V/FbWPite6Jo3giysr7xQ/ifwdq%2Bk3NlZXkxhtb37LeWsVxJaSyK6pcxxtC3luQ%2BEYjj/AI3f8FZP2d/hn8ENU%2BMfgPRfFXiqbQfiD4X8L674Y/4QXXbHU7A6zqVrax3T2cmnNdeV5Fw88DeT5d48aW8MhknjB8r1T/gmJ8ZPHfwq8faR4i8DeG9G8Y%2BI9D0fR7DxDqv7RfjPxut3aWusW%2BoTRyf27AfsEZ8likUSzHe%2BGkxknv8A9qH9gz40/GD4g/F/4g%2BBfEPheOTxfB8LbzwlZ6tfXMSvf%2BE/EdzrUsN40dvJ5ENwGt4VljEzrl2MfyKrgHqFh/wUE/Zb1H4m2XwZh8T%2BJo/Fd5oun6xLoF38N9egudO0%2B9adILu/SSyU6dDut5VeS68pYiFEhQum6j4a/wCCmH7FPi3wZ4s%2BIWkfGC4TR/Bfgi68Zaxe6h4S1W0Fx4et0Z5tWsVntUbVLNVQ4nsxPGxZArEugbB0P9kP4ofEP4mfG74g/G9fD2gxfGj4O%2BHfCF1Y%2BE9duNRl0u4tE11Ltlnns7XzYwNViMT7FZikm6OPA3fN37Y37Kn7UOj/ALDHxS%2BJv7TF34AtIfhD%2BxT8QfBHhePwFqF5cNrzXukWxn1G6W5toBYqE0i3CWcbXAVppCZ22oKAPrPw9/wUl/Yy8TaHrHiPT/i1dQWehppU1/JqnhLVbJmtNSu1s7HUIUuLVGubCWdgovoQ9qoDO0qorMPT9E%2BLvw88R/FLX/gvofiH7T4k8LaXp%2Boa/YR2k22zgvmuBa7pinlF3%2ByzHy1cyKoRmVVkjLfJOofsz%2BIPFegeKfjb/wAFIvF/wz8J%2BBbf9nu5%2BHUlx4f8QTLay6beyQyXmq3k17BbpYOTBbCG2QzCAmT/AEiQsuOw/wCCPngP4u2f7I9r8f8A9pDUDf8AxJ%2BL15H4n8V6g9nJbtJCLSCy01fKl%2BeH/iX2lpI0TYKSzTZAYtkA%2BqqKKKACiiigAooooAKKKKACiiigAooooAKKKKACiiigAooooAKKKKACiiigAooooAKKKKACiiigAooooAKKKKACiiigAooooAK8R0j/AIKMfse6ld69Z6n8Urzw83hzw5c%2BINQk8a%2BEdV0GObSbd0jnv7WTUrWBb63R5IlaW2MqAyxjOXXPtN7FczWcsNndCCZ4mWKYx7/LYjhtp64POO9fmJq//BHL9uX4v6t4X1z43fHHQ31vw14P1Cz1DxRqHxW8TeJx4h1v7ZpV9a6idLvoobLSbaS50xfPsLIBRHJtWWQKgUA%2B2X/b/wD2YbX4aN8WNY8QeKtK0ttcg0axs9c%2BGWv2GqanfzIZIYLLTbixS9v2kQM6/Z4ZAyo7AkIxHReA/wBqz4H/ABH1%2By8J%2BHPEOqQ6vf8AhSfxJDpGteFdS0y7TTYbv7JLLLDeW8UkDrP8hhkVZe%2BzbzXk3xO%2BDn7bvxib4e/G3XPBvwq0P4h/Cjx1NrHh/wAM2vjjUr/Rdcs7jSbvTLmO4vn0qGaxmKXskkbpa3AjMQU%2BYJGxV%2BJPwG/bg1/4y%2BHf2mvA%2BjfCu08WX3ww1XwX4x0LUvFepSWGkLcX8N1a39lcJpwk1AxCN1kt5YrQSlxiWLHIB3Gk/wDBRv8AZA8R694F8LeFfiNqus6n8SfBuleLfBunaJ4H1m9nvND1F9lrqMiQWjNa2%2B7HmSTiNbcMpm8oMCdj4a/tufs3fFf4jXPwn8M%2BL9Ws9ft9LudThsvE/gzVtEW/sbeRI57uyl1G1gjv4I3liDy2zSIvmISQGUnyj9hT9hL4sfsw6/8ADjWfHniDw1dnwd%2Byl4R%2BGN%2B%2BkXM8rNq2lvM1zNF5kEe61bemxmKu235o0wK8a%2BGn/BKv9sbxP8UfC/ib9qb4w2eqRaf4A8V%2BF/GniaD4v%2BJNavPEUur2KW39p2umX0Men6EcqWNpaKUXKgTOI1WgD6l8J/8ABRf9kfxrosfirQfHeuf2Hcarpen6f4lvfh/rdrpWoy6lex2VlJaX09mlteQS3M0UYuIJHhBlQs4VgT6X4W%2BLvw88a/EDxT8LvC/iH7XrnguSzj8T2iWkwWxkuoPtEEZlZBG7tCVkKIzMiyRlgokTd8w%2BOPAnxF8K/wDBPbxp8CP%2BChnif4VeCPAWg/DSLQLb4meHfFt2GadI0trXUntLqzgTTZlmFvJDBHcXTGcoiOTtDdr/AMEr/h98WPDf7ImlfFX9oqwS3%2BJ3xYvpfHXxEhW3aL7Pf36xmG02N8yfZbGOys9pyQLXBoA%2BjaKKKACiiigAooooAKKKKACiiigAooooAKKKKACiiigAooooAKKKKACiiigAooooAKKKKACiiigAooooAKKKKACiiigAooooAKKKKACvF/j14/8A2i/%2BGi/AvwI%2BAvjPwV4fTX/BXiXXtX1Pxf4Lu9aJOnXeh28MMMdvqVj5Yb%2B1JWZmZ8%2BWgAXkn2ivCviLrSWX/BSr4Q6LIoxe/BP4hsjZ53R6t4NOPyZj%2BFJtLcuEJVHaPZv7tWX/APhB/wDgoX/0dB8Gf/DD6t/81FH/AAg//BQv/o6D4M/%2BGH1b/wCaivZqKZB4z/wg/wDwUL/6Og%2BDP/hh9W/%2Baij/AIQf/goX/wBHQfBn/wAMPq3/AM1FezUUAeM/8IP/AMFC/wDo6D4M/wDhh9W/%2Baij/hB/%2BChf/R0HwZ/8MPq3/wA1FezUUAeM/wDCD/8ABQv/AKOg%2BDP/AIYfVv8A5qKP%2BEH/AOChf/R0HwZ/8MPq3/zUV7NRQB4z/wAIP/wUL/6Og%2BDP/hh9W/8Amoo/4Qf/AIKF/wDR0HwZ/wDDD6t/81FezUUAeM/8IP8A8FC/%2BjoPgz/4YfVv/moo/wCEH/4KF/8AR0HwZ/8ADD6t/wDNRXs1FAHjP/CD/wDBQv8A6Og%2BDP8A4YfVv/moo/4Qf/goX/0dB8Gf/DD6t/8ANRXs1FAHjP8Awg//AAUL/wCjoPgz/wCGH1b/AOaij/hB/wDgoX/0dB8Gf/DD6t/81Feo%2BMxv0MQMTsmvrSKUA43I9zGrL9CpIPsa8x1/9qD/AIJ%2B%2BFNdvfC3in9oj4Oabqem3clrqOnah4u0qGe1njYpJFJG8oZHVgVZWAIIIIyKyq16FBJ1JqN%2B7S/No7sDleZ5pOUMFh6lVxV2qcJ1GltdqEJtK%2Bl2kr6XvoM/4Qf/AIKF/wDR0HwZ/wDDD6t/81FH/CD/APBQv/o6D4M/%2BGH1b/5qKr/8Nf8A/BOD/o6L4I/%2BFto//wAdq3oH7UH/AAT98V67ZeFvC37RHwc1LU9Su47XTtO0/wAW6VNPdTyMEjijjSUs7sxCqqgkkgAZNZLHYFuyqw/8Dj/8kehPhXimnBznl%2BISSbbdCukktW23QSSSTbbaSSbbSTYz/hB/%2BChf/R0HwZ/8MPq3/wA1FH/CD/8ABQv/AKOg%2BDP/AIYfVv8A5qK0f2q/iX8Kv2UP2b/Gv7SXin4XLq2n%2BCvD1xqt1pukaIJri5WJc7EWONiMnGXI2ouXcqqsw5/Sf2s/2P8AXPG8vw10vw1r8viG28OLr2oaL/wprXVutPsHju3iluo208NatL9huVijmCSTPGI41d3RW6jwS/8A8IP/AMFC/wDo6D4M/wDhh9W/%2Baij/hB/%2BChf/R0HwZ/8MPq3/wA1FUtM/ac/Zg8TSeHf%2BEV0ywQ6z46m8K3th4l8Jajo%2Bo2N9Ho11q5hayubATJKbW3WZVuFt43hk8xZWYxRzN%2BCn7X/AOwv%2B0Fo03iP4beJtL/s6Lw/p%2Bupf%2BIvCN3osFzpd8zLa3sEmo20C3NvI6lBLEXUPhCQxAoAv/8ACD/8FC/%2BjoPgz/4YfVv/AJqKP%2BEH/wCChf8A0dB8Gf8Aww%2Brf/NRTf2jfiI3wr1/wf8ADT4QfADw14u8Z%2BNr28TStL1rVV0ixgtbO1a4ubme6SzunQD9zEqrC5aS4jzsQO6zeBfiFYfG/wDZa8P/ALQnwE%2BBOg6lqnijQrHUdK8M%2BJ71NMjhacx%2BbDc3UVtcmIwBpNxjil3NEQoO4GgCP/hB/wDgoX/0dB8Gf/DD6t/81FH/AAg//BQv/o6D4M/%2BGH1b/wCaivEfHX/BQ/QfA/gvwrf658BvhToWta18VNc8Ca1P42%2BJ0ek%2BHdPvdMgupZJYdVOlytcpI1t5KK1tC/msyMFaMg9p4p/as0nw/wDtk%2BH/ANkIfC/4N2l7qfg3Qdfu7zxH8TV0%2B6vBqF7qNvLb6PZ/2XIdVeBdOeTJkt9/nxAiPJYAHdf8IP8A8FC/%2BjoPgz/4YfVv/moo/wCEH/4KF/8AR0HwZ/8ADD6t/wDNRXl/w%2B/bn8F/EH9sXUf2TdN%2BAfg/7XZ6zrWmtaQeKIpPENh/Z8XmDUNR0g2a/YdNuiUW3u/tEvmfabU%2BWPOOzrfgt8Xfif8AGn4NeKPEelfsj%2BBLLx34Z8dXvhqfwrceNy2mO1tNGrznUhpXmKvluW2raOdy7QSDvoA6P/hB/wDgoX/0dB8Gf/DD6t/81FH/AAg//BQv/o6D4M/%2BGH1b/wCaivMtX/bD1W2/Z30j49aL%2ByP4UvFg%2BKn/AAhPjmxfxaqQ6ZKniJdBlurC4XT3/tJBcMXRXjtiVVg5icFR0fxG/al%2BHfhr9rbTf2TfCPgb4YPqXl6bLrc3jPxxBolzILyWQLb6VaCznk1S6jhhaZ4swIBLbr5pMjeWAdV/wg//AAUL/wCjoPgz/wCGH1b/AOaij/hB/wDgoX/0dB8Gf/DD6t/81FeV/CT9urwn8Xv2p9e/Zj0D9nvwc9/pV14ltlsLXxZFLrmnvpNytulxq%2BmGyX%2By7O%2BLJJaXHnTebFPA%2BweYQvZfBf4t/E744fAK/wDHvhr9krwFbeN9L8dax4av/Ct743YaZE%2BnalPZTT/2kulGVlPkFwosycuF6AvQB0X/AAg//BQv/o6D4M/%2BGH1b/wCaij/hB/8AgoX/ANHQfBn/AMMPq3/zUV5tdfthXkvwG8CfH3QP2TPDF1puufFq18CeNYZvFKR/2NcS%2BLYfC5u7B1sHGqQm7kaeMt9l8y3VWJRnCDpPjp%2B0XovwL/aM8E/BfV/hF8OL%2By8dazaabo9paeMlHimbzmKy3kWiHT8TWduRvnnF0PLiSSQr8m1gDpf%2BEH/4KF/9HQfBn/ww%2Brf/ADUUf8IP/wAFC/8Ao6D4M/8Ahh9W/wDmorivCX7Sl/4q/aW8W/sp2PwK%2BFOoeKdD8K32tWKeHPiIdQisWhuLaK2tNdA0lJNFnulullhVUut6W92V3CEF%2BW0T9s/x5enUfCmrfscfD2LxQ/xqX4a%2BFhZfEKSXRNT1BNFk1a7nlv5NGiltooVhuLTC2szSXcJiA5DUAevf8IP/AMFC/wDo6D4M/wDhh9W/%2BaiqHgfxx%2B1Z4O/as8OfBH43fEf4e%2BJtG8TfD3xDrkM3hX4eX2i3VpdabfaJborPcavfJLG6apKSoRGDRIQ2Mg6PwK%2BKfw7/AGi/2aU%2BOvg/wbpmmTumq2s6afJFOtnqWnXdzY3SQ3MaL50aXVrMqTAL5iKrbV3bQ3xx/wApC/hf/wBkZ8ef%2BnbwhQB7NRRRQAUUUUAFFFFABXzj8JvFX7d/x10fXvHfhf43/CTQNLt/iF4q0PS9Kv8A4P6pf3EVrpevX%2BmQtLcJ4igWWR47NXZlijXc5AUACvo6vGf2D/8AkiGuf9lm%2BI//AKmut0AH/CD/APBQv/o6D4M/%2BGH1b/5qKP8AhB/%2BChf/AEdB8Gf/AAw%2Brf8AzUV7NRQB4z/wg/8AwUL/AOjoPgz/AOGH1b/5qKP%2BEH/4KF/9HQfBn/ww%2Brf/ADUV7NRQB4z/AMIP/wAFC/8Ao6D4M/8Ahh9W/wDmoo/4Qf8A4KF/9HQfBn/ww%2Brf/NRXs1FAHjP/AAg//BQv/o6D4M/%2BGH1b/wCaij/hB/8AgoX/ANHQfBn/AMMPq3/zUV7NRQB4z/wg/wDwUL/6Og%2BDP/hh9W/%2Baij/AIQf/goX/wBHQfBn/wAMPq3/AM1FezUUAeM/8IP/AMFC/wDo6D4M/wDhh9W/%2Baij/hB/%2BChf/R0HwZ/8MPq3/wA1FezUUAeM/wDCD/8ABQv/AKOg%2BDP/AIYfVv8A5qKP%2BEH/AOChf/R0HwZ/8MPq3/zUV7NRQB4z/wAIP/wUL/6Og%2BDP/hh9W/8Amoo/4Qf/AIKF/wDR0HwZ/wDDD6t/81FezUUAeM/8IP8A8FC/%2BjoPgz/4YfVv/moo/wCEH/4KF/8AR0HwZ/8ADD6t/wDNRXs1FAHjP/CD/wDBQv8A6Og%2BDP8A4YfVv/moo/4Qf/goX/0dB8Gf/DD6t/8ANRXs1FAHjP8Awg//AAUL/wCjoPgz/wCGH1b/AOaij/hB/wDgoX/0dB8Gf/DD6t/81FezUUAeM/8ACD/8FC/%2BjoPgz/4YfVv/AJqKP%2BEH/wCChf8A0dB8Gf8Aww%2Brf/NRXs1FAHjP/CD/APBQv/o6D4M/%2BGH1b/5qKP8AhB/%2BChf/AEdB8Gf/AAw%2Brf8AzUV7NSO6RqXdgqgZJJwAKAPGv%2BEH/wCChf8A0dB8Gf8Aww%2Brf/NRR/wg/wDwUL/6Og%2BDP/hh9W/%2Baiu38S/tA/AXwY7R%2BMPjd4Q0pk%2B%2BupeJbWAr9d8gxXF6n/wUN/YN0iVoL79sr4Yh1%2B8sXjexkI9vklNc08Zg6TtOpFesor85I5KmPwFF2qVoR9ZxX5yQz/hB/wDgoX/0dB8Gf/DD6t/81FH/AAg//BQv/o6D4M/%2BGH1b/wCaiqEn/BTr/gntG5Rv2xfABI/u%2BIYiPzBpv/Dz7/gnp/0eJ4C/8H8f%2BNZf2nln/P8Ah/4HH/5Iw/tnJ/8AoJp/%2BBw/%2BSNH/hB/%2BChf/R0HwZ/8MPq3/wA1FH/CD/8ABQv/AKOg%2BDP/AIYfVv8A5qK5/X/%2BCsX/AATk8N232rUf2u/CMi4ziwuZLtv%2B%2BYEc/pXIyf8ABcP/AIJohmNp8eNQuo1OBPbeB9YZGPfB%2ByjNZzznJ6btLEQX/b8f82ZVOIMhpO0sXTT/AMcf0bPTv%2BEH/wCChf8A0dB8Gf8Aww%2Brf/NRR/wg/wDwUL/6Og%2BDP/hh9W/%2BaivHtc/4Lyf8E3dHtzPa/E7X7/A5W08F6gpH4zRIP1rhdd/4OQv2DdMcxaR4K%2BJOqN0RrbQrOND9TNeIQPwrmqcSZBS%2BLFQ/8Cv%2BSZ24TG0Mx/3NSrf9eqdWr/6ao1D6b/4Qf/goX/0dB8Gf/DD6t/8ANRR/wg//AAUL/wCjoPgz/wCGH1b/AOaivjbX/wDg5Z%2BClupfwr%2BzN4kvB/D/AGh4lsLUn6hGlxXO6X/wcuaz4gvGs/DH7AOp6kwbAWy8eGVj%2BCac3865JcY8Nxlb6wn6Rk/yifQ0eG%2BL8TTdSjk%2BNnFdVgsXb73h4I%2B6/wDhB/8AgoX/ANHQfBn/AMMPq3/zUVb/AGVviN8afGGsfFDwJ8dNf8L6tqngH4hRaHZ6r4T8NXOk291ay6Do%2Bpqz29xe3jLIsmoyoWEu0rGh2qc5%2BKT/AMFyf2zfFUQPw7/4JN%2BM5Cw%2BR3n1K8DfQRaav8699/4JK/F34tfHfw58aviv8c/hJdeBfFOrfGZTqfhW9tJ4JbER%2BFvD0MW5LhVkXfFHHJ8wGRJkcEV34DPMvzOs6WHcm0r6wnFW06yil12OOvluc4OHtMXg61GN7Xq0pU1ftacua%2Bj%2BxbTdbP60ooor1zkCiiigAooooAKKKKACiiigAooooAKKKKACiiigAooooAKKKKAMD4pfE3wl8G/AWo/Evx0%2BpLpWlRo92dI0K71O5IZ1jUR2tnFLPMxZlG2ONjznGATWZZ/H34W6p8C9O/aS0XWb7UfCGr6Baa1pV9pmg3t1cXlldRxyW7xWcULXLu6yx4iERky2Nucir/xc1rxB4f8AhprWq%2BFfh5q/ivUUsWW08PaDcWUV3eM%2BE2xvfXFvbqQGLHzJUGFOCThT4H%2BzH4i/aj%2BBn/BOPwb4Hh/Yr8VT/EbwB8IdM0q28Hal4o8Pwx6pq1laQ2gt1u4dRmijjd0MolYjEQOQJMREA9x%2BDXxz%2BGfx98N3fin4Y6zd3EOnanJpuqWmqaLd6be6feRqjtb3NpexRXFtJskjcJLGpKSo4BV1J8L/AGhdZ/sv/grP%2BzNY78f2j8MfiZb49cSeGJcf%2BQv0rtP2DPAvjfwd8JtW1f4ueAPE%2Bi%2BOfE/imfWfHN54qbSxLrGpSW9vGbmCPTL69hgtI4YoLOCJpTKkNkgfef3snz/%2B1HoniTwP/wAFtf2S/EGs/FvxBrlh4i0X4lQ2eiarb6clrogGn6UfLtWtrSGd1dtm77TLOw8tdpX5t3LjJ%2Bzoc3nH8ZRX6nu8OYb63mnsu9Os/wDwGhWl/wC2n3dRRRXUeEFFFFABRRRQAUUUUAFFFFABRRRQAUUUUAZfjD/kEw/9hWx/9K4q4XX/ANib9jLxXrt74p8U/sj/AAx1LU9Su5LrUdR1DwDp0091PIxeSWSR4SzuzEszMSSSSTk13XjD/kEw/wDYVsf/AErir528f/8ABZT/AIJufC/x3rfw08dftHfYdb8O6vc6ZrFl/wAIhrEv2e6t5Wilj3x2jI%2B10YblYqcZBI5rhx1bLaMIvGSgk3pz8tr%2BXMnrbsVHiSpw3%2B9hjXhufS6qypc1tbXjUp3tvZt23t1PRP8Ahgf9hX/oyz4S/wDhudM/%2BMVb0D9ib9jLwprtl4p8Lfsj/DHTdT027jutO1HT/AOnQz2s8bB45Y5EhDI6sAyspBBAIORXjP8Aw/N/4JZf9HRf%2BWTrn/yFWv4B/wCCyn/BNz4oeO9F%2BGngX9o77drfiLV7bTNHsv8AhENYi%2B0XVxKsUUe%2BS0VE3O6jczBRnJIHNefDG8MOaUZ0b3VrezvfpbTe9rFf8RNxNf8AdPPJy5tLfW6rvfS1vrDve9rWd72s72fsv7TXwTsv2k/2dPHf7Peoa/LpMPjfwjqGhvqsEAlez%2B1W7wiYISA5QuG2kgNtxkZzXl/iL9ib4heP9B%2BLsvj34%2B2sXiT4t/DvTfDN9rXhPwrNpsOmyWY1ELcxRSX08jI4vwGiMwOImxIPMGz1z46/GHw5%2Bz78HvEfxv8AGWmajdaN4V0qXU9ZTSoUknis4hunmCu6BljjDysM52xttDNhT5f8Z/8Agoh8Hfgtpfi7XNU8N6nqFj4K8W2fhvWNRHiDQdKtHv7jTYtRCQ3Gr6lZwybIJ4AwD798wVFfZIU94zPOvgj/AMEpovhF4ih8TQ/EnwhYbfi4PHL6D4C%2BF8egaRAw8I3nhw2dtapeSmEN9qF20rPIzOjKR84dPQvgb%2BxR4h%2BAUfgS78I/Fyyub/wN8DdK%2BHVvLqHhd2hu/sckDG%2BaNLtWXesLAQhzsLg%2BY23a3KWv/BR3SfFPj6O/8E3FpceAtc8GfCTXfCOqxaFJPeXX/CYeINW00rMj3cKxxiKzsyrAF4GkmdkucLBVjwb/AMFGj8TP2ivB/gjwh8H/ABNZeAfEfgrxZr9p4s1TQlnbxDDpNxp0Mc%2Blx2VzNOY3%2B1St5U9uk8waBoUIJyAen/tG/ALxx8VPEHg/4mfB/wCJ%2BneEfGfgm9vH0rVNa8NPq9jPa3lq1vc209ql1au4P7mVWWZCslvHnehdG5y5/ZS%2BL3gr9j5P2T/2cf2jofBs2neB9O0Hw/42vfCbahqNncRuRe6hIEvIEkknh4QIIvImZpd0o2xLu/tSfGj4gfD3RvAvhb4OJpEPij4k%2BN7fw7oWoeJ9LnuLLTc2V5qE9zPaxzW8s221sLgLEJYiZGQFlGai/Z5%2BMPxZ%2BPf7Nd94niTw7pnjzTtc8ReGbmd7GeXSf7V0nVrzSnulgEwmNtJLZmdYfO3hJAhk3AvQBieEv2a/2ifht%2BzzoPwM%2BF/xY%2BE%2BinRoJ7F5P%2BFOX9xp72DoAqJay68ZPP3F3knluJhMZGLx7iWOFrv7BHjW8%2BCHgH9kvQfjjpFv8LvBuheGNNurbUPA73XiK%2BGizQSxSRamL5ILZnNtDyLJ2jJkMbKWQx8T4j/bP/a80r4b%2BKYvDlv4Y8S6r4U%2BNln4Nu/HnhD4Sa7rOnXFgbGGe/uo9Fsb%2BW8eWzuJJLOXy7qRBJA%2BSrLJFHo/tE/8FCfGHw//AGdPCXiz9n3XvB3xC8U6tZ2mra5rkei3dppFnoy38NndXTWZumnt5pJ5Raw20k5kWUTu28Wk0dAHWeCP2EPFvhT45aR8QNS%2BOFjf%2BGPDHxG8TeN/DOiDwgYtVTU9biv47iG71P7WwurOIalciKBbeJlWK0VpGFsucTw9%2BxV%2B2foXwM%2BKfwutP22vCGl678R/FUmt2fi3wz8Ir2yl0U3UytqESRvr0rP5kKiKGVJYpLcs0gaRtmzM1r9vP406Z%2B33/wAM3DRtCi8NL8RbXwwttP4R1HdPbzeH11Q3/wDwkAuP7NhuhMxhXR3iN48aLKPklVh2Pw1%2BMH7WurfGnx5%2Bzb4i8YfDTXfEGh%2BBbHWLTxL4f8IahaafoGpXcs6Q6dqFvJqM73TNHEtwpjmt3MYy0cYkicgFT4k/sVfHPxX%2ByB4a/ZY8BfGb4Z%2BEj4f1rSboXmm/CK%2BfThaaZf299aW0FkddEkLeZaxLJK9zLvUvhUZgys%2BL3/BPvxF8W/iDf%2BN7n4u6Dpy%2BNtO8KwfFWO18CM1xqs%2BhXr3lvNps73xOmb3kZCJVvCiLGY2SRWlflL/9tL9qu8/Yz%2BDPxs0TStEGv%2BNPF8umeP8AWdE%2BEmu%2BJbLSLGKy1eRryHSdNvPtgV7mxs4ctO6x/ajuLcEYP7UX/BUjXf2f9CtPiFY/FP4aXXhTSvg5p3jpdXu9BvAfia7y3QvrDQFW%2B/0OWCC1Sdlk%2B2tGuo2%2B9QkckpAPUPhn%2Bwf42%2BH/AMXtL8c3nx207UdD8J%2BI/FmveCtMPgxotRhvtenuJrhdQvxekX9vE11KEiSG3ZgkBkkdogxw9G/Yc/bG0r9mnx58B7b9tfwlp2p%2BNvG99r3/AAlPh34TX1lJZQajqM99qdmEOvPJ%2B984wRzxTQy28ZZlZpSksdHTf28/jTdft%2BJ%2BzbeaNoUPhyX4iXXhgWcnhHUUdbeLw%2B2qJfpr5uP7NnumlVYzo6RfbEidpm%2BSJ2q7%2BxN%2B07%2B1H%2B058E72Hxj8QvBOgfFyTwxomp3HgzWvgl4g0JvCj3W43BuLbUNSE2rQbkliint2t4mktnHmNnCAG98Wf2N/j546/Ze8Dfs7eAfjV8MvCD%2BD/E/h/VnuNO%2BD162mNHomsWWqabaWtiuuo1pGHsIIpd0829C%2BzySQV6X4t/s4fHT43eKfDdn47%2BO3hiLwboXijQfEc2kaP8Pp4NVm1DTJ4LtVj1CTUpEgtpbmAF4/szSGCSSAzEOXrxW//wCCg/xvtfh14fvNc8d/C3wxa6j8SfEPhub41694fvT4TvINNjcwywWp1GN4nup1ktk33zIXs5jG02%2BJDyviH/grb8ZdX0r4c%2BOfAvgnRNL0rxT8OPCXiW907VfCOqagtzdarqk1jd2U%2BpwTRW/huG3EKtHealEY7kysqLut5UoA%2BnPBv7Ovxhl/aPsf2h/jT8atA1ybw94Z1XQvC%2BmeGPA8ukBLa/ubKeV76WXULo3ci/YIAnli3jBaVjGSyeXiaf8AsT6noP7G%2Bn/sv2niPwJ4k1J76XUvFesfEr4aHXNK1/Urq8lv9Qu5dLF9Btaa8nlnQG4byiVGZMZOh4R%2BM3x5j/bE%2BI/wL8az%2BFL3w/pHw%2B0rxP4NGjaJdQX0QurvU7ZoLyWS6kS5ObFGBiihx5hX5uDXD/sU/tH/ALTX7UfwEuT4l%2BK3grQPi2vh/Q9R1XwtrHwJ8QaM3hSS7jMk0V1p%2Bo6tHc38TNHcww3UUkERe3kIMuxkAB6r8GP2fvDf7L37LI%2BCnhe9%2B1Q6dp%2BqXd5eizjtlur68nuL28nWGMbIFkubiZ1iT5Yw4QcKKzPHH/KQv4X/APZGfHn/AKdvCFZP7IHxk%2BMH7QX7H198YfjHf%2BGryXWrrXT4a1DwroVxpttqGhxXNxBYXvkT3d0ym5giS6GJWGy4QdQc63jj/lIX8L/%2ByM%2BPP/Tt4QoA9mooooAKKKzfGHjLwh8PPC9/448f%2BK9N0PRdLtmuNT1jWL6O2tbOFRlpJZZCEjQDqzEAUAaVFc5pnxh%2BEetfDIfGvR/il4cu/Bp0978eLbbXLeTTDaICXuPtSuYvKUK2X3bRtOTxXO6t%2B1/%2ByXoPw2034y65%2B1F8OrLwfrF01tpHiu78bWEem306lg0UN00oilcFHBVWJGxuODQB6LXjP7B//JENc/7LN8R//U11uvYbC/sdVsYdU0u9iuba5iWW3uLeQPHLGwBV1YcMpBBBHBBrx79g/wD5Ihrn/ZZviP8A%2BprrdAHs1FFFABRRRQAUUUUAFFFFABRRVXV9b0Xw9Ytqev6va2Nsn37i8uFiRfqzEAUm0ldibSV2WqK8O%2BJn/BS39gb4RLKPG/7WfgpJYQfNtdL1hdRnQjsYrTzHB9tua83H/BWfSPiM3lfspfscfGL4nI/MOs2fhVtN0lx2/wBKuyuCewKCvPq5vllKXK60XLtF8z%2B6PMzyq2fZNQnySrxcv5Yvnl/4DBTf4I%2BuaK%2BSJP2ov%2BCr3jRDb%2BB/%2BCZmh%2BGPN%2BWDU/Gfxas540J6O9vaoJMDuoOT2qGH9iT9vP47SDV/2r/%2BCiGv%2BGoz88Xhf4EW40WC0f2vpVa4nXP8Mi9uvNZf2pKrph6E5vzjyL752/CLMf7alW0wuGqVH5x9nH/wKpy/hFn17TLm5trOBrq7uEijQZeSRwqqPUk9K%2BMfG/7Bk/wv09rrxr/wWC%2BN/h3Syv7%2BbxH8RLOJvL77Z5o12H/a7V4H4w8Pf8EJtC1xNP8AjF%2B0Z45%2BOmvBiYxfeLdZ8QSyMOrB9PCQt%2BLYOa5cRnOIw2lWnCm/79aC/CKcn9x9Dk2QeIvErtlGS1a1t2m5RXrKnSkvvkj9EfFf7U37MfgTd/wm/wC0Z4E0fZ98ap4usrfH18yUV5l4y/4K0f8ABOLwLDJNrX7XHhS4EY5XRppdRY/QWiSFvwr5Y8M%2BKP8AgmPYItr8BP8AgjZ8RPG142FszcfB8zWrt2Mk9/IwjX/aKnFeleCfAn/BRzxHPHrPwM/Yd/Z4%2BA2nxfNbQeJYxqGpMP4SP7MjSOPjkqwDDp61yf21j62lDkl/ghWqfi1Tj/5MfQ/8Qy8S6S5s0lgsvj3xFdJ/KEalSpL5Ul5tHXj/AIK8fDzxmfL/AGef2Tvjj8SFf/U6h4f%2BH0sNifQtPcMmwH1K0o/a0/4Kg%2BOD5nw7/wCCYNrolof9Xe%2BN/inZRO/1t4U3p%2BJNOb4Uf8FmNdH2TU/2sfg7oSScPd6J4FubqWIeqrcNtY/Wm/8ADub9pnx7z8ff%2BCpvxb1QP/r4fAdvaeGI29VxbrJx2%2BlHPndf/n78o0aS%2B%2BUqkvwF/wAQ8wdP3sy4sw8V2w9KrVfy5aC/GomQan4//wCC00lm2pyfD79mrwpbL9%2BXxN4i1eZU%2BrQYFeaeMf2tf26vCzvD8Qv%2BChn7GfhiZfvW1hqV1cTL9I5Zd5/KvW9L/wCCLf7BL3q6x8R/A/iPx3qKdNS8a%2BNtRvJSe5IWZEOfda9M8Hf8E9/2F/AKr/wi/wCyN8PIXT7lxceE7W4mH/bSVGf9aP7OzyrvUcfWtN/hClBfiH%2BrPhZhv42a5niX/wBO44ehF%2BjqSqSt/wBup%2BR8GeJv%2BCiXxQgl%2Bwa5/wAFrfhzp0rnaq%2BB/gXcaxIT6JujZD%2BJFZP/AAvX4r/EP/Vftd/tnfEJZP8Alr8LfgnBo6Pnup3DYPfHFfqr4a8B%2BB/BkXkeD/Bmk6SmMbNM06KAY9MIorVo/wBX8dU/i4l/%2BVH/AOlVUvwD6r4SUPhyvGYj/r/mVSKf/buHowt/4Ez8lR8DvjB44/eWP7L37bfjKV%2BknxE%2BNdvpG72IKfIPbtSr/wAEzfj/AOPGA1T/AIJk2MKE5C/En9pa%2B1NAfVl0%2BSMn8K/Wmij/AFSwc/4lRv8A7dgvzU3%2BIfXfD2j/ALvwtg/WtPGYh/P2mJjF/OJ%2BYnhn/gkR%2B1FZKslr%2Bzd%2Bx/okf8EE2ka/q8ij/aa8dwx/Su10v/glr%2B1wIhbJq37L3h1P7%2Bhfs%2B2Vww9/36DJ%2BtfoNRXTT4XyqmtOb/wJL8oI66fFuEwythskyyn25cvoO3/gyVT8bnwZH/wSC/aA1hdniz9tnwlFEf8Al28Pfs3eHLLZ7CQKWP1Ipf8AhxD8PNd/5Hv9rT4h3G77/wDYFlpWl5%2Bnl2rYr7yorX/VrJX8VPm9ZSf/ALcjf/iIPEMP4FPDUv8Ar3gcDD8sHI%2BKfDv/AAQd/Y60Jt9z8RfivqLfxteeOihb6%2BRFHXS2n/BEn/gnIZkuvEvwa1XX5k%2B5LrnjbVZiPwFyqn8RX1jRW0OH8jgrLDQ%2Bav8Am2VS8TfEHDprD5nVpJ7%2BycaP/pmlRPBPC3/BLf8A4J4eDyraT%2Bx/4Hm29P7U0hb78/tJkz%2BNd/o/7LP7Mfh2NYvD/wCzl4DsUT7i2fhCyiC/QLEMV3lFdlPAYCiv3dGC9IxX/tp4%2BN4t4szKV8XmOIqf4q9aX51bfgY2nfDn4e6Pj%2ByfAejWuOn2bS4Ux/3yorXiiihQRQxqijoqjAFOorpjGMdlY8OrXr13epNyfm2/zbCvGf2X/wDkt/7R3/ZZrH/1CvC9ezV4z%2By//wAlv/aO/wCyzWP/AKhXheqMj2aiiigAooooAKKKKACiiigAooooAKKKKACiiigAooooAKKKKACiiigAooooAK%2BDP%2BClmq/2F/wVY/Yg1Tft3ap4xtc/9dxokWPx3V951%2Bdf/BY29l0f/goR%2BxLrycJaePdR%2B0N/difVPDkbH/x%2BvMziXJls5duV/wDk9M%2B48N6CxXGmGoP7arx%2B/C4v/JH6KUUUV6Z8OFFFFABRRRQAUUUUAFFFFABRRRQAUUUUAZXjD/kEw/8AYUsf/SuKtWob%2BwtNTtHsb6ASRSDDKSR3yDkcgg4II5BFUP8AhD9J/wCfvVP/AAeXf/x2gDVorL/4Q/Sf%2BfvVf/B5d/8Ax2j/AIQ/Sf8An71X/wAHl3/8doAs69oWj%2BKNDvfDPiLTYrzT9RtJLW%2Bs7hN0c8MilHjYd1ZSQR6GvnXwT/wTB%2BFHw0%2BEfgP4YfDz41fEfStQ%2BH2t6nqml%2BOV1PT7nW7yW/SaK6F1Jc2UkEm6KbyldYUljSGIRum0k/QP/CH6T/z96r/4PLv/AOO0f8IfpP8Az96r/wCDy7/%2BO0AeDeBv%2BCYnwD%2BH/hrw94V0Txb4wktvDXhr4eaHYNd6lbPI9t4N1W71TS2kb7ON0ks95Ktw3AdFQRiFgXa18Nv%2BCd3gX4U/ETS/iB4S%2BOvxEVfC/hvXdC8B6FcXmmyWHhaz1Wa2mmS0Q2O%2BUxPaQeSbp7jYqbDuT5a9v/4Q/Sf%2BfvVf/B5d/wDx2j/hD9J/5%2B9V/wDB5d//AB2gDmPjn8A9E%2BO/g3S/Dmr%2BNNd0TVNA1q11jw94s0B7VdR0zUIAyrcxCeCW3YtHJNE6SQvG8c0ilMHjB0P9kzTvB/wKuPgJ4B%2BN3jrQLK80XWba817SruxGqzalqly13da39oktG2agbiW5lVkVYQ91IfJO2Ly/Rf8AhD9J/wCfvVf/AAeXf/x2j/hD9J/5%2B9V/8Hl3/wDHaAPJvhj%2Bxprfwc%2BA%2BnfAL4bftc/EjSrDRp4f7F1a10nwut3Y2scTJ9jVBov2aSNy3mO8kLzNJ83m8kHmvH3/AASZ/Yb%2BKnwUs/g18Tfgto3iOayidY/G3iDQtPv9fLy6jJqVzJ9suLZ9hnu57mWRUVUzcyhUQNge/f8ACH6T/wA/eq/%2BDy7/APjtH/CH6T/z96r/AODy7/8AjtAHj1t%2BwB8KrD4sr8QtK8deK7PQE8Y23isfDW0msY9BGt29nHaQ3iqLX7WmxIYXEC3K2/mRq/lZzk/Zz/Ygv/2afBfibwb4V/a5%2BJ%2BsN4ne9u7jWPEVr4clv7fVLpi0mqiaLR4zcXQO0L9qE8KpHHGItiKg9h/4Q/Sf%2BfvVf/B5d/8Ax2j/AIQ/Sf8An71X/wAHl3/8doA8c%2BFP7EfiP4LfAPTvgD8Pv21/izaW%2BlatNd2PiKSz8LyaikEgYtYndopt2g813mDGAzh2x5uwBBJqv7BXgG/%2BFPhr9n2x%2BLHjew%2BHWh6TFp2seBra6sJLTxRAsvmuNRnms5LxvNbd5wguIBKrurgqxFev/wDCH6T/AM/eq/8Ag8u//jtH/CH6T/z96r/4PLv/AOO0AeRQfsHfD23%2BMX/C04vih40Gmx%2BNbnxhZ%2BBDeWX9j2uvz2klrJqCH7J9rLFZpZBC9y1uJZDIIgwXGX4k/wCCfNj428MeNrDxt%2B1l8WtS8ReN/CsHhqfx2t7o1nq2k6THO872tkLPTIbWLzWkkEkrQPMyuAJFKRlPcf8AhD9J/wCfvVf/AAeXf/x2j/hD9J/5%2B9V/8Hl3/wDHaAPM9K/ZT8U%2BHPglpXwR8Jftc/EbRbfRpVSy1rRtJ8MWt3HYLB5MempHHowtIbdFAKGKBJlKjEoA21yniX/gmT8CdXtrbw34W8ZeMfC3hZ/Bmi%2BE/Efg7QdQtTYeItH0qSZ7O1u2uraa5XAuJ0eS3mgllSUiR3wpX3f/AIQ/Sf8An71X/wAHl3/8do/4Q/Sf%2BfvVf/B5d/8Ax2gDzG3/AGRr61/ak1v9qeH9p34iC813w3FoU/hUQaENKgsoTcvbpERpf2sNFNdzzqzXLMXYBy8aiOo/Df7GllpMHjvVvE/7QnxC8SeKvH3hGPw1eeOdVm0uDUtL0%2BJbvyEsksbC3tIXjkvrmYSNbuzSOu8uqIi%2Bpf8ACH6T/wA/eq/%2BDy7/APjtH/CH6T/z96r/AODy7/8AjtAGNa%2BAvCvwr%2BBUfww8C6Uljonhvwkul6NYx/dt7W3tfJhjHsqIo/CuG8cf8pC/hf8A9kZ8ef8Ap28IV6ifBmhvhZ2vpkyCYrjVrmRG9mVpCrD2IIry7xx/ykL%2BF/8A2Rnx5/6dvCFAHs1FFFABXiH7f3hvxFrvwT0bVtE8Kalr9p4b%2BJfhXX/EGh6Pp0l5dXmm2OtWlzcGK2iVpLl4Vj%2B0iFFaST7PtRXcqp9vooA%2BLvDXw9tPiT%2Byf8W/D3i/QvHXhHTvE/xLv/HnhO2/4Vlql1d2drFrMF3ayvpot/Mma4vbN7yTTsLcvDdkPHG0hxyPg74oftI/s%2BfB74lfF3VPhj4p8WeKfjJ8a3k8Cahb/A7W47fQLJtA0uwn1e90S3jur%2BwtBLp11IttKfPuWeEO0ZuXki%2B/6KAPLPgH8NB8NP2OvBXwg/Z58Sz2Efh7wNpuk%2BFtV8eeFLsypHb20cUcl5pzvZTq5VMtCWgZScYUDbXPf8E6bfxLafs3X1r4y1axv9Xj%2BLfxDXU77TNOe0triceM9a8ySKB5pmhQtkhGlkKggF2xk%2B6V4z%2Bwf/yRDXP%2ByzfEf/1NdboA9mooooAKKKKACs3xf4y8IfD/AMO3Xi/x54p07RdJsY/MvdT1a9jt7eBf7zySEKo9ya%2BfP2u/26Nb8BeOrb9lH9krwjB47%2BNOtQb4dI3k2Hhu3OM3%2Bpyqf3UahgwjyGfK9N6bue8Hf8EstO%2BJPiC0%2BJ//AAUI%2BNWtfGvxJbuJrbRNQP2Pw3pknpb6dEQj4yVLSZDgAsgNeXVzCpUrSo4OHPKOjbdoRfZvVt94xTa6tbHi1s1rVa8sPgKftJR0lJvlpwfZy1cpLrGCbX2nFuxZ8U/8FgP2aL7XJvBX7NHhXxr8afEETbH0/wCGvhma6ghbsZbqQJEqerqXAFUB43/4LE/H8/8AFI/CL4cfAvR5j/x9%2BLNWbX9YVOzxxWwFurdykoBHTNfVnhbwj4U8DaJD4Z8FeGNP0fTbZdtvp%2Bl2UdvBEPRY4wFX8BXO/G39ob4Ifs3%2BEn8c/HT4oaP4Y0xQ2ybVLwI85AyUijGXmfH8Eas3tWVTC4qUHUxmKcYrdQtTivWT5pfjE3weQ59nOKhh/bTnUm7Rp0IOLk30VlUqyfpb5dPnkf8ABNT47fEk%2Bb%2B05/wUy%2BLniMPzPp/gp7fwxZS/7DxWyvuX2yKc3/BG/wD4JseFYZPGPxO%2BHV3rr2qb7jWfG3jjUJlRe5ctcLFj6rWTH%2B0v%2B3F%2B3nMtj%2BxV4Hf4U/DmZhv%2BMHj/AEoPf6jF/f0zTX4ZT1WWb5WB6owxW1o3/BIL4DeKNUh8U/tX/FD4gfGrV4n8xG8d%2BKJjYwSf9MbSAokadfkYuvJrzI4bA4p3wuE9qv56rfK/Nc/PKS81BJ9G9z76XhPwbkTX%2BtWKhTrLehCMsZiF5VHKr7CjLvGdWU4/ahF%2B6c9N%2B1J/wRS/ZH1CPR/hxD8NG1tH2Wtp8O/Cceq300g/g86ziky/H8cg6da2x/wUa/aR%2BKP7v9l3/gmX8T9bik4h1X4gXFt4XtGH/PRTcFzInfjBPsa%2Bi/hd8BPgf8EbD%2BzPg78IPDPhaDZtZNA0SC0Lj/aMagsfUkkmutr0qWAzHl5faxpR7UqaX4zv/wCkno0cz8NMlhyZZk061vtYmvyx9fY4SFKPydZ%2Bp8kf2P8A8Fo/i1/x/wDjH4LfCSwl%2B7/Zen3eu6nDn%2B952LZiO2KB/wAEwfiP8RcT/tPf8FFvjJ4wZuZ9O8O6pF4d06Y991taq3HoAwxX1vRWn9jYWf8AHlOp/inJr/wFOEfwNf8AiJWfYbTK6OGwa70MNRjP/wAG1I4ir8%2BdProz5k8F/wDBHT/gnP4MvhrEn7Odprt%2BWDTX3irVrzU2mb1dLiZoz/3zivffAfwt%2BGXwr0z%2BxPhh8OtC8OWeAPsmg6RDZxYHT5YlUfpW9RXXh8BgcJ/ApRj6RSf32v8AifP5zxbxVxErZpj61ddqlWpNfKLnyrytBW6WCiiius%2BeCiiigAooooAKKKKACiiigAooooAKKKKACiiigAooooAKKKKACvGf2X/%2BS3/tHf8AZZrH/wBQrwvXs1eM/sv/APJb/wBo7/ss1j/6hXhegD2aiiigAooooAKKKKACiiigAooooAKKKKACiiigAooooAKKKKACiiigAornviv49vvhh8PNT8eab8PNe8Vz6bCsieHvDItTfXmXVSsX2ueCEEBixMkqKFVjnjB5CP8Aa3%2BFv/DIel/tpXdnq9v4V1jwXYeJLGwezR9RkivYIpba1EMbsrXMjTRRCNXKmRwoYj5qAPUK/OX/AILlf6B8c/gH4v6f8I9Fquo7/wC7t8ReD0z/AORK%2B3fgH8f9G%2BPWm68I/A2v%2BFdc8Ka%2BdG8U%2BFfFC2n27S7z7Nb3aI7WdxcW8iyW11bTK8U0ilZgCQwZV%2BJv%2BC%2BdtMfD%2BmazaLmfSfhL4ivoPYp4t8CZP/fJavKz3/kTYh9oN/dZ/off%2BFLX/ES8ng/t4inD/wAGOVP/ANyH6LUVHaXMN7axXlu26OWNXQ%2BoIyKkr1T4Fpp2YUUUUCCiiigAooooAKKKKACiiigAooooAKKKKACiiigAooooAKKKKACiiigAooooAKKKKACiiigAooooAKKKKACiiigArxnxx/ykL%2BF//ZGfHn/p28IV7NXjPjj/AJSF/C//ALIz48/9O3hCgD2aiiigAooooAKKKKACvGf2D/8AkiGuf9lm%2BI//AKmut17NXjP7B/8AyRDXP%2ByzfEf/ANTXW6APZqKKKACvk/8Aal/bF%2BKPxF%2BKlx%2Bw9%2BwGttqXxDKAeNPG8yeZpfgO1Y4aSZsFZLwjISDnDD5gSCoyvjt%2B1Z8Yf2uvifqf7G3/AAT11xbUadL9m%2BJ3xnVPMsvDMZ4e0smBxcXxGQCpxGehBDSRe/fst/srfCD9kH4WW/wq%2BD%2BiNDbiQ3GqapeP5l7q123%2BsurmXGZJWPfoowqhVAA8WpXrZpN0cNLlprSVRde8ab79JT2jtG8tY/PVcTXzmo8Pg5ONFO06q3dt4Un36SqaqOqjeescr9kH9jT4V/sdeBrjQPBbXWra/rM/2vxf401l/N1LX70kl555WJONzMVTOF3HqzMzaX7T/wC1r8Df2QfAY8e/GvxaLNLiTydI0i0j86/1a44xBawA7pXJKjsq7gWZRzXAftift0S/BnxNYfs4/s7eDh4%2B%2BNPiSHOheEbeT9xpkR/5f9RkBAt7dAd2CVZ%2BxUEuKf7Lv/BPqHwJ49/4ad/at8ct8TvjHdxgt4i1CL/QdAU5P2bS7cgLbxrkjzNodssQE3spXt%2BT/Ystgvc0cvsQ9esp9eVPreclfX9ayHg3JchyajmfEDdHDSV6GHp2VfEJN%2B9HmTVGg5XUsRUUnN8yowqzvOPI/wDCzv8AgqX%2B18PK%2BEPwv0r9nrwdc/d8T%2BPYl1LxJNEf44dOX91btzyk/PGQ1df8E/8Aglr%2Bzj8OfFi/Fn4uS6v8W/H7ENN4y%2BJV4dRljcHI8iB8wwKp%2B4ApZOAH4r6UoranlOHc1UxMnVmtnPVJ/wB2CtCP3N%2BZpi/ELNo4WeDyanDL8PJWlHDpxnOPariJOWIqX6p1KcH/AM%2B7aAAAMAYA6AUUUV6p8EFFFFABRRRQAUUUUAFFFFABRRRQAUUUUAFFFFABRRRQAUUUUAFFFFABRRRQAUUUUAFFFFABXjP7L/8AyW/9o7/ss1j/AOoV4Xr2avGf2X/%2BS3/tHf8AZZrH/wBQrwvQB7NRRRQAUUUUAFFFFABRRRQAUUUUAFFFFABRRRQAUUUUAFFFFABRRRQBz3xXHxBb4c6xF8K/Dujat4gls2j03T/EGuS6bZyuxCnzbmG2uniAUsQVhkyQBgA7h85%2BCv2Uv2nNU/4Jy%2BGP2N/iPpvgPRPEng/wLoNhpOt6H4rvdUsp9W0SSzkspJEl061dbeWSyjeQDLoHZFEmA5%2BraKAPI/2WfhF8UvA2sfET4q/G2DQLPxP8SPGEOr3ei%2BF9Vnv7HSre30ux02C3S6nt7aS4YrZGZnMEWGnKBSEDN8k/8FfPgx4b0zV/FHibSNQ8Qz3mvfs7eOby/g1XxdqN/aQm21zwbKPs1rczyQWQ4JZbdIw2BuB2rj9Eq%2BOv%2BCnmjf2/4g1PSwm5m/ZL%2BLDxr6ulx4Wdf1UVw5pD2mWV494T/wDSZH1XAuJ%2Bp8b5VX/lxOHf/lel/mfTnwO1r/hJPgr4P8Rb932/wtp9zu9d9tG2f1rqa8q/YU1n/hIf2JvhBrbPua5%2BGOgvIf8Ab/s%2BDd%2Bua9VrbCT9phac%2B8Yv74xf6nl5/hvqWf4zD/yVqsf/AAGrVj/7aFFFFdB5IUUUUAFFFFABRRRQAUUUUAFFFFABRRRQAUUUUAFFFFABRRRQAUUUUAFFFFABRRRQAUUUUAFFFFABRRRQAUUUUAFeM%2BOP%2BUhfwv8A%2ByM%2BPP8A07eEK9mrxnxx/wApC/hf/wBkZ8ef%2BnbwhQB7NRRRQAUUV8/f8FLjpg/Zrtf%2BE08v/hCv%2BFheF/8AhZH2j/j3/wCEe/tm0%2B2/as8fY/L/AOPnd%2B7%2Bzef5n7vfQB9A0V8F%2BCLT4X%2BPv2Avi18L/h/8ZfBXhbwJH471LVvATatrUdroh8Iw6xFI8TsjfudDup4NQsxNGDCLWY%2BUGjCKfJvh1L8MLvS9M1X9p3QPhbpP7MN5%2B0NrEmi6bpd7Hc%2BAILYeD7VLYRz3EEFvPp51dNXZJXhjge/ZWjXcbckA/U2vGf2D/wDkiGuf9lm%2BI/8A6mut1mfsQ3fxisv%2BCe3w8vLXQRqnidPBVsdH0/xnq1xYNPb4/wBDW8uPs9xPFJ9m8nezQySb8713bql/4J03HiW7/ZuvrrxlpNjYavJ8W/iG2p2Omai93bW858Z615kcU7wwtMgbIDtFGWABKLnAAPdK%2BZf%2BCnPx18beEPhjov7MvwKu8fE34z6mfDnhby3IbT7ZlH27UWxyqQQMfnHKs6sM7TX0teXlpp9pLf39ykMEEbSTTSsFWNFGSxJ4AAGc18d/sD6ff/tg/tF%2BMv8Agpj4xs5f7FuPN8KfBWzukI%2Bz6JbystxfhT917mYPzwygSLkqRXlZpUqVIxwdJ2nVurr7MF8cvWz5V/ekux4mc1atWMMBRdp1rptbxpr%2BJLydnyx/vTXY%2Bjv2a/2efhx%2Byv8ABXQfgd8LdHitdM0SxSJpUhVJL2faPNupcfelkYFmPqcDgADx79tD9sfx5oPjey/Y1/Y40y21/wCM/iW28x5ZQHsvB9g2N2p3xwQuAwMcRBLEqSrbkSXpv%2BCgn7VOrfsv/BNB8ONNGq/EXxnqMfh/4baEqh3u9Vn%2BVJCp6xxA%2BYxPy8KpI3g1Z/Yh/Y28N/skfDqYajqkniDx94nkXUPiH42v5DLdazqLDc53t8whRmYRpwAOTlmYnKu51Kiy/B%2B5GKXNJfYj0jH%2B/JLR/Zj72rcT9a4YyjJeGMhp8QZnRVSN3DCYdr3Ks6aSlUq7P6tRbjFxWteralzKEa0nL%2Bxx%2BxR8Pf2RPDF7cWmp3XiXxv4kl%2B1eOPH%2Btt5moa3dnlmZ2JKRBidkQOFHJLMSx9noor1MPh6OFoqlSjaK2X9bt7tu7b1bbPks4zjM8/zKpj8wqupWqO7k/uSSVlGMUlGMYqMYxSjGKSSCiiitjzQooooAKKKKACiiigAooooAKKKKACiiigAooooAKKKKACiiigAooooAKKKKACiiigAooooAKKKKACvGf2X/APkt/wC0d/2Wax/9QrwvXs1eM/sv/wDJb/2jv%2ByzWP8A6hXhegD2aiiigAooooAKKKKACiiigAooooAKKKKACiiigAooooAKKKKACiiigAooooAK%2BZ/2xNG/4SP9ofSvD2zd9v8A2Z/ihb7fXfd%2BFFx%2BtfTFeIfFHTYtY/b0%2BHOkT/cuvgh4/hfPo2qeEVP86zqw9pSlDumvvTX6nXgMQ8Hj6OIX2Jwl/wCAyjL/ANtMz/glRrP9vf8ABOr4Q32/Pl%2BDoLfOf%2BeLNDj/AMcr6Cr5U/4IlalLqH/BMn4aRXXE1kurWkyk/dMWrXiAf98ha%2Bq64cmn7TKMPLvTh/6Sv8j6rxKw6wniLnNFfZxWIX/lao/1CiiivSPigooooAKKKKACiiigAooooAKKKKACiiigAooooAKKKKACiiigAooooAKKKKACiiigAooooAKKKKACiiigAooooAK8Z8cf8pC/hf8A9kZ8ef8Ap28IV7NXjPjj/lIX8L/%2ByM%2BPP/Tt4QoA9mooooAKKKKACiiigArxn9g//kiGuf8AZZviP/6mut17NXjP7B//ACRDXP8Ass3xH/8AU11ugDjf%2BCsnxX8R%2BAv2QtQ%2BG/w8kz4v%2BKmrWngfwpCrEM9xqL%2BVIRjkYt/OO4dG217V8IPht4P/AGdfgj4e%2BFeh3EVtovg/w7b2KXM5CKIreEK0zk8AnaXZj3JJr5t8Un/hqP8A4K56J4RX/SPDP7O3hBtX1JeqHxFqq7LeNx0JS1XzlPVWVq2P%2BCrHxH8V3Pwo8PfsefCfUDD41%2BOmvL4ZsJI%2BWstLwH1O8IHJjjtyVbHOJiR0r5761GnUxOYNXUP3cF3cXql/iqyUf%2B3fIrgbIavGXGfsIyUIykqXO9qdKknUxFV/3YJVJPv7JLqjmv2NdPv/ANur9qLWP%2BCjfjSyl/4Q3w79p8N/AjTbuMgG1VjHe6ztPR53DRqeCEDKR8iNX2bWF8L/AIceFPg98N9C%2BFXgXTxa6P4c0m307TYB1WGGMIuT3YgZJ7kk963a9PLsJLCYa03ecnzTfeT3%2BS2iukUkfUcY8QUuIc5dTDQdPC0oqlh6f8lCndQT7zlrUqv7VWpNvpYoooruPlQooooAKKKKACiiigAooooAKKKKACiiigAooooAKKKKACiiigAooooAKKKKACiiigAooooAKKKKACiiigArxn9l/wD5Lf8AtHf9lmsf/UK8L17NXjP7L/8AyW/9o7/ss1j/AOoV4XoA9mooooAKKKKACiiigAooooAKKKKACiiigAooooAKKKKACiiigAooooA479oP4zaF%2Bzv8DvFnxz8SaZdX1n4U0C51KTT7Hb5940UZZLeLcQvmSMFjXcQNzjJAya4b4Y/tUeONY0P4laZ8XvgkNH8afDC1jvNV8LeENefXE1O2msftls9lO9tavK8m2aDy2hQiaBwCyFHbuf2hPgzof7RPwN8WfAzxJql1YWfivQLnTZNQsdvn2bSxlUuI9wK%2BZGxWRdwI3IMgjIry3w9%2Bxp8TNR8P/Ey2%2BMfx9sNX1n4uaNPpXi/W/C3hGbR3tbQaaLGzTTla/uDatFvuZ2eRpzJLcEr5SoqAAj/YK/bxt/224vEj2XhrwqkPh%2Bz0q5/tnwJ48HiPSpHvoppDYPdfZLbytQthEpuLXY3lLc253t5hC9D44/5SF/C//sjPjz/07eEKi/Ze/ZY8b/BXx54h%2BKfxR%2BKeieJde1zwpoPhqJfC/gs6DYW2naSb5rcm3N3dF7hm1CffJ5ipsSFEijCHdh3/AMI/hR4G/wCCm3gvx74J%2BGPh7R9d8T/B7xxL4l1rStFgt7vVnj1bwl5bXM0aB5yu98FyxG446mgDkv8AgjD/AMS/9kTVPCHT/hHvid4l07Z/d237vj/yJX1pXyX/AMEmf%2BJdpP7QHhBuP7G/ab8VwRL6RM1u6H8dxr60ryci0yiiuyt90pr9D9A8VdfEXMqn89RT/wDBlLD1P/cgUUUV6x%2BfhRRRQAUUUUAFFFFABRRRQAUUUUAFFFFABRRRQAUUUUAFFFFABRRRQAUUUUAFFFFABRRRQAUUUUAFFFFABRRRQAV4z44/5SF/C/8A7Iz48/8ATt4Qr2avGfHH/KQv4X/9kZ8ef%2BnbwhQB7NRRRQAUUUUAFFFFABXif7EF/a6V8AfEeqX0ojgtvjB8SZZnPRUXxprZJ/IV7ZXyb4f8Zf8ACvf%2BCaXxu8brLsfS/EnxfuIDnGZV8U%2BICgHuW2j8ayr1VRoTqP7Kb%2B5N/oY4mssPh51XtGLf3Jv9CP8A4I46Pe%2BK/wBm3Wv2s/FMefEXxr8car4m1Mty1vALqS2trUHvHGkJK%2BglIqh%2ByN/xl/8At3fEj9t2%2B/0jwr4ED/D/AOFjNzHKYm36nfx9jvlby0kH3o2ZT92k8KeOf%2BGO/wDgh9pHj6Kb7Je6P8E7W4smztMeo3tqnkg%2B/wBpuUFez/sCfBFP2df2M/hx8IXsRb3emeFraTVYgmMX06%2Bfc5/7bSycnmvnMDRdT6phpbQgqsvOb%2BG//b0pz9Uux9rwPTfDXhTXzL/l/i%2BTCQfVRlTjicXNec1KlRb6KpNfasev0UUV9QfIBRRRQAUUUUAFFFFABRRRQAUUUUAFFFFABRRRQAUUUUAFFFFABRRRQAUUUUAFFFFABRRRQAUUUUAFFFFABRRRQAV4z%2By//wAlv/aO/wCyzWP/AKhXhevZq8Z/Zf8A%2BS3/ALR3/ZZrH/1CvC9AHs1FFFABRRRQAUUUUAFFFFABRRRQAUUUUAFFFFABRRRQAUUUUAFFFFABRRRQAV4z44/5SF/C/wD7Iz48/wDTt4Qr2avnf4w%2BPLPwv/wVC%2BA/hS9YA%2BJvhF8RrS1B6maK98J3P/ouGXj/AAqZSjBXf9X0JnONON5bafi7L8Wcn/wTk/4lH7R/7VPhDp5Hxm/tHb/192kb5/HZX1pXyX%2Bxr/xJ/wDgpd%2B1x4YPyo974M1GAf3vO0mTef8AvoAV9aV5eS6YDl7TqL7qk/8AM/QvE33uK/bf8/MPg5/%2BBYLDP/20KKKK9Y/PwooooAKKKKACiiigAooooAKKKKACiiigAooooAKKKKACiiigAooooAKKKKACiiigAooooAKKKKACiiigAooooAK8Z8cf8pC/hf8A9kZ8ef8Ap28IV7NXjPjj/lIX8L/%2ByM%2BPP/Tt4QoA9mooooAK%2Bfv%2BClx0wfs12v8Awmnl/wDCFf8ACwvC/wDwsj7R/wAe/wDwj39s2n237Vnj7H5f/Hzu/d/ZvP8AM/d76%2BgaKAPzv1HxR8OX/wCCZnxo8EfDHxPp8Pgqbxxfv8O7fR7iNrOx8KT63Bbm/wDITJfQI7n7e7iMCF7CKVImEZQjxiTSfhXcfD2y8E6l8S/glZeAIv2htdmsPHeueDYpvg9er/wiVoyR2ujtfJDEPPmljjQX7IL%2B01CYSPI/2YfrvRQB4T%2BxJqHxCt/%2BCdHwru/CXhCa68RQfDDR47LSvHXiGe3e4lS0iQG6vBaSSrvA37zbbvmGY1OQPmL9oLxj4s8P/wDBEX4t33iXSbKx8Qat8TPG2nXem6TqL3cCXN38QtRglhhnkihaZB5j4dooyyjJRSdo/ROvzj/aO/4qD9kDwF8Il%2Bb/AITj9uTX9Imi/vQnx5r8zk%2Bw8pc15edyccor23cWl6ytFf8ApR43EUnHIsSo7uDivWVoL8Znpn/BRPwvBrfh39nT9gHTcSReM/H2mRaxaryJtD0aBbi8XHphYT6fLX2hXyN4f/4vp/wWT13V/wDXaV8DfhZbaci9RDrOryGYuD2Js1KEe34V9c1nlkVUr4iutnJQX%2BGmlH/0py%2B4/WeMYxyvIclySOnssP7ea/6eYubqq/mqFPDr0a6MKKKK9g/PwooooAKKKKACiiigAooooAKKKKACiiigAooooAKKKKACiiigAooooAKKKKACiiigAooooAKKKKACiiigAooooAK8Z/Zf/wCS3/tHf9lmsf8A1CvC9ezV4z%2By/wD8lv8A2jv%2ByzWP/qFeF6APZqKKKACiiigAooooAKKKKACiiigAooooAKKKKACiiigAooooAKKKKACivP8A9qv41XP7Of7N/jb446foKareeGPDl1fafpksxiju7pUPkQu4BKI0pRWcAlVJODjFeeeAP2pPiT8PtG%2BM2k/tRyeH9V1X4N6PDr19rHgfRZ9PtdT0uXTXvF2WtzdXLwzI9vdxEGd1cJHJ8m8xoAfQdfAf/BUrxxP8LP8Agpz%2BxR8SEZkht9Y8VaXezD7sUGoy6DYuzHso84ZPvXvX7BP7Ufir9pbw/qOqePfiP4Vv9WGlaXqo8M6B4D1fRJdHtr1JnjJl1Odjq1s5jdIdQgiggnNvMUXqqfLX/BZ7xT8OvjH4tl8O/Cn4m%2BHtX8ZfCz4QeKtf1HTNJ1mC5vNDuLbxF4MmBuYY3L27GGO4wHCk7Wx0NebnDnHK6s4bxXMv%2B3Wpf%2B2s8jP3Ujk1edP4oR5l/wBuOM/xUGvme5/BH/iSf8Fh/jhpnT%2B3Phn4a1HH97yS9vn9cV9aV8W6n44sfCX/AAU%2B%2BDf7Rdm4Hh34%2B/B6bw/FKxykN7blNTt2LdjJHII1Hc5r7SrLJ5R5K0F0qTfylyzi/mpXP1bj5rFf2TmFN3hXwOGs%2B7pRqUJr1jKmk/Vd0FFFFeufABRRRQAUUUUAFFFFABRRRQAUUUUAFFFFABRRRQAUUUUAFFFFABRRRQAUUUUAFFFFABRRRQAUUUUAFFFFABRRRQAV4z44/wCUhfwv/wCyM%2BPP/Tt4Qr2avGfHH/KQv4X/APZGfHn/AKdvCFAHs1FFFABRRRQAUUUUAFfnECviz4//ALNPwrJDJL%2B0v8ZPEM6non9m%2BJNakRj6cyED3r9Ha/LXwX4r8n9sXVdXEnyfDDwB8bfFW/PELzeO9ets57Han5V4%2BeTUcFFPZzgvkpcz/CDPMzPDVMf9WwVP4q9ehTXrKtD/ACPpL/gkMj/EX4afEf8Aa9vlLTfGD4qavq%2BnTMPmGl28xtLSL6J5UwHsa%2BuK%2Bef%2BCTvhX/hDf%2BCcnwi0jy9nneEo77GP%2BfqSS5z%2BPnZ/Gvoatclg6eU0L7uKk/WXvP8AGTP0zxMxUMV4g5o6f8OFadKC7U6LVCmvlCjFet31CiiivTPhgooooAKKKKACiiigAooooAKKKKACiiigAooooAKKKKACiiigAooooAKKKKACiiigAooooAKKKKACiiigAooooAK8Z/Zf/wCS3/tHf9lmsf8A1CvC9ezV4z%2By/wD8lv8A2jv%2ByzWP/qFeF6APZqKKKACiiigAooooAKKKKACiiigAooooAKKKKACiiigAooooAKKKKAOd%2BLnws8G/HD4WeIvg38Q7CS60LxTotzpWrQQzNFI1vPE0b7HXDRuAxKupBVgCCCBXBfDP9jrw14DtvEkfiv4seLvHM/jYSp45vPGA0x5NfhNnFZRQTC0soEiihgjIRLdYQzTTPJ5ryFq9fooA8m/Z1/ZF8L/s769qHiyL4n%2BLvGGrXnh7TfD9tqXjC5s3ksNH09rhrSxiFpbW6lEa6nYyyrJPIXHmSvtXbxn7UPw9tfi5%2B1T4b%2BFN8FMPib9nT4laVLv6bbi%2B8JwnP/fdfRleM%2BOP%2BUhfwv8A%2ByM%2BPP8A07eEKmcI1IOEtmmn6NW/UipTjVpyhJXTTT9Gmn%2BDZ8Vz6n4n%2BJX/AAQ7%2BFn7Q3hy1d/GHwD1aw1i0gPEkbaJfPZTROey/ZVLsvQhFzX6TeCPGGhfELwXpHj/AML3Yn0zXNLt9Q06cf8ALSCaNZI2/FWBr5G/4J6%2BDdClm/ak/Yq8W2vmaXp3xW1ZvsJ/g0fW7YSxRAehTzee%2B410/wDwSB8Z67c/slN8CvG115niP4P%2BK9T8Ea1u4J%2BxznyGAP8AB5EkSqeh8s4r5fJZyo1qSl/y8p8r/wAdBuD%2Bbh%2BR9bw/UnnngvQU3erllfkff2WITg/lHE4b5e18z6mooor6o%2BVCiiigAooooAKKKKACiiigAooooAKKKKACiiigAooooAKKKKACiiigAooooAKKKKACiiigAooooAKKKKACiiigArxnxx/ykL%2BF/wD2Rnx5/wCnbwhXs1eM%2BOP%2BUhfwv/7Iz48/9O3hCgD2aiiigAoor5%2B/4KXHTB%2BzXa/8Jp5f/CFf8LC8L/8ACyPtH/Hv/wAI9/bNp9t%2B1Z4%2Bx%2BX/AMfO7939m8/zP3e%2BgD6Bor879R8UfDl/%2BCZnxo8EfDHxPp8Pgqbxxfv8O7fR7iNrOx8KT63Bbm/8hMl9Ajuft7uIwIXsIpUiYRlCPJLCz0eD4c2PhBfH3wRX4Ln9pPVhrvjK88N7Phbdr/wiVtPZG30pb5YUsFvPNt2ga%2BeBtViefzWlZLcAH611%2BNnhPxQxm/b78fuxA8JaX4r8IxyH%2BH%2B1PF2vTFR9TJ%2Btfpj%2By7498aeM/wBiHwR47%2BHvwU8PaDq9z4Ls30bwTLezaTpNuqxqkUUci2ssltamNQ0Q%2BzsyxlAUBzj8tfD%2BkeKtR/Yb/bM1bxJpdnpuv/EL9ru78K3dtpd%2B93BDcw%2BJjLLDDO8ULTRqZpFV2ijLLyUQnaPm%2BJ3JYGLXTnf3Uqlvxkj3eCcBHM/E7hzDT%2BF46jKX%2BGnebfy5b/I/XD9ljwr/AMIJ%2BzF8OfBBj2HR/AekWRTHQxWUUeP/AB2u8qO1toLK1js7WMJFDGEjQdFUDAH5VJX0FKmqVKMF0SX3JL9Dzcwxc8wzCtip71Jzm/Wc5Tf4yYUUUVocgUUUUAFFFFABRRRQAUUUUAFFFFABRRRQAUUUUAFFFFABRRRQAUUUUAFFFFABRRRQAUUUUAFFFFABRRRQAUUUUAFeM/sv/wDJb/2jv%2ByzWP8A6hXhevZq8Z/Zf/5Lf%2B0d/wBlmsf/AFCvC9AHs1FFFABRRRQAUUUUAFFFFABRRRQAUUUUAFFFFABRRRQAUUUUAFFFFABRRRQAV4z44/5SF/C//sjPjz/07eEK9mrxnxx/ykL%2BF/8A2Rnx5/6dvCFAHkn9pR/sz/8ABYK/u/E0RtNA/aF8DWcGlalnEUuv6SCn2Zz0VjasCpP3i6qMk8V01kfsR/8ABT7Wbnxbb/ZfAH7SUViuk6sGxb2HimziMRtpOyG6jbcGz88hAAO1ivq//BQz9mDU/wBqX9nC/wDDvge7Nj448N3kPiH4eavGwWSy1m0JkgKsfuh/miJPAEm7GVFcb4Vk%2BG3/AAV5/wCCeMVp4ztjpep6tam31RYoytz4Z8SWh2s6A4ZGjmG8AkFopADgOa%2BXrYetSxM6FL41J1qV9nfSpB%2Bt36Kaf2Wen4eZ3gOHeIsXk%2Ba3%2Bo46EozaV5RhOcJOcV1nh68addR%2B3CVSH2rr6kor5w/4J2ftQeM/iv4S1n9nz9oZktPjB8LLsaR42s3f5tRjAH2fVYs43xTx7WLAAbiTgK6Z%2Bj69/CYqljcPGtT2fR7prRpro00013XobcQ5FjuGs4q5di7c9N6Si7xnFpShUhL7UKkJRnCS3jJdVJIooorpPGCiiigAooooAKKKKACiiigAooooAKKKKACiiigAooooAKKKKACiiigAooooAKKKKACiiigAooooAKKKKACvGfHH/KQv4X/9kZ8ef%2BnbwhXs1eM%2BOP8AlIX8L/8AsjPjz/07eEKAPZqKKKACiiigAooooAK/LC/8CXGm/Cfwn4HltSjfEb/gpT4o1O5jI/1tnB4p1eORvfi1T8q/U%2Bvzk0v/AIqj9pz9mj4cj5k/4aG%2BNuuXC9k%2BxeItYaNj9Wcge9eNntOM8DZ7uUIr/t6cIv8AC5954ZUorjahi3/zD08VW9PZ4PEu/wB7Xzsfo3RRRXsnwYUUUUAFFFFABRRRQAUUUUAFFFFABRRRQAUUUUAFFFFABRRRQAUUUUAFFFFABRRRQAUUUUAFFFFABRRRQAUUUUAFFFFABXjP7L//ACW/9o7/ALLNY/8AqFeF69mrxn9l/wD5Lf8AtHf9lmsf/UK8L0AezUUUUAFFFFABRRRQAUUUUAFFFFABRRRQAUUUUAFFFFABRRRQAUUUUAeYftp/F7xV8A/2TPiH8Y/A0dqdb8P%2BFLy60d76Ivbw3QjIillUEFokcq7rkZVWGRnI8%2B%2BFPx68R/AO6%2BOXhr9pj42ah4t0D4PaZZeIpvHOs6TZW96umTaY91cQzx6dbwQO8L207qY4VYxzRKwdlLv77408G%2BFfiL4O1b4feOtAtdV0TXdNn0/WNLvYg8N5azRtHLDIp4ZHRmUjuCa5D4Ofst/Bv4C73%2BGmn69BNcXst5f3eq%2BNNV1O41Gd4IbfzLua9uZZLspDbwRRecz%2BSkYWPYMggHg//BLj9tXW/wBrfxR8Y7XxX%2B0D4M8X3GjeLdOutD0PwfrOm3sXhzS73R7K5Sx86yLfavJne4he5dnEk8M4QqirGnZ3/wATvDfjH/gpt4L8GaTpviGG88PfB7xxHfzar4R1GxtJS%2BreEsG2urmCOC9A2nLW7yBcjcRuXPtPhb4Y%2BB/BXivxN438M6H9m1TxjqUF/wCJLr7TK/2y4htIbON9rsVjxBbwphAoOzcQWJJ838cf8pC/hf8A9kZ8ef8Ap28IUAezV8S/FpPGn/BMH9pTxP8AtUeH/C0%2BsfAv4nalBd/Eyw0qFnufCOr48ttXSJc%2BZbzEgzYG7cc/worfbVQalpunazp1xo%2BsWEN3aXcLw3VrcxB45o2BVkdWBDKQSCDwQa4sdg/rcIuEuWcHeMt7O1tV1i1pJdV2aTXnZjgHjacXCXJUg%2BaEt7O1tV1jJe7KPVdU0mvm79pr9krwz%2B1haeHv2u/2S/ina%2BGPihpenJc%2BCviHo0gktNWtGG5bO9C5FzayA45DFNxwGG5Gl/ZL/wCCg2i/FTxNL%2Bzl%2B0toMPw4%2BNWjMINW8G6nPsh1Q44utNlY7bmGQAsqqzOoz99QHbz26/Z6/as/4JweIdU8X/sQ%2BHoviJ8IdQvnv9U%2BC95dtFqGhu53TSaPO2QyE5b7OwJzwqszbh09p4w/4J3f8Fc/AR8F%2BKLK2n8RaWzrL4f1pf7M8U%2BGbpfv7FyJoyjAZaMvExXDbsEV4cKlWGLvTtSrv4qcr%2Bzq2%2B1CX8395e9bSpB25j7jh/j7Kc1wFLhzjCnNezVqNWFnVoq7bVJzajiMM2%2BZ4eU4zptt0nTk5Rn9XUV8bWfhz/gp3%2Bw9GdO8GXFp%2B0f8O7M/6LZa1qAsPF9hbj%2BD7QwMN9tGeWzK54AQYA7f4Pf8FXP2OvibrX/CCeNPGt38NfGETCO98HfE6xbRry3kPRN02IXJPQLIWPHAzivUp5vhudU8QnSm%2Bk9E/wDDL4JfKSf91Hr43w7zx4eWMyeUcwwy1dTDXnKK71aFvrFF9%2BelKKeiqS0b%2BkqKjtLu0v7WO%2BsbmOaGZA8U0ThldSMggjggjvUlerufBNNOzCiiigQUUUUAFFFFABRRRQAUUUUAFFFFABRRRQAUUUUAFFFFABRRRQAUUUUAFFFFABRRRQAUUUUAFeM%2BOP8AlIX8L/8AsjPjz/07eEK9mrxnxx/ykL%2BF/wD2Rnx5/wCnbwhQB7NRRRQAUUUUAFFFFABX5v8A7MN/Z61/wUs8M6dfThYvBtj8XdcckE7Dd/EXWbIHA5ycAADk9K/SCvzQ/wCCcg/4S3/goh8c/EP3v%2BER13WtD3f3PtXxH1i92/jtzXk5r7zw9P8Amqw/8l5pfoj9A4A/cxzjF/8APvAYn76roUF/6ckvmfo1/wAJhpP/AD6ap/4I7v8A%2BNUv/CYaT/z6ar/4I7v/AONV87ePv%2BCyP/BN74X%2BO9a%2BGnjn9o37Drfh3VrnTNYsv%2BEQ1iX7PdW8rRSx747Rkfa6MNykqcZBI5rJ/wCH5f8AwS0/6Oh/8snW/wD5CqpZ5ksJOMsTTTX9%2BP8AmZ0fC3xMxFGNWlkmLlGSTTWHqtNNJppqFmmmmn1TT6n0/wD8JhpP/Ppqv/gju/8A41R/wmGk/wDPpqv/AII7v/41Xzt4B/4LI/8ABN74oeO9F%2BGngb9o37drfiLVrbTNHsv%2BEQ1iL7RdXEqxRR75LRUTc7qNzEKM5JA5rvv2/vjB8TP2ff2Jvin8cfg3aabN4n8JeB9Q1XR11eZkt1lghaTe%2B2OTdtUMwTbh2UIWQMXXrwuNweNi5YepGaW/K07etj5/POGeJOGK0KWcYKrhpTTcVVpzpuSTs2lNJtJ6Nrroel/8JhpP/Ppqv/gju/8A41R/wmGk/wDPpqv/AII7v/41Xz3qf7bnxt8K/EPxz4L%2BIXwK8CaFp/wy%2BHlp4m8c%2BJ7v4qXRsbd7uLVGt7a2xo4lnUPp8YlldIiiXBaOOZ0EUnM/Db/gpVq/xV1TwzoerfCfV/C%2BtxfGiXwd4h0hZby2hkQ%2BD9Q1%2BGfbrGj2l68LpDEm37PaSCVAyyyQqVuOk8M%2Bqv8AhMNJ/wCfTVf/AAR3f/xqj/hMNJ/59NV/8Ed3/wDGq%2Bef2Sv2%2BfiT%2B0Pp%2BiXHjn9mD/hH7vxZ8JtF%2BIPhPS/D3jWHVZ7rTr5gjwTm4gsore4hLxMVDyI6PkOGUx11P7Vfiz4q6l8Wvhf%2Bzx8LfivqHgRvG11rF1q3ivRtNsbq9it7CyEi20C39vcW6tJNNCzM8TnyoJVXazCRAD13/hMNJ/59NV/8Ed3/APGqP%2BEw0n/n01X/AMEd3/8AGq%2BcoP2hP2kfif8A8EyPCHx/%2BH1pc/8ACc67pHh2bxDd%2BFdDW9uLe0lv7SLWNQ06ykWQTypZm8ubeArLuZY12TnEb8X4C%2BOP7Svxo/Zq%2BIOoeBfF3xt1DXfhn8Sr/Q9KufDvhTwvpniTxRZixtLy3lvLPXrOG0g2C9CMkcVtM3kD92rloqAPsH/hMNJ/59NV/wDBHd//ABqj/hMNJ/59NV/8Ed3/APGq%2BFoP20P2mfGXgKH9oLSfjjp8dl4G8CfDTVdW8PeG9Etm0rxnca7Ij6lKXvLc3kMLQyCOzWJ4HjlVmmEwPlL6n4m%2BPfi74AftS%2BKJ/FP7S2teLfh/4Q%2BH%2Bu%2BLfi5Z6roGmLZeBLdDFcaZBbTWVpFcNPJbreHyLiS5keGASkx7o/NAPpX/AITDSf8An01T/wAEd3/8aq/YX9pqdol9YziSKQZVgCO%2BCMHkEHIIPIIr5L/4Jcftq63%2B1v4o%2BMdr4r/aB8GeL7jRvFunXWh6H4P1nTb2Lw5pd7o9lcpY%2BdZFvtXkzvcQvcuziSeGcIVRVjT6l8H/APIJm/7Cl9/6Vy0AatFFFABRRRQAUUUUAFFFFABRRRQAUUUUAFFFFABRRRQAUUUUAFFFFABRRRQAV4z%2By/8A8lv/AGjv%2ByzWP/qFeF69mrxn9l//AJLf%2B0d/2Wax/wDUK8L0AezUUUUAFFFFABRRRQAUUUUAFFFFABRRRQAUUUUAFFFFABRRRQAUUUUAFFFFABXjPjj/AJSF/C//ALIz48/9O3hCvZq8Z8cf8pC/hf8A9kZ8ef8Ap28IUAezUUUUAFeL/tLf8E%2Bv2Uf2rrtfEPxU%2BGEEfiSHabLxjoMzWGr2zr9xluYcM%2B3%2BFZN6j%2B7XtFFY18Ph8VTdOtBSj2av/Xro/M58ThMLjaLpYiCnF9Gk1%2BPXzVmujPj%2BH9nr/gqV%2BzOvk/s8/tUeH/i34ctz/o3hv4yWMkepxxD/AJZrqVt808no0wVR6evL/Fn9rzTvEehHwd/wUp/4JO%2BNILSEFZdX03w/beLNJt/WVbqHDQZ6jaCw6ZyM190UV5k8olGDhQrSUX9mVqkPund29JHHhMFmWUYiOIynG1aE46xtJyUX/dbcakf%2B3ap%2BYvw60T/gljq10b79hz/gp34p%2BCF7JKSnh9vGM9ppqzE8rJYauF8w7v4Q%2BOuO1e5%2BGl/4K5eDtNTVfhn8ffgh8dtET7t5qlhLpF/cL22PYs1sGPqxIr6S%2BJn7Nn7PPxnD/wDC3PgX4Q8TM4wZdd8OW11IPcPIhYH3ByK8M8R/8EX/APgnnq2pNr3hj4OX3hLU2%2B7qPhDxTqFg6f7qJMY1/BK8z%2Bx8fh/4Civ%2Bvc6lL/yV%2B1p/gkfdf8RO8SKi5c2p4TM498TSTqP/ALi8qq383Xl6vQof8PAv2wvh0PL/AGgf%2BCWHxGgSLiW8%2BG%2BsWfiVZAP41jiKMAeu0nI71NYf8Fpf2GbK6j0z4qa54w%2BHt7I20WXjjwHqFq6t/dJjikQH6tj3qIf8Et/G3hL5vg3/AMFJf2gNCVf9TZ6x4tj1e1h9AsU0S4X2JNRX37JX/BUnRLV7HQf%2BCl%2BheKLNhgad4z%2BDtgFZf7ryQOWf6kU/acR0OkpeqpT/ABjKlL8A/wBdOFMT/wAjHhapTfV4TGtL5QrqqvlzeWh6z4K/4KFfsL/EMIPCn7XHw%2Bmkk%2B5bXHiq2t5m%2BkUzq/6V6n4f8V%2BF/FloL/wt4ksNTgIyJtPvEmTH1QkV8DeNf2E/29NdZ38X/s1fsV%2BOlOd91f8Agq/sb9/pJHHhc/WvLdf/AOCbHxbgu/7Svv8Agjz8Pby8QkreeAPjzfaOwPqizS7F/FaP7Zzml/Ew1/8At2rH8vaIX9q%2BE2I%2BL%2B1MK/72Fw%2BIS%2BdGtTk158t/I/VqivyV/wCGbf2rfBgzo/7JH7WHgjZ92PwF%2B05Y6hGvsFMJ3D2zzS/8Jl%2B314I/5Bet/twafs6fa/hzpfifH1zLHv8A60f6zzh/Ew0l6X/WnEOTwxrfwuIHT8q%2BX4%2Bn97hCuvuR%2BtNFfkt/w3L/AMFF/B4/0746/GVwn8Hjb9kOCzx7M1pcufxoH/BYX9uHwr/yEfiV8MJgv3v%2BEt%2BEPiuybHv9ljcA0f64ZbH%2BJCcfkn/7cg/srhCp/A4ly9/46mIo/wDp7BRt8z9aaK/Ju2/4OBPjRpMv2fXbr4HalKPvR2EXiixJ/G5siB%2BJra0//g4p8ZwkC7/Zp8DasO76f8YIrL8cXVoD%2BFVHjLIHvUa/7df6NlR4bwlb/d85y2p/hzHCL/05Kl%2Bh%2BpVFfmzpn/BxJ4fYBtf/AGXLS3/vfYvjBotxj8yma1Yf%2BDjb9muzG7xH8DfFcIH3v7N13Rrv8sXi5rdcWcPP/l%2Bl6qS/Q1hwXm9Z2oVsLU/wY7AS/LGxP0Ror4F0b/g4v/Yj1fAb4X/FeD1ZvDVnIv4GK9bNdNpv/Be39hC%2BAa6tviBZA97nwXKcf9%2B2atocS5BP4cTD73%2BsS5cBcWxdlhlL/DWws/8A0jGTPtSivkK1/wCC5/8AwTfcZ1L4s63YDubzwPqnH/fFu1adh/wW1/4Jf6jgQftS2yE9rjwtq0WP%2B%2B7QVss%2BySW2Jp/%2BBx/VoF4f8cyV45bWl/hg5fjCUz6qor5vsf8Agrz/AME2tRx9n/a08OLn/nvDcxf%2BhxCtix/4Kf8A/BPTUMeR%2B2F4EXP/AD31yOL/ANDxW0c2yqW2Ih/4HH/5IiXAXHUFd5Vif/Ces/yps94orx6y/wCChX7Bt/jyP2zvhaM9BN47sI//AEOUVq2f7aX7HOo4/s/9rL4Zz56eT4709s/lNW0cfgZbVoP/ALej/wDJHFU4U4qo/wATL8QvWhXX50T0yiuItP2mf2b9Qx9g/aC8ET56eT4rs2/lJWnafGP4RX//AB4/FTw3Nnp5WuW7fyetViMPLaafzX%2BZwVMozaj/ABMNUj606i/OmjpKKzrXxh4Svv8Ajy8UadNnp5V7G38jV%2BKWKZd8MquvqrZFaKUZbM4p0qtN%2B/Fr1TX5pDqKKKZAUUUUAFeM%2BOP%2BUhfwv/7Iz48/9O3hCvZq8Z8cf8pC/hf/ANkZ8ef%2BnbwhQB7NRRRQAV4h%2B394k8RaF8E9G0jRPFepaBaeJPiX4V8P6/rmj6hJZ3Vnp19rVpbXAiuYmV7Z5lk%2BzCZGV4/tG5GRwrD2%2Bs3xj4M8H/ETwtf%2BB/iB4U03XdE1S2a31PR9YsY7q1vIWGGjlikBSRCOqsCDQB8Z%2BI/iZ8RvCv8AwT5%2BM2jeGvi7r5l8MfFW%2B8HeAvFWoa9cT31xDJrNraQ2kupSSGdAlxcy6c1%2BztNbpEZmZ5ISx8l%2BIf7Q37Qfwp/Zd%2BLvwA1TUfifpmsWfxC1vTtX8ReCrjxJ45PgbTYPDemamlna67HbPfyPcteQ7bu7S2a1N5ehGUWMBk/QfTf2dv2ftG8It4A0j4F%2BDrTQX0I6I%2BiW3hi0jtG0wu7mxMKxhDblpJG8nGzLscZJq34L%2BCnwa%2BHHw/k%2BE3w8%2BEvhnQfCsscyS%2BGdF0G3tdPdZs%2Bcpt4kWMh9zbht%2BbJznNAHI/s//FTWPEH7G/gn4taV4T8U%2BKtQuvAum3f9lPbCz1bUpjbR78rqslsFkZtzbp3jDfe3HIJ%2BLf8Agi/aahr3xY/a1%2BK2reF77RrnWP2jri0m0rU5IHuLF4PEF/I9vI1vJLCXQ3O1jFI6Ej5XYYJ/R/S9L0zQ9MttF0XToLOzs4EgtLS1hWOKCJFCqiKoAVQAAABgAACviz/glB4XbRvAn7QviGaP95rX7aPjiZHI6xR%2BIxCo%2BgaN/wA64MXT9pisO/5ZSf8A5JJfqfW8P41YPIM4jfWrRpU/vxVKb/8ATaPtqivmLx//AMFNf%2BEC8d634F/4d8/tPa1/Yur3Nh/bGgfCf7TYX/kytH59tL9pHmwvt3o%2BBuVlOBmsj/h7D/1jU/a0/wDDN/8A3VWUs6yyMnF1NV/dn/8AKz85lxDk0JOMquq0%2BGp00/59H1pWL8R/h54M%2BLnw%2B1z4VfEbQYtV8P8AiXSLnS9c0ydmVLq0uImimiJQhgGRmGVIIzkEHmvnzwD/AMFNf%2BE98d6L4F/4d8/tPaL/AG1q9tYf2xr/AMJ/s1hYedKsfn3Mv2k%2BVCm7e74O1VY4OK9m/aT8YfE74efALxf8Qfgz4ctNZ8T6DoFzqWj6Lewu6alJAhlNqAjoQ8qo0aNuwrurEMAVPXhsZhsZFyoyulvpJf8ApUY/qduDx%2BDzCLlh5cyWj0kvP7UY/hcxoP2Nf2eF8K%2BKfB2p%2BENS1ez8a%2BG7fQfFUviLxXqep3WpWEH2nyY5Lm7uZJ96fa58ShxKNy/P8ibc7wP%2BwV%2By18PdSXXPD/gLUptSHi4eKJdW1rxjq2pXlxq40ibRhdzXF5dSyzsNPnlt8SMy7SpxuRGXw3xH/wAFH/ib8SPC1z4x/ZcbQ9VsPEfjubSPhRLF4SXVG8QadYaQt1qt7I1zrelW0McV358Adrhdos3ASVpB5fE%2BDf26viN8XPEeifHiy%2B02unePPhl%2BzvqsfhRtfvfsOlT%2BIvF2u21/JB9mni3OYvJRmOUnW1hWZJYl8o9J2H2H4Y/ZO%2BBHgmx0Sw8HeE73Sl8OeBrTwdok2neI9QhmtNFtXjeC1WVJw52mKPMhYyMAQzsGYHR%2BN/7PXwp/aJ0TT9D%2BKWj6jMNI1E32kX%2BieIr7SL6xuDDLAzw3lhNDcRboZponCSAOkjKwKkivk34J/tU/tQfG79qT4QeMNT8VeEf7E8d/C3x/rfhz4e6VdXuntayWd/o0FtBq0pmuEupY/NKNcJbRG2ke4RYpM5Pt37b%2BreJJ9M%2BFHw3l8Var4d0jx38V7DQ/GepeG9duNPuobM6ff3SQQ3tu0U9v597a2dr5kbRyMtwVUqXFAHoUn7O/wsTwGPhho1jrGi6BF4csNCstM8M%2BK9R0qPT7GzJNulp9juIjZuoO0ywFJXRERnZY0Vedu/2Jf2fp/h5p3wtsbDxbpekabdXlyDoHxL17Tbu9nu3MlzLe3drex3F%2B8rku7XMkpZjuJJ5ry/4Raj%2B0L8U/%2BCbfjfQ/hP8AEm7n8aWepeO/DngHxZrGqlri4t9P17VNP0y4kvJQ5aU2ttAPtbhy7YnbfuOeK/Z9s/ir8WdO%2BN/wLPgvx9YWHhLxTox8E%2BHvHH7QmrWmqw38ulRT3en3fiDSbq%2BukjG5LoQrNdbVuk3KqssUQB9Can%2Bwv%2BytqfiXwv4ob4UpaS%2BDtN0nT9CsNL1i9s9PFrpcxn0yGexgmS2vEs5SZbcXEcggcl49jHNT/CX9jX4EfA34j698VPhla%2BLLHVPE%2Bt32sa7b3PxJ1270%2B7v7tg09w1hcXsloHOFVSIh5aoqJtVVA%2BDp/jV8XPF/7NGpa/wCMP2kvGWmav8Lv2a/EXinw1f6X4su7YXvifTtY1Gzma4eGYf27BZvYWVsv2jzYrtLwSyRl7hdvrfiXxF%2B1l8Mv21vBWt%2BKtH8YTy%2BO/jJFYWd2nxCV/DjeGJPD00sumJoouspe200El09x9kBIgLm7ZZPs5APsvwt8MfA/grxX4m8b%2BGdD%2Bzap4x1KC/8AEl19plf7ZcQ2kNnG%2B12Kx4gt4UwgUHZuILEk2vB//IJm/wCwrff%2BlctalZfg/wD5BM3/AGFb7/0rloA1KKKKACiiigAooooAKKKKACiiigAooooAKKKKACiiigAooooAKKKKACiiigArxn9l/wD5Lf8AtHf9lmsf/UK8L17NXjP7L/8AyW/9o7/ss1j/AOoV4XoA9mooooAKKKKACiiigAooooAKKKKACiiigAooooAKKKKACiiigAooooAKKKKACvGfHH/KQv4X/wDZGfHn/p28IV7NXzh%2B0fq/xr0f9vD4Tz/A74f%2BFvEWpN8I/Ha3dp4r8YXOiwRwf2p4SJdJbfT71nfdtGwxqMEnfkBSAfR9FeM/8Jx/wUL/AOjX/gz/AOH41b/5l6P%2BE4/4KF/9Gv8AwZ/8Pxq3/wAy9AHs1FeM/wDCcf8ABQv/AKNf%2BDP/AIfjVv8A5l6P%2BE4/4KF/9Gv/AAZ/8Pxq3/zL0AezUV846T%2B0d%2B3brHxn1/4HW/7KHwkXVPDvhfSNdvLl/jrqnkSQajc6lbwohHhjcXVtLnLAqAA8eCxLBeo/4Tj/AIKF/wDRr/wZ/wDD8at/8y9AHs1FeM/8Jx/wUL/6Nf8Agz/4fjVv/mXo/wCE4/4KF/8ARr/wZ/8AD8at/wDMvQB7NRXjP/Ccf8FC/wDo1/4M/wDh%2BNW/%2BZeuX8A/tHft2/ETxX438IaP%2Byh8JIbjwH4oi0LVZLn466oEnnk0rT9TDxbfDBJTydRhUlgp3o4xgBmAPo6ivGf%2BE4/4KF/9Gv8AwZ/8Pxq3/wAy9H/Ccf8ABQv/AKNf%2BDP/AIfjVv8A5l6APZqK8Z/4Tj/goX/0a/8ABn/w/Grf/MvR/wAJx/wUL/6Nf%2BDP/h%2BNW/8AmXoA9mor5x%2BEX7R37dvxl8KXfi/w5%2Byh8JLa3s/FGt6FJHe/HXVFcz6Xqt1pk7jb4YYbGmtJGQ5yUZSQpyo6j/hOP%2BChf/Rr/wAGf/D8at/8y9AHsN1ZWd9H5N7aRTJ/dljDD8jWLqHwq%2BF%2BrZ/tT4b6Bc56/aNHgfP5rXnH/Ccf8FC/%2BjX/AIM/%2BH41b/5l6P8AhOP%2BChf/AEa/8Gf/AA/Grf8AzL1MoQl8ST%2BREqdOfxJP1Sf5o62%2B/Zh/Zq1TP9p/s8%2BBrjPXz/CVm%2BfzjrHvf2H/ANizUs/2j%2ByF8Lp89fO8Aac384ayv%2BE4/wCChf8A0a/8Gf8Aw/Grf/MvXL/BH9o79u348fBjwh8cfCv7KHwktdL8Z%2BF9P13TbbUPjrqizwwXdtHcRpIE8MMocLIAwVmGQcEjmsZYTCS3pxf/AG7H/wCRMJYHAz%2BKjB%2BsIv8A9tOovP8AgnT%2BwPfZ879jL4Yrn/nj4Jso/wD0CMVmXf8AwS8/4J5XufO/Y98CLn/nloiR/wDoOK0/%2BE4/4KF/9Gv/AAZ/8Pxq3/zL0f8ACcf8FC/%2BjX/gz/4fjVv/AJl6yeW5bLehD/wCP/yJhLKMplvh6f8A4BD/AOQOauv%2BCSX/AATfu8%2Bb%2ByN4WGf%2BeSTJ/wCgyCs%2B5/4I2f8ABM27z5v7J%2BjDP/PLVL9P/QbgV2v/AAnH/BQv/o1/4M/%2BH41b/wCZeuX%2BN37R37dvwH%2BDHi/44%2BKv2UPhJdaX4M8L6hrupW2n/HXVGnmgtLaS4kSMP4YVS5WMhQzKMkZIHNZvJ8oe%2BHh/4BH/ACMnkGRS3wtP/wAFw/8AkTDuP%2BCJX/BL26/1n7K9qM/88/FGrJ/6Ddiqc3/BC/8A4JcS8x/s0SRH1j8a61/W8Neof8Jx/wAFC/8Ao1/4M/8Ah%2BNW/wDmXo/4Tj/goX/0a/8ABn/w/Grf/MvWbyPJXvhqf/gEf8jP/Vzh69/qdL/wXH/I8iuP%2BCDn/BMWf7vwK1CP/c8Z6of/AEK4NU5v%2BCA//BM%2BX7nwn1uP/c8X339ZDXtP/Ccf8FC/%2BjX/AIM/%2BH41b/5l6P8AhOP%2BChf/AEa/8Gf/AA/Grf8AzL1L4fyJ/wDMLT/8BRtDJMop/BQivS6/KSPDJv8Ag33/AOCbcv3PAniWP/c8WXH9Saqy/wDBvR/wTlk%2B54f8Xx/7nil/6oa9V%2BLv7R37dvwa8KWni/xH%2Byh8JLm3vPFGiaFHHZfHXVGcT6pqtrpkDnd4YUbFmu42c5yEViAxwp6j/hOP%2BChf/Rr/AMGf/D8at/8AMvUPhzIH/wAwsP8AwFHRHL8LD4U16TqL8qqPnqX/AIN2/wDgnfJ92Dxwn%2B74nH9YTUDf8G6X/BP0Hdb6r8QoT6xeJoc/rbmvoz/hOP8AgoX/ANGv/Bn/AMPxq3/zL0f8Jx/wUL/6Nf8Agz/4fjVv/mXqf9WeHn/zCw%2B7/gmyoKPwzqL0rV1%2BWIR86J/wbxfsTwf8ePxN%2BLFt6eR4sthj/wAlKnh/4IAfsr2pzY/tDfG%2B3x08nxtbL/7Z19Cf8Jx/wUL/AOjX/gz/AOH41b/5l65fx9%2B0d%2B3b8O/FfgjwhrH7KHwkmuPHniiXQtKktvjrqhSCePStQ1MvLu8MAhPJ06ZQVDHe6DGCWUXDWQLbDR/H/wCSFKgpb1Kn/g6v/wDNB5fB/wAEJfgPZ/8AHj%2B13%2B0LBjp5PxBt1/8AbKr1v/wRR%2BHFkMWH7df7TEGOnl/E6Ff5Wde1f8Jx/wAFC/8Ao1/4M/8Ah%2BNW/wDmXo/4Tj/goX/0a/8ABn/w/Grf/MvVrh7JFtQX3y/%2BTOeeW4Wp8Tm/%2B4tf/wCaDx%2BL/gjvpdr/AMeP/BRX9qKHHTb8VFH8rYUfAn9ki4/ZY/4KE%2BDUm/aZ%2BKnxFXXPgz4y2j4meLDqn9neTq3hbP2b5F8rzPN%2Bfru8qP8Au17B/wAJx/wUL/6Nf%2BDP/h%2BNW/8AmXqh4H8D/tWeMf2rPDnxu%2BN3w4%2BHvhnRvDPw98Q6HDD4V%2BId9rV1d3WpX2iXCMyXGkWKRRomlygsHdi0qALjJHRh8py7C1VUpU7SXnP8nNr8BUcrwOHrKrCL5l3nUf4SqSX4M91ooor0T0AooooAKKKKACvnL9iHwxpvhb9njxZe2PmEXv7Q3j/U752GcH/hPNU3twOipGPwWvo2vkr9krxZ%2B2dp/wAPfFFn8MfgH8MNX0JPjT8Rf7P1HXvi7qOm3cy/8JnrJYyW0WgXKRENuAAmfIAOQTtCaTafYuNSpGEoJ6Stfzs7r7nqfUH/AAnPgn/ocNL/APBhH/8AFUv/AAnPgn/ocNK/8GEf/wAVXlv/AAnH/BQv/o1/4M/%2BH41b/wCZej/hOP8AgoX/ANGv/Bn/AMPxq3/zL0yD1L/hOfBP/Q4aV/4MI/8A4qj/AITnwT/0OGlf%2BDCP/wCKry3/AITj/goX/wBGv/Bn/wAPxq3/AMy9H/Ccf8FC/wDo1/4M/wDh%2BNW/%2BZegDUvvgZ%2BxRqnw40n4O6n8HfhbceEdAvftmheFZ/D2mvpum3O6RvOgtinlQybpZTvRQcyOc/Mc6Gn/AA4/ZR0m1tbLSvAfw9tobK00m0sobfS7FFt4NLnkuNMiQBQES0nlllt1GBBJI7xhWYk%2BZ/BH9o79u348fBjwh8cfCv7KHwktdL8Z%2BF9P13TbbUPjrqizwwXdtHcRpIE8MMocLIAwVmGQcEjmuo/4Tj/goX/0a/8ABn/w/Grf/MvQBq2PwP8A2KtL8U63450z4QfC631vxLBdQ%2BI9Yg8P6al1qsd1j7SlzKE3zrLtXzA5IfA3ZxXQeN9K%2BAHxM8EXPwy%2BJGm%2BDvEHhu8hSK78Pa5DaXdjPGjKyI8EoaNlVlUgFcAqCOgriv8AhOP%2BChf/AEa/8Gf/AA/Grf8AzL0f8Jx/wUL/AOjX/gz/AOH41b/5l6AOqHgn9mEeHrfwiPCPgMaTaeG5/D1rpf2Cy%2Bzw6ROI1m05I9u1bWQQxB4APLYRICp2jGHdfs%2BfsMX3wttfgde/BD4TzeCrK/N9Z%2BD5fDWmNpcF0d%2BZ0tDH5KSfvH%2BcKG%2BdueTXE/G79o79u34D/Bjxf8cfFX7KHwkutL8GeF9Q13UrbT/jrqjTzQWltJcSJGH8MKpcrGQoZlGSMkDmuo/4Tj/goX/0a/8ABn/w/Grf/MvQBu%2BIPhN%2ByB4ssfDGl%2BKvhp8NtTtvBMscvgy31DRtPmj0B0CBGsldCLUqI0wYtpGxcdBVrTfAP7LWjfFW/wDjto/gvwBaeN9Vtlt9U8ZW2m2Meq3kISNBHLdqomkQJFEoVmIAjQdFGOY/4Tj/AIKF/wDRr/wZ/wDD8at/8y9H/Ccf8FC/%2BjX/AIM/%2BH41b/5l6APUf%2BE58E/9Dhpf/gwj/wDiqPBh36GZ1B2TX13LESMbke5kZW%2BhUgj2NeXf8Jx/wUL/AOjX/gz/AOH41b/5l65f4u/tHft2/BrwpaeL/Ef7KHwkube88UaJoUcdl8ddUZxPqmq2umQOd3hhRsWa7jZznIRWIDHCkA%2BjqK8Z/wCE4/4KF/8ARr/wZ/8AD8at/wDMvR/wnH/BQv8A6Nf%2BDP8A4fjVv/mXoA9morxn/hOP%2BChf/Rr/AMGf/D8at/8AMvR/wnH/AAUL/wCjX/gz/wCH41b/AOZegD2aivnHx9%2B0d%2B3b8O/FfgjwhrH7KHwkmuPHniiXQtKktvjrqhSCePStQ1MvLu8MAhPJ06ZQVDHe6DGCWXqP%2BE4/4KF/9Gv/AAZ/8Pxq3/zL0AezUV4z/wAJx/wUL/6Nf%2BDP/h%2BNW/8AmXo/4Tj/AIKF/wDRr/wZ/wDD8at/8y9AHs1FeM/8Jx/wUL/6Nf8Agz/4fjVv/mXrl9W/aO/bt0f4z6B8Drj9lD4SNqniLwvq%2Bu2dynx11TyI4NOudNt5kcnwxuDs2qQFQFIISTJUhQwB9HUV4z/wnH/BQv8A6Nf%2BDP8A4fjVv/mXo/4Tj/goX/0a/wDBn/w/Grf/ADL0AezUV4z/AMJx/wAFC/8Ao1/4M/8Ah%2BNW/wDmXo/4Tj/goX/0a/8ABn/w/Grf/MvQB7NRXzjpP7R37dusfGfX/gdb/sofCRdU8O%2BF9I128uX%2BOuqeRJBqNzqVvCiEeGNxdW0ucsCoADx4LEsF6j/hOP8AgoX/ANGv/Bn/AMPxq3/zL0AezUV4z/wnH/BQv/o1/wCDP/h%2BNW/%2BZej/AITj/goX/wBGv/Bn/wAPxq3/AMy9AHs1FeM/8Jx/wUL/AOjX/gz/AOH41b/5l65fwD%2B0d%2B3b8RPFfjfwho/7KHwkhuPAfiiLQtVkufjrqgSeeTStP1MPFt8MElPJ1GFSWCnejjGAGYA%2BjqK8Z/4Tj/goX/0a/wDBn/w/Grf/ADL0f8Jx/wAFC/8Ao1/4M/8Ah%2BNW/wDmXoA9mrxn9l//AJLf%2B0d/2Wax/wDUK8L0f8Jx/wAFC/8Ao1/4M/8Ah%2BNW/wDmXq3%2Byt8OfjT4P1j4oeO/jpoHhfSdU8ffEKLXLPSvCfiW51a3tbWLQdH0xVe4uLKzZpGk06Vyoi2hZEG5jnAB63RRRQAUUUUAFFFFABRRRQAUUUUAFFFFABRRRQAUUUUAFFFFABRRRQAUUUUAFfK/7T37Wnxc%2BGHxj8Wa14B8O%2BD5PDHwf8P%2BH73xqda0i4m1XVLfV7%2BVLmCwuI7iNLLyLazjuMyRTi5kKRkQ%2BX5p%2BqK8Z%2BM/7EPw4%2BN3xSPxM1zxz4q0uLUbXSLXxf4a0a6tU07xTBpd7Je2MV8stvJMFjmmlz9nlgMschimMsYVAAezUUUUAFFFFAHzH4c/aV%2BJkP7f/ij4P/EbWPD3hPw2viC00TwZFqPwi1lLrxjANAg1HEHiNrtdOaWO7udQAtBC8nl2kwCgs0i/TleV%2BLP2WoPH/wAZNI%2BKfj343%2BNdX0rw9rsetaB4AuDpkWjWOoR27wRzhobJL2XZ5kkipNdSRiR92z5EC%2BqUAFFFFAHi/wDwUF%2BLvxw/Z%2B/ZH8afHr4BXvhSPWPBOhXeuXUHjDRbm%2Btru0tbaWZ7dEtrq2ZJXZEUSFyqAsSj8CvP/Hn7Wnxc8F/HjxbqfhTw74Qi%2BHnhD4x%2BEfh94ys5tIuDreq6rrsGipHqEN2lwsMccH9uaTGYpLeV5EhnxLHtQV7D%2B1j%2BzjZftafAjXv2fda%2BKvinwjpPieylsdcv/CC6d9rubKWJ4prbdf2l1GiOr8siLICo2uvOeLg/YB8HT/EWz%2BIvir44%2BPtdY6zpOueJtG1CXSorHxPrmmJGljq17HbWETLcRCC0wts0EDGxti8TGPJAPe6KKKACvF/2yfi78cPgla%2BAfGPwsvfCn9jah8TPDnh7xfY%2BINFubm6ubXVdZsdNBs5YbqFLaSNbmWTfIk6koi7OSa9oryr9q79lt/2qvDeheF5/j7438DW%2BheJLDXUbwXDo7Pd3tjeQXlm0p1LT7wbYri3jcLGEDcrJvU7QAecfs8/tK/EzW/2qvFvwR%2BKGr%2BHvCenQ%2BKdbt/BPhKT4Razplzr1tC6Sm/t9auLv7BqDsZJpZYraAvyXYrhifpyvJdJ/ZRD/ABk0X4y/Ef8AaA8d%2BNZvC93eXfhPQvEI0mGw0e6ubeS1kuIlsNPtpZX%2BzzTwr58kqos77QCQR61QAUUUUAeH/t3fFz48fs/fBrV/jr8KPGPgWx0/wtotzeXui%2BLPDN7f3PiG9yi2emWcltewfZ5riUi3RvKumaWeILCx%2BVvP/gj%2B198Z9c%2BJfgr%2B1vBnhLSPhp43%2BJ/ij4beFfDWnaXNHq%2BiX%2BgQ6tvnnuRcNbzQSN4f1NFhjt4jGrWx8yTLAen/ALSv7IMH7SXjzwR8QJv2gfHfhC58A3dze6LY%2BGItGns5L2VBGt5NBqenXiPPDH5iwyAKYxPKR8zZFXwH%2Bw18PfAfxlt/i7D8RfF2pQadrup69onhDUrmy/snStb1GN49Q1SBIrVJ/PnE92WV5nhRr65McUfmcAHtdFFFABXy/wDtc/Hj9pf4LfETT/CmlQ%2BAPGuj%2BOYdattF%2BHMXg%2B%2Bk1hLW00O6u5L%2B4nF68V1bC6it7aSEWsQP2%2BFBMZGRJPqCvDpv2JriP9o/xX%2B01on7VfxL07V/Fumw6dc6XDB4fntNPs4YGjhtrNrnSZbm3iWV3utizbXncu4cHbQAz9hD9oPxv8e/h7eXXxX8faNfeLtOFm2v%2BG7L4Xav4RvNAee2WUQXNlq91PcOC2/y7gBI5FQ7Q20mvdK83%2BB37N2nfBnxP4k%2BIesfFLxT448VeK4rG31jxP4uawW5e0sxN9ltUi0%2B1tbaOKNrm5cbYQzNcSFmbIx6RQAUUUUAfHP/AAUE/bj%2BKn7GHjn%2B09c0XQPGPhF9G1HW7fwrL8OdTspbdNN0a%2B1JJP8AhIprp9Mnu/temjZYrAl0I5llA2wtI3r37NHxd%2BOerfFTxv8As9ftHXPhTUPE/hHSdD1qPWvBWkXNhY3NjqgvI0iMFzc3LrLFcaddqX83EiGJtkZJUVvjr%2Bwl4I/ac1q6tfj/APFvxr4o8F3MlxIvwyvJNNh0WKSaxmsmbfb2Ud9IBHcTMElunQO%2B7b8iBen/AGfP2ZtI%2BAd5r3iK7%2BKHizxx4j8SGzj1bxV41uLN76W2tIjFa2o%2Bx21vCsUQeVhiPezzyu7Ozk0AelUUUUAFfEf7U/7ZX7Wfwb%2BNXiD4UeDvDfhzxrqdhotxrvhgJ8D/ABBHJooGo6ZaoYW%2B3OPE0gsdUuPO/svynhaErKIxMI6%2B3K8P179i3U/Evj0/E7Wv2ufijNrenwXkXg28KaAB4VW6mhkn%2ByRjSdk7NHAtvuvVumWJnClXdnIB1X7LHxYf4yfCODxZe/EzRvFV/DqN1ZapfaN4MvvDotriKVla1m03ULie6s54xhXjmcPn5tqhgK9GrhvgH8BfD3wA8M6no2leKdb8Qajr%2BvXGt%2BJPEniOaBr3Vb%2BYIjTyi3ihgTEcUMSpDFHGqRIAowSe5oAKKKKACiiigAooooAKKKKAKPijxDYeEvDWo%2BK9VDm10yxmu7kRLlvLjQu2B3OFNfOf7E37Sfxr8f8AinR/Bnxs8PeDLMeOvhbZfEbwzD4M0q4tBpkd5cE3en3ZmuJRdzRvc2z/AGxBAJ2lmJgj2gv9LXdpa39rLY3tuk0M0bRzRSqGV1IwVIPBBHGK8h/Zm/Yr8Bfswaq%2Br6B8QfFviWW28MWPhnw6PFl7azDQNCs3ke3021Nvbwlo1MnzSzma4kEcXmTP5a4APYqKKKACuF/ag8efEX4Wfs0fET4nfB/wouveLfDngXV9U8LaG1jNdDUdRt7OWW2tjDAyyzCSVETy42DtuwpBINd1Wd4t0S/8S%2BGNQ8P6X4r1HQrm9tJIbfWtIWBrqxdlIE0QuIpYi6nkCSN0yPmVhkEA8u/Yp%2BLU/wAUPhnfWWrfELw/rOp%2BHdVXTrzTNE%2BGGp%2BDn0NBbQSRWdxpWqXM9zC4RxIrt5aPFLFsTA3v7FXnnwH/AGdtJ%2BB154l8R3PxE8SeMfEni/UYbzxF4p8VvZi7ujDbpbwRCOxtra2iijjQBVjhTJZ2YszMx9DoAKKKKAPlz9qj9rH4ofs4fF7xxZfErRvCXiL4X2H7O/i/x7baFb6JcJqrtog0tZ7a4uZLl7eaKdb6cBBbIVCJl3ywrt/2Z/i/8fNU%2BLnjL9nX9pZ/CV54o8MeGPD3iWPVfBWk3NjZSWWrPqVutsYbm5uXMsNxpF2DKJAsiPE3lxnctQfGP9hXw78dPjq3xl8efHbxzLps3grU/CN98PYYNF/sS70bUltvt9pIX01r0idrSB2cXQdShCMiMyHpP2d/2XdD/Z9vta8Rz/FDxb438Q6/a2Flf%2BJ/G1zaSXpsLFJFs7MfZLa3j8qIz3DglDI73Mru7s2aAPT6KKKACvkT41/tL/tbeDNd/aA8CW/hXwZ4svfAXh/wp4k%2BG1jpPw/1O/nWPUdV1KEJeWsV48uozwLpsc6m2FuS5IVflVq%2Bu68Ll/Yo8QxfHTxt8f8AQv20PitpWreN9IsdMubGys/DDWmm21lcXM9mlsJdFeT90by6UGZ5S6zkSeYVQqAdX%2Byp8W5vjL8KR4m1H4naN4p1G11W5sdWutH8EX/hs2dxE3zWs%2BmajcT3VpOildyTMGIZW2qrCvSa4T4B/APQPgDoWs2On%2BLdc8R6r4m8QS654n8TeJJbdr3Vb%2BSGGDzZBbQwwRhYLe3hVIoo0VIUAXOSe7oAKKKKAPjb9pb9rv8AaW/Z4%2BM0Hw21lPhn41vtbggm8Iw6d4WvbSXwXeal4h0zw9pE2pyvfTC6inbV5wWiWzkcWN0sYZfMMXuP7Kvxf%2BJHxGHj/wCH3xiOiT%2BKvhp48bw1rOq%2BGtOms7DU/M0vTtWt7iG3mnnkt82uqW6PG00uJI5MMQRjhbb/AIJq%2BEmuviG/iH9pf4nazb/EnXjrmsW%2BpHQvMs9SiuIZ9Puba6i0tLpTYPb24tI3mkiiWFAyPzn1j4B/AXQ/gH4e1bTbLxfrniTVvEWvTa14n8UeJXtjf6vfSRxQ%2BdMLWCCBdkEFvAiRRRoscEaheCSAd1RRRQAy5%2B0/ZpPsezzth8rzc7d2OM45xmviD4rftc/tp/DT4ia58Nre28B%2BM9e8MXvhq31bx14I%2BCuv6tH4ct9Wa8e9sJdKs9Snu7maOGysbomKdP3d1C0sCAxNJ9vXcMlxay28N1JA8kbKs8QUvGSMBl3ArkdRkEeoNfPfwY/YC8QfAT4bXHw0%2BHf7dXxiijutWfU5tZvLLwnPqEt3K8slzPNM%2BhH7TJO8u6SScSPmNNhQDBAPWfgJ8Q7L4rfB3w/8QrD4gaN4qTU9PEj6/wCH9JmsLS7kBKyFLWeaaW2KurI0MkjvGysrHcpA6%2BuS%2BBfwX8Jfs%2B/C/TvhT4Kub%2B4srCW6uJr7VbkTXV9d3VzLdXV1M4VQ0s1xPNK%2B1VXdIdqquFHW0AFUfE8PiS58N6hb%2BDdTsbLV5LKVdLvNTsHuraC4KERySwxyxNNGrYLIskZYAgOpO4XqzfGOg3/ijwtf%2BHdL8W6loNzeWrxQa1o4gN1YuRxNELiKWIup5AkjdDj5lYZFAHw98N/27P2tfjB8U9b%2BCXws034fJ4z02112%2Bk8Z%2BK/hdrWhrqmmaRa6LKljLol5fJqGnyvd%2BIdiTTzPH5UMlwkLrOgP2N8Avi1pvx8%2BBPgr466NpstnZ%2BNfCWm69aWcz7ngivLWO4WNiAMlRIAT6ivFtX/4JkeB9a1y%2B%2BIt3%2B0p8U0%2BIGrJeWutfEm2vdIh1a/0y6trW2m0wommizhtillaMPItopVkgWVZQ5Zj9B%2BC/B/hr4eeDtJ8AeDNJi0/R9D0yDT9JsIc7La2hjWOKNc84VFVR9KANOiiigDl/jTqPjjRvhbrWt/DnxDY6Xq1hZm6hvtQ8H3viBEjjIeUDTrGeC5vJGiV1SKGQOXZcK5%2BRvi34S/8FEfj94k8aaHqfje48I%2BBPBmpTzr4g8cXnwM8RTW2sX8Ov3WkIlzKt9GnhmeS1tLX9xqjSSwPKsb52BK%2B2/iZ4M13x74Sm8OeG/ilr/g28kljeLX/AAzFYvdwbWBKqt/bXMDBgCpDxNwTjBwR4rdf8E5vCmoeD7j4bat%2B0h8TbvwxrmoTX/jzQJrjRxF4wu57xrq4mvpV00XEXmllhaOzltYhDEkaoo3bgD6JooooAKKKKACiiigAooooAKKKKACiiigAooooAKKKKACiiigAooooAKKKKACiiigAooooAKKKKACiiigAooooAKKKKACiiigAooooAKKKKACiiigAooooAKKKKACiiigAooooAKKKKACiiigAooooAKKKKACiiigAooooAKKKKACiiigAooooAKKKKACiiigAooooAKKKKACiiigAooooAKKKKACiiigAooooAKKKKACiiigAooooAKKKKACiiigAooooAKKKKACiiigAooooAKKKKACiiigAooooAKKKKACiiigAooooAKKKKACiiigAooooA//Z\">"
            ]
          },
          "metadata": {
            "tags": []
          }
        }
      ]
    },
    {
      "cell_type": "markdown",
      "metadata": {
        "id": "Wxb-uldU8s6V",
        "colab_type": "text"
      },
      "source": [
        "# Submit a linear model"
      ]
    },
    {
      "cell_type": "code",
      "metadata": {
        "id": "aN32euG08s6W",
        "colab_type": "code",
        "colab": {}
      },
      "source": [
        "'''## GRADED PART, DO NOT CHANGE!\n",
        "# Testing shapes \n",
        "grader.set_answer(\"9XaAS\", grading_utils.get_tensors_shapes_string([W, b, input_X, input_y, logits, probas, classes]))\n",
        "# Validation loss\n",
        "grader.set_answer(\"vmogZ\", s.run(loss, {input_X: X_val_flat, input_y: y_val_oh}))\n",
        "# Validation accuracy\n",
        "grader.set_answer(\"RMv95\", accuracy_score(y_val, s.run(classes, {input_X: X_val_flat})))'''"
      ],
      "execution_count": 0,
      "outputs": []
    },
    {
      "cell_type": "code",
      "metadata": {
        "id": "zZ0m_gPu8s6Z",
        "colab_type": "code",
        "outputId": "8c85307d-b0eb-4d05-86a1-5b1c1bb316cc",
        "colab": {
          "base_uri": "https://localhost:8080/",
          "height": 34
        }
      },
      "source": [
        "'''# you can make submission with answers so far to check yourself at this stage\n",
        "grader.submit(COURSERA_EMAIL, COURSERA_TOKEN)'''"
      ],
      "execution_count": 0,
      "outputs": [
        {
          "output_type": "stream",
          "text": [
            "Submitted to Coursera platform. See results on assignment page!\n"
          ],
          "name": "stdout"
        }
      ]
    },
    {
      "cell_type": "markdown",
      "metadata": {
        "id": "DiiTYNQq8s6c",
        "colab_type": "text"
      },
      "source": [
        "# MLP with hidden layers"
      ]
    },
    {
      "cell_type": "markdown",
      "metadata": {
        "id": "hCt9Vcsf8s6d",
        "colab_type": "text"
      },
      "source": [
        "Previously we've coded a dense layer with matrix multiplication by hand. \n",
        "But this is not convenient, you have to create a lot of variables and your code becomes a mess. \n",
        "In TensorFlow there's an easier way to make a dense layer:\n",
        "```python\n",
        "hidden1 = tf.layers.dense(inputs, 256, activation=tf.nn.sigmoid)\n",
        "```\n",
        "\n",
        "That will create all the necessary variables automatically.\n",
        "Here you can also choose an activation function (remember that we need it for a hidden layer!).\n",
        "\n",
        "Now define the MLP with 2 hidden layers and restart training with the cell above.\n",
        "\n",
        "You're aiming for ~0.97 validation accuracy here."
      ]
    },
    {
      "cell_type": "code",
      "metadata": {
        "id": "EoxZvnEW8s6e",
        "colab_type": "code",
        "colab": {}
      },
      "source": [
        "# write the code here to get a new `step` operation and then run the cell with training loop above.\n",
        "# name your variables in the same way (e.g. logits, probas, classes, etc) for safety.\n",
        "### YOUR CODE HERE ###\n",
        "s = reset_tf_session()"
      ],
      "execution_count": 0,
      "outputs": []
    },
    {
      "cell_type": "code",
      "metadata": {
        "id": "KpEuOoIKBaN4",
        "colab_type": "code",
        "colab": {}
      },
      "source": [
        "input_X = tf.placeholder(tf.float32, shape=(None, 784), name='input_X')\n",
        "input_y = tf.placeholder(tf.float32, shape=(None, 10), name='input_y')\n",
        "hidden1 = tf.layers.dense(input_X, 256, activation=tf.nn.sigmoid)\n",
        "hidden2 = tf.layers.dense(hidden1, 256, activation=tf.nn.sigmoid)\n",
        "logits = tf.layers.dense(hidden2, 10)\n",
        "probas = tf.nn.softmax(logits)\n",
        "classes = tf.argmax(probas, axis=1)\n",
        "loss = tf.reduce_mean(tf.nn.softmax_cross_entropy_with_logits(labels=input_y, logits=logits))\n",
        "step = tf.train.AdamOptimizer().minimize(loss)"
      ],
      "execution_count": 0,
      "outputs": []
    },
    {
      "cell_type": "code",
      "metadata": {
        "id": "MyCvDSJXA-YD",
        "colab_type": "code",
        "outputId": "9d9a1f53-a334-4996-bf9e-02cc26608568",
        "colab": {
          "base_uri": "https://localhost:8080/",
          "height": 309
        }
      },
      "source": [
        "s.run(tf.global_variables_initializer())\n",
        "\n",
        "BATCH_SIZE = 512\n",
        "EPOCHS = 40\n",
        "\n",
        "# for logging the progress right here in Jupyter (for those who don't have TensorBoard)\n",
        "simpleTrainingCurves = matplotlib_utils.SimpleTrainingCurves(\"cross-entropy\", \"accuracy\")\n",
        "\n",
        "for epoch in range(EPOCHS):  # we finish an epoch when we've looked at all training samples\n",
        "    \n",
        "    batch_losses = []\n",
        "    for batch_start in range(0, X_train_flat.shape[0], BATCH_SIZE):  # data is already shuffled\n",
        "        _, batch_loss = s.run([step, loss], {input_X: X_train_flat[batch_start:batch_start+BATCH_SIZE], \n",
        "                                             input_y: y_train_oh[batch_start:batch_start+BATCH_SIZE]})\n",
        "        # collect batch losses, this is almost free as we need a forward pass for backprop anyway\n",
        "        batch_losses.append(batch_loss)\n",
        "\n",
        "    train_loss = np.mean(batch_losses)\n",
        "    val_loss = s.run(loss, {input_X: X_val_flat, input_y: y_val_oh})  # this part is usually small\n",
        "    train_accuracy = accuracy_score(y_train, s.run(classes, {input_X: X_train_flat}))  # this is slow and usually skipped\n",
        "    valid_accuracy = accuracy_score(y_val, s.run(classes, {input_X: X_val_flat}))  \n",
        "    simpleTrainingCurves.add(train_loss, val_loss, train_accuracy, valid_accuracy)"
      ],
      "execution_count": 0,
      "outputs": [
        {
          "output_type": "display_data",
          "data": {
            "text/html": [
              "<img src=\"data:image/jpeg;base64,/9j/4AAQSkZJRgABAQEASABIAAD/2wBDAAIBAQEBAQIBAQECAgICAgQDAgICAgUEBAMEBgUGBgYFBgYGBwkIBgcJBwYGCAsICQoKCgoKBggLDAsKDAkKCgr/2wBDAQICAgICAgUDAwUKBwYHCgoKCgoKCgoKCgoKCgoKCgoKCgoKCgoKCgoKCgoKCgoKCgoKCgoKCgoKCgoKCgoKCgr/wAARCAEgA2ADASIAAhEBAxEB/8QAHwAAAQUBAQEBAQEAAAAAAAAAAAECAwQFBgcICQoL/8QAtRAAAgEDAwIEAwUFBAQAAAF9AQIDAAQRBRIhMUEGE1FhByJxFDKBkaEII0KxwRVS0fAkM2JyggkKFhcYGRolJicoKSo0NTY3ODk6Q0RFRkdISUpTVFVWV1hZWmNkZWZnaGlqc3R1dnd4eXqDhIWGh4iJipKTlJWWl5iZmqKjpKWmp6ipqrKztLW2t7i5usLDxMXGx8jJytLT1NXW19jZ2uHi4%2BTl5ufo6erx8vP09fb3%2BPn6/8QAHwEAAwEBAQEBAQEBAQAAAAAAAAECAwQFBgcICQoL/8QAtREAAgECBAQDBAcFBAQAAQJ3AAECAxEEBSExBhJBUQdhcRMiMoEIFEKRobHBCSMzUvAVYnLRChYkNOEl8RcYGRomJygpKjU2Nzg5OkNERUZHSElKU1RVVldYWVpjZGVmZ2hpanN0dXZ3eHl6goOEhYaHiImKkpOUlZaXmJmaoqOkpaanqKmqsrO0tba3uLm6wsPExcbHyMnK0tPU1dbX2Nna4uPk5ebn6Onq8vP09fb3%2BPn6/9oADAMBAAIRAxEAPwD9/KKKKACiiigAooooAKKKKACiiigAooooAKKKKACiiigAooooAKKKKACiiigAooooAKKKKACiiigAooooAKKKKACiiigAooooAKKKKACiiigAooooAKKKKACiiigAooooAKKKKACiiigAooooAKKKKACiiigAooooAKKKKACiiigAooooAKKKKACiiigAooooAKKKKACiiigAooooAKKKKACiiigAooooAKKKKACiiigAooooAKKKKACiiigAooooAKKKKACiiigAooooAKKKKACiiigAooooAKKKKACiiigAooooAKKKKACiiigAooooAKKKKACiiigAooooAKKKKACiiigAooooAKKKKACvPfjt%2B1J8FP2b5NGsfil4g1Maj4ilnTQNB8OeF9R1zVNR8lVed4bHTbee5kjiVkMkixlI96biu5c%2BhV4N%2B0P8D/j5/wANJ%2BDv2tv2bLLwfrWueH/B2seFNX8KeOdcutLtLywv7mwuxcQXtraXj288U2noCpt3WVJSCUKK1ABpf/BTL9izWLvxPb2nxXv0h8FWsk/jLUrvwXrEFjoIS0iu9l5dy2iwWsrQzRskMjrJIWKorMrKL2n/APBQ/wDZK1HwBrXxFTx/q9vB4f1ay0vVdE1DwNrNrrkV5ebfscC6PNaLqEr3AYGER27eaAxTcFYjy2b9gH4y%2BMf2a/jn8NfGHinwppHin4o/FS38daHc6U1xeWFpeW0OiywQ3IkihkkiN3pRRwoyYHGDuJVaPi79i/8AaV%2BLmr/Ef45fG34S/CjWvFnjWx8KaPp/gKy%2BI2s2Wm6fY6Hcaldw3qa7b6al5DqDXOqTOksVoPJSKNFZiWcgHsviH9vv9mzwv4a8OeI9XvvG3meK0v5NE8P2vwm8SXGuSRWUscV3NJpMWntf28MLzQq8s0CIpmiy37xM%2Bmaz8RPBHhv4e3XxX8T%2BJbbSvDljo76rf6vqrfZYbSySIzPPMZdvlKsYLNvxtAOcYNfGHin9hH9s/WPgX4X8Nay3hfxV470a58RHRfGV/wDHbxNpGr%2BCLW%2BuUktLO11q1sJLzXIYkjhEy3qw/aTbReYCFGPUfjR/wTotfj1%2Bzb4n%2BHHxD%2BOfjW78d%2BMPhfH4Z17xS3jbWho818tpDE2oJoS3y2FuzzQLK3kRRSEPIBIrSM5AOkg/4KUfsZf8K58V/FbWPite6Jo3giysr7xQ/ifwdq%2Bk3NlZXkxhtb37LeWsVxJaSyK6pcxxtC3luQ%2BEYjj/AI3f8FZP2d/hn8ENU%2BMfgPRfFXiqbQfiD4X8L674Y/4QXXbHU7A6zqVrax3T2cmnNdeV5Fw88DeT5d48aW8MhknjB8r1T/gmJ8ZPHfwq8faR4i8DeG9G8Y%2BI9D0fR7DxDqv7RfjPxut3aWusW%2BoTRyf27AfsEZ8likUSzHe%2BGkxknv8A9qH9gz40/GD4g/F/4g%2BBfEPheOTxfB8LbzwlZ6tfXMSvf%2BE/EdzrUsN40dvJ5ENwGt4VljEzrl2MfyKrgHqFh/wUE/Zb1H4m2XwZh8T%2BJo/Fd5oun6xLoF38N9egudO0%2B9adILu/SSyU6dDut5VeS68pYiFEhQum6j4a/wCCmH7FPi3wZ4s%2BIWkfGC4TR/Bfgi68Zaxe6h4S1W0Fx4et0Z5tWsVntUbVLNVQ4nsxPGxZArEugbB0P9kP4ofEP4mfG74g/G9fD2gxfGj4O%2BHfCF1Y%2BE9duNRl0u4tE11Ltlnns7XzYwNViMT7FZikm6OPA3fN37Y37Kn7UOj/ALDHxS%2BJv7TF34AtIfhD%2BxT8QfBHhePwFqF5cNrzXukWxn1G6W5toBYqE0i3CWcbXAVppCZ22oKAPrPw9/wUl/Yy8TaHrHiPT/i1dQWehppU1/JqnhLVbJmtNSu1s7HUIUuLVGubCWdgovoQ9qoDO0qorMPT9E%2BLvw88R/FLX/gvofiH7T4k8LaXp%2Boa/YR2k22zgvmuBa7pinlF3%2ByzHy1cyKoRmVVkjLfJOofsz%2BIPFegeKfjb/wAFIvF/wz8J%2BBbf9nu5%2BHUlx4f8QTLay6beyQyXmq3k17BbpYOTBbCG2QzCAmT/AEiQsuOw/wCCPngP4u2f7I9r8f8A9pDUDf8AxJ%2BL15H4n8V6g9nJbtJCLSCy01fKl%2BeH/iX2lpI0TYKSzTZAYtkA%2BqqKKKACiiigAooooAKKKKACiiigAooooAKKKKACiiigAooooAKKKKACiiigAooooAKKKKACiiigAooooAKKKKACiiigAooooAK8R0j/AIKMfse6ld69Z6n8Urzw83hzw5c%2BINQk8a%2BEdV0GObSbd0jnv7WTUrWBb63R5IlaW2MqAyxjOXXPtN7FczWcsNndCCZ4mWKYx7/LYjhtp64POO9fmJq//BHL9uX4v6t4X1z43fHHQ31vw14P1Cz1DxRqHxW8TeJx4h1v7ZpV9a6idLvoobLSbaS50xfPsLIBRHJtWWQKgUA%2B2X/b/wD2YbX4aN8WNY8QeKtK0ttcg0axs9c%2BGWv2GqanfzIZIYLLTbixS9v2kQM6/Z4ZAyo7AkIxHReA/wBqz4H/ABH1%2By8J%2BHPEOqQ6vf8AhSfxJDpGteFdS0y7TTYbv7JLLLDeW8UkDrP8hhkVZe%2BzbzXk3xO%2BDn7bvxib4e/G3XPBvwq0P4h/Cjx1NrHh/wAM2vjjUr/Rdcs7jSbvTLmO4vn0qGaxmKXskkbpa3AjMQU%2BYJGxV%2BJPwG/bg1/4y%2BHf2mvA%2BjfCu08WX3ww1XwX4x0LUvFepSWGkLcX8N1a39lcJpwk1AxCN1kt5YrQSlxiWLHIB3Gk/wDBRv8AZA8R694F8LeFfiNqus6n8SfBuleLfBunaJ4H1m9nvND1F9lrqMiQWjNa2%2B7HmSTiNbcMpm8oMCdj4a/tufs3fFf4jXPwn8M%2BL9Ws9ft9LudThsvE/gzVtEW/sbeRI57uyl1G1gjv4I3liDy2zSIvmISQGUnyj9hT9hL4sfsw6/8ADjWfHniDw1dnwd%2Byl4R%2BGN%2B%2BkXM8rNq2lvM1zNF5kEe61bemxmKu235o0wK8a%2BGn/BKv9sbxP8UfC/ib9qb4w2eqRaf4A8V%2BF/GniaD4v%2BJNavPEUur2KW39p2umX0Men6EcqWNpaKUXKgTOI1WgD6l8J/8ABRf9kfxrosfirQfHeuf2Hcarpen6f4lvfh/rdrpWoy6lex2VlJaX09mlteQS3M0UYuIJHhBlQs4VgT6X4W%2BLvw88a/EDxT8LvC/iH7XrnguSzj8T2iWkwWxkuoPtEEZlZBG7tCVkKIzMiyRlgokTd8w%2BOPAnxF8K/wDBPbxp8CP%2BChnif4VeCPAWg/DSLQLb4meHfFt2GadI0trXUntLqzgTTZlmFvJDBHcXTGcoiOTtDdr/AMEr/h98WPDf7ImlfFX9oqwS3%2BJ3xYvpfHXxEhW3aL7Pf36xmG02N8yfZbGOys9pyQLXBoA%2BjaKKKACiiigAooooAKKKKACiiigAooooAKKKKACiiigAooooAKKKKACiiigAooooAKKKKACiiigAooooAKKKKACiiigAooooAKK5z4u%2BI/iB4R%2BG%2BreJfhZ4J03xHr9nbiTT9G1fXm0y2uTuXd5l0lvcNEqpubIhkJ24C81y3wp%2BOXjb43/si%2BD/ANo74cfDOxk1zxp4F0nxBpvhTU/EbW9vDJe2sNx9nlvVtnYJGJSDKsDEhMiPJC0AemV4v8evH/7Rf/DRfgX4EfAXxn4K8Ppr/grxLr2r6n4v8F3etEnTrvQ7eGGGO31Kx8sN/akrMzM%2BfLQALyTtfsw/H7xB8dtM8XWHjXwFZeHvEPgXxpP4a8QWmj682qafLcx2trd%2BZa3bW9u08fl3kSNuhjZJo5oyuY8nmPiLrSWf/BSr4Q6LIoxe/BP4hsjZ53R6t4NOPyZj%2BFJtLcuEJVHaPZv7tWX/APhB/wDgoX/0dB8Gf/DD6t/81FH/AAg//BQv/o6D4M/%2BGH1b/wCaivZqKZB4z/wg/wDwUL/6Og%2BDP/hh9W/%2Baij/AIQf/goX/wBHQfBn/wAMPq3/AM1FezUUAeM/8IP/AMFC/wDo6D4M/wDhh9W/%2Baij/hB/%2BChf/R0HwZ/8MPq3/wA1FezUUAeM/wDCD/8ABQv/AKOg%2BDP/AIYfVv8A5qKP%2BEH/AOChf/R0HwZ/8MPq3/zUV7NRQB4z/wAIP/wUL/6Og%2BDP/hh9W/8Amoo/4Qf/AIKF/wDR0HwZ/wDDD6t/81FezUUAeM/8IP8A8FC/%2BjoPgz/4YfVv/moo/wCEH/4KF/8AR0HwZ/8ADD6t/wDNRXs1FAHjP/CD/wDBQv8A6Og%2BDP8A4YfVv/moo/4Qf/goX/0dB8Gf/DD6t/8ANRXs1effEDx/8DPhoNT8YfH3xx4U8P6edai0%2By1LxhqltaQeYbSOVYI5LllXeQJX2g5IVjjg4mc4U4uU2kl1bsvvdkbYfD4jF140aEJTnJ2UYpyk32UYqUm9Hok3psc1/wAIP/wUL/6Og%2BDP/hh9W/8Amoo/4Qf/AIKF/wDR0HwZ/wDDD6t/81FV/wDhr/8A4Jwf9HRfBH/wttH/APjtH/DX/wDwTg/6Oi%2BCP/hbaP8A/Ha5vr%2BA/wCf0P8AwOH/AMke1/qlxZ/0LsR/4T1//lBY/wCEH/4KF/8AR0HwZ/8ADD6t/wDNRR/wg/8AwUL/AOjoPgz/AOGH1b/5qK7D4aeJP2cvjRoUvin4O6/4J8WaZb3bWs%2Bo%2BGrqzv4I51VXaJpICyhwroxUnIDqcYIryf4g/ts/snfCH41/ET4RfFjwPqGh2nw08Dad4p8Q%2BLZPh/f3GlRWVyL5mLXMFo8UflpZE5Z/3jO0ce54ZVXphOFSKlBpp9U7r71dHi4jD4jCV5Ua8JQnF2cZJxkn2cZKMk9Vo0nrsdR/wg//AAUL/wCjoPgz/wCGH1b/AOaij/hB/wDgoX/0dB8Gf/DD6t/81FRN%2B03%2ByhbTeG49Y8J69pUPiu4ht9Iv9c%2BD%2Bt2Fos0169lbx3NzcWCQ2TzXChIluHiaXzYWQMs0TPzOu/t0/sU%2BArQn4kzWNvdte%2BK1htfDfgfVtYIs/D%2BqnTdRupRb6bvhSCVohMzL5SF2KSzRKJ2oxOr/AOEH/wCChf8A0dB8Gf8Aww%2Brf/NRR/wg/wDwUL/6Og%2BDP/hh9W/%2Baiu%2B0CP4MeK7ie08Lx%2BGNRmtoYJrmGxW3leGOdPMhd1XJUSJ8yk43LyMivD/ANn79qrRPjR8UtG8L65%2Bzdomh%2BGPHOm67qHwz8SQ6ql3Pq1vpV7DazG7tTaRixaZJ47mBUluN0IfzDC6iMgHZf8ACD/8FC/%2BjoPgz/4YfVv/AJqKP%2BEH/wCChf8A0dB8Gf8Aww%2Brf/NRXG%2BLP2qtE8NfHjUfA9v%2Bzdodz4E8PfETRfAfifxq2qpHeWmv6raWdxaJFp/2QrPa51LTYXnNyjLJdECJxE7Vt/CH4r%2BLfiTr/wAYPAWsfss%2BEtL8SfDXU47XQtPtvE63MGuifT0vLRppzYR/YmfzER1CTiPJIaTGKANf/hB/%2BChf/R0HwZ/8MPq3/wA1FH/CD/8ABQv/AKOg%2BDP/AIYfVv8A5qK5XwD%2B094a8R/sf2f7R3ir9nrRLHxNqOtX2gaZ4D0nUUvRqGtw6rcaZDZwXb2sJdJZ4NxmaFBFEXkdQkbkcZ4x/bI%2BItv%2BxT8Nf21vhj%2Bxn8PNZ034heDfC2pp4a1n4hTWF/FqmutaR2mmW/laJcR3WZr2GPzmaHJJJjUDNAHrv/CD/wDBQv8A6Og%2BDP8A4YfVv/moo/4Qf/goX/0dB8Gf/DD6t/8ANRUFh8Srtf2z7j9l7xH%2Bzv4Zs9CufA1x4j8N%2BLrbWVnub4W9xY288M1ibNVtgJL3COLiQsISSibhXNeFPjh8Q7jx94q%2BDHxF/ZV%2BHOheMdH8B2/ivSILbx%2BbvS5LSW5ntxHqF4dJjfT5A0DnKQXEbKkhR38thQB1n/CD/wDBQv8A6Og%2BDP8A4YfVv/moo/4Qf/goX/0dB8Gf/DD6t/8ANRXgGq/8FNvAln8H/DXxJs/hD8GkXxB8aLn4fDxPqnxZjtfBbmHQb3WDqNrr39lP9rgJszY4%2BzR/6X5sW791l/aPHvxe1v4f/FL4LeDb79nHwTfaD8VdVbR9U8SaZ4qEv9kal/Yuo6oq20J08C/tyunSJ57PbHEqMIzyoANf/hB/%2BChf/R0HwZ/8MPq3/wA1FH/CD/8ABQv/AKOg%2BDP/AIYfVv8A5qK4Pw7%2B2J4O1b4/WPw01b4C%2BF9P8La58TtW%2BHvh3X316NtUuNe06wub2YTab9kCwWrR2dyI5hcvI37hjCqTBhV%2BGf7Wlx8QdZ%2BKnw/HwU%2BDLeJfhbplrd6veaL8Vft3hyzlea6jubHUtT/siN9NvLZLSSWWA20pWN4ixXcdoB6N/wAIP/wUL/6Og%2BDP/hh9W/8Amoo/4Qf/AIKF/wDR0HwZ/wDDD6t/81FeRxftySa3%2BypZftSeA/2WfA%2Bv6bD8QE8O69cab44WTSpLU6nFp/8Aaek366a39qwGSZSmYrcMUkUuu0E%2BkftFfFfxD%2Bz74o0bWLz9mfwfqXgHUfE2g6Bda6niYRawt5quow6fF9n037A0dxHHLcws5N3G%2BwSlI3KBXANT/hB/%2BChf/R0HwZ/8MPq3/wA1FH/CD/8ABQv/AKOg%2BDP/AIYfVv8A5qKx9A%2BOmmWP7QHxW%2BEfxh%2BAvhjw1onw58E6X4tsfE9nq4v31LSrufVoWkntvscX2R4zpEr7Fkn3LKvKkFa8y0f/AIKC%2BE9Q/Zc8S/tS3HwV%2BFD6XpV9olva2OkfFG3vm0cajdxwM/iOWLT/AC9CFok8U9yUN4Io0nOWEQLgHsv/AAg//BQv/o6D4M/%2BGH1b/wCaiqHgfxx%2B1Z4O/as8OfBH43fEf4e%2BJtG8TfD3xDrkM3hX4eX2i3VpdabfaJborPcavfJLG6apKSoRGDRIQ2Mgp%2BzR8ZvCv7Tn7NV38cdJ%2BHWgaPLFd6taWd/4a1RNS069ayuJoFvtOv1ggN3ayGLfHN5Ue4Z%2BXAydDxx/ykL%2BF/8A2Rnx5/6dvCFAHs1FFFABXm37WX7SulfsjfBHVvj14j%2BF/ivxXpOgwyXOtWng%2BGze5s7OOKSaa7cXlzboYo0jOQrlySoVGJxXpNeM/wDBQT4T/Gr4%2Bfsf%2BPPgN8BNG8LXeveN/Dd7oXneL/EdzplpZQ3VtLE1z5lvZXbyOhZSIvLUMCf3i4GQDsPj18dPD/wB8HWnifV/DWsa9e6rrdpo/h/w54ejga%2B1a/uX2xW8P2iWGFTgPIzyyxxpHE7s6hSa8n8R/wDBTX4QaH4H07xnpvwp8f6zNJpOvap4n0HSNMsnv/Cllol59h1aa/SS7RCba63Q%2BVavcSzmNzbpOqlq2PjZ8Mf2l/jN4K8JeKB4O8C6P428B%2BMdM8T6JpI8aXl1pl/OkNxbXlnNd/2ZHLAht7qdY51t5DvKO0QClD41e/sB/tW%2BGfDWoa/8Odc%2BH8/i74geGvGukfECPV9WvY7DR5Nf1iTU4rqwdLR3vRY%2BfNB5MqW32obHMtsQVIB9qabqWn6zp1vq%2Bk3sVza3cCTW1xC4ZJY2AZXUjggggg%2B9fPHwm8Vft3/HXR9e8d%2BF/jf8JNA0u3%2BIXirQ9L0q/wDg/ql/cRWul69f6ZC0twniKBZZHjs1dmWKNdzkBQAK9mt/hH4Yi%2BD9n8E3v9Yj0iz0O30pLjTNcutPvRDDGsasl1aSRTQvhB88bqevPNePfsOeHdP8K/spXvg/TLm/ls7T40%2BOLFJNS1W4vbmWH/hPNWjIluLh3mndkyGkkdncklmJJNAHR/8ACD/8FC/%2BjoPgz/4YfVv/AJqKP%2BEH/wCChf8A0dB8Gf8Aww%2Brf/NRT9f/AGoP%2BCfvhTXb3wt4p/aI%2BDmm6npt3Ja6jp2oeLtKhntZ42KSRSRvKGR1YFWVgCCCCMiqn/DX/wDwTg/6Oi%2BCP/hbaP8A/Ha5XjsCnZ1Yf%2BBx/wDkj3ocK8U1IKcMvxDTSaaoV2mnqmmqDTTTTTTaaaabTTLH/CD/APBQv/o6D4M/%2BGH1b/5qKP8AhB/%2BChf/AEdB8Gf/AAw%2Brf8AzUU/QP2oP%2BCfvivXbLwt4W/aI%2BDmpanqV3Ha6dp2n%2BLdKmnup5GCRxRxpKWd2YhVVQSSQAMmr37VfxL%2BFX7KH7N/jX9pLxT8Ll1bT/BXh641W603SNEE1xcrEudiLHGxGTjLkbUXLuVVWYa0q9Cum6c1K3Zp/k2efjsrzPK5xhjcPUpOSulUhOm2trpThBtX0uk1fS99DO/4Qf8A4KF/9HQfBn/ww%2Brf/NRR/wAIP/wUL/6Og%2BDP/hh9W/8AmoqhpP7Wf7H%2BueN5fhrpfhrX5fENt4cXXtQ0X/hTWurdafYPHdvFLdRtp4a1aX7DcrFHMEkmeMRxq7uis7TP2nP2YPE0nh3/AIRXTLBDrPjqbwre2HiXwlqOj6jY30ejXWrmFrK5sBMkptbdZlW4W3jeGTzFlZjFHNqcJd/4Qf8A4KF/9HQfBn/ww%2Brf/NRR/wAIP/wUL/6Og%2BDP/hh9W/8Amoqh8FP2v/2F/wBoLRpvEfw28TaX/Z0Xh/T9dS/8ReEbvRYLnS75mW1vYJNRtoFubeR1KCWIuofCEhiBV39o34iN8K9f8H/DT4QfADw14u8Z%2BNr28TStL1rVV0ixgtbO1a4ubme6SzunQD9zEqrC5aS4jzsQO6gDv%2BEH/wCChf8A0dB8Gf8Aww%2Brf/NRR/wg/wDwUL/6Og%2BDP/hh9W/%2Baiue1/8Aak%2BFsH7Fvhr9r/wn8FLK8Hi8eHbfRvDuqGCz8i/1i/tNPggu7kRyLbxxXN4izSqsm1Y5CiyHarcVa/tuL4ivrL4WeCf2ZvAV58Sk8XeINA8RaNfeOVttC06fR7W3u7nZqg015J2aC8tHSM2kbfNN5nlCBzQB6t/wg/8AwUL/AOjoPgz/AOGH1b/5qKP%2BEH/4KF/9HQfBn/ww%2Brf/ADUV5d4t/bG1e7%2BD/wAJ/wBoz4F/steAfFPgn4uSeFoNBGreNZNO1kT6zNEpRbSLSLmCRbaCRriRvtK/Jbz4A2At2F38XPiHoP7ZHhv9mbxN%2By58O/7D8T6VrmsW3iXSPG01zfWWlacbeMXNzYSaPFHGZZ7y0iCLdPgySENIImyAdD/wg/8AwUL/AOjoPgz/AOGH1b/5qKP%2BEH/4KF/9HQfBn/ww%2Brf/ADUVhfsk/tK/D79rPxp8Q9J0L4GafpWheEtSsU8M69M8Up8S6fdW5li1FYhCvkQybWaH55PNhaKXKGTy19u8GDZoZgUnZDfXcUQJztRLmRVX6BQAPYUAeXf8IP8A8FC/%2BjoPgz/4YfVv/moo/wCEH/4KF/8AR0HwZ/8ADD6t/wDNRXs1FAHjP/CD/wDBQv8A6Og%2BDP8A4YfVv/moo/4Qf/goX/0dB8Gf/DD6t/8ANRXs1FAHjP8Awg//AAUL/wCjoPgz/wCGH1b/AOaij/hB/wDgoX/0dB8Gf/DD6t/81FezUUAeM/8ACD/8FC/%2BjoPgz/4YfVv/AJqKP%2BEH/wCChf8A0dB8Gf8Aww%2Brf/NRXs1FAHjP/CD/APBQv/o6D4M/%2BGH1b/5qKP8AhB/%2BChf/AEdB8Gf/AAw%2Brf8AzUV7NRQB4z/wg/8AwUL/AOjoPgz/AOGH1b/5qKP%2BEH/4KF/9HQfBn/ww%2Brf/ADUV7NRQB4z/AMIP/wAFC/8Ao6D4M/8Ahh9W/wDmoo/4Qf8A4KF/9HQfBn/ww%2Brf/NRXs1FAHjP/AAg//BQv/o6D4M/%2BGH1b/wCaij/hB/8AgoX/ANHQfBn/AMMPq3/zUV7NRQB4z/wg/wDwUL/6Og%2BDP/hh9W/%2Baij/AIQf/goX/wBHQfBn/wAMPq3/AM1Feu6rrWj6DaG/1zVraygX7093OsaD8WIFed%2BK/wBtX9jvwKWTxh%2B1V8OtNkTrDd%2BNLFJPoEMu4n6CsqtehRV6k1H1aX5tHfgspzXM5cuDw9Sq/wC5TnP/ANIhMxv%2BEH/4KF/9HQfBn/ww%2Brf/ADUUf8IP/wAFC/8Ao6D4M/8Ahh9W/wDmorkfEf8AwWD/AOCavhZmXU/2stAl2df7NtLu8/L7PC%2Bfwrn/APh9X%2Bw9qv8AyT288deLifuDw38O9Sl3/TzYo64JZ3k8HZ4iF/KSb%2B5XZ9XR8L/EjEQ54ZPieXvKjOEf/ApqmvxR6d/wg/8AwUL/AOjoPgz/AOGH1b/5qKP%2BEH/4KF/9HQfBn/ww%2Brf/ADUV5j/w9bl1o7PAH/BO79pbWc/cuW%2BGn2a3b/tpJP8A0o/4bz/bj8QcfD3/AIJLeObnP3P%2BEk8c6bpGfr5obFT/AG3lr%2BGTl/hhUf5QNv8AiF/GkP49GnS/6%2B4nCU/v5sU2vmj07/hB/wDgoX/0dB8Gf/DD6t/81FW/2VviN8afGGsfFDwJ8dNf8L6tqngH4hRaHZ6r4T8NXOk291ay6Do%2Bpqz29xe3jLIsmoyoWEu0rGh2qc58mH7RH/BXPV/m0/8A4J1eC9IDdF1X4uW9wU%2BvkR8/hXQ/8E7NW%2BMuu658edV/aB8I6PoXi%2BX4zQf2tpOg37XVpBjwj4bEWyVgC2YRGzejMw7V04bH0sVNxhCa0veUJRX3ytr5Hj53wnjshwqr18Rh53fLy0sTRrTWjd3Gk5WjpZyva7S6n0nRRRXafLhRRRQAUUUUAFFFFABRRRQAUUUUAFFFFABRRRQAUUUUAFFFFAGB8UdE8eeJfh9qugfDLxTpGia7eWpisNV17QpdTtLckgM0ltFc2ryjZuAAmjwSDkgFT418Lf2Xv2rPhR%2BxRpn7KXhn9q7wrZa54e%2BHdv4W8MePdN%2BFkySWD28MdtBfNaTatMksiwR8oXCmXEnCDyT9CUUAeZfsjfArxP8As2/BWy%2BD/iXxJ4Z1UaZcSmyu/DHhi70tJI5MSSSXIu9Qv5bm7lnaeaW6ebdK8xZl3bnfwz4r/D74WfDL/gsb8B/Ffgj4beH9F1rxz8NfiOvifV9K0aC3utYkhl8NSxvdSxoHuGQB9pkLFd7Yxk19gV8bftiaudK/4LG/sZQlsJe%2BGfihbufrYaM4H5oK5cZP2dHm84/jKK/U9zh3DfW8z9l/07rP/wABoVpf%2B2n2TRRRXUeGFFFFABRRRQAUUUUAFFFFABRRRQAVxPiv4RfCf40Qav4W%2BMXww8O%2BLNMt/EEV1Bp3ibRYL%2BCOdbKFFlWOdGUOFd1DAZAdhnBNdtXk/wAd/wBq34BfsfeGtR%2BJf7Rfj3/hHdEvvFcOmWt7/Zd1d77p9PSVY9lrFI4ykMp3FQvy4zkgHHETw9OhKVdpQS15rWt530t6jWPllT%2BtxrOk6evOpODj0upKUXHfdSW%2B%2Bon/AAwP%2Bwr/ANGWfCX/AMNzpn/xij/hgf8AYV/6Ms%2BEv/hudM/%2BMV5J/wAPzf8Agll/0dF/5ZOuf/IVH/D83/gll/0dF/5ZOuf/ACFXi/XuFf8An5Q/8p/5Gn/EUsT/AND2f/hZV/8Amg%2Bkvhp8IvhP8F9Cl8LfB34YeHfCemXF211Pp3hrRYLCCSdlVGlaOBFUuVRFLEZIRRnAFeK/tK/sL%2BK/jx4u%2BJWp%2BH/jPpuhaP8AFX4X2HhDxLp174QkvriFrKXU5La7tp1vYVQZ1OQSRPFJvESbXjJYn0n9mj9q34Bftg%2BBLv4l/s6ePf8AhItEsdXk0y6vf7LurTZdJFFK0ey6ijc4SaI7gpX5sZyCBj/Er9sv4YfCvxZ4l8C%2BJdB159Y8OS%2BGI49PtbWBpNW/t%2B/fTtPa03TKHBu4ponLmPZ5LsfkAY%2B1h54epQjKg04NactrW8raW9DN4%2BWav63Ks6rqa87k5uXS7k5Sctt3J7b6HlX7X3/BMeX9qz49W/xlufil4ds4oZfDE1vHr/w7TWNS0eTR9WOoEaTevdxjTUu8iK42wu7hQQ4wFGx4d/4J2LoOu6rrZ%2BL4m/tPQfiZpvl/8I9t8r/hLvEUOs78/aDn7J5XkbePP3b8xY2Hmvj1/wAFY/h34O8N/HvwN8NNKt4/iX8I/hL4t8X6Tpmt61pOoWmoHRYfnM0Ol6lNdWyedLa5hultJnSY7BlJPL7zVv28NB8P/EfxJ8KdN%2BHXivxr4l0/4gXPh/S/DPhPRrOC6MNtommapdXJlvNQSGWGJdRhBlZoHZ544UgdlEkuwj1T4M/D7xH8LPAmkfDvU/FNlqlhoPh/TtM02SDSXtpj9ntlhkklYzyK%2B9kDKqqmwHaTJ96vHPg7%2Bwr45%2BD/AI1s/EFl8dNM1DTPBWheItN%2BEWjXXgx1GhDVruK5ZtQkW%2BB1MW4git4ljFmfI8wOzyMJl7L9iD9pHVP2nv2Zfh58XfFmjmz1zxb4B03xFqMVjol5b2EZukJ2RSTBlDAq2YTI0qAqXADKT534J/bG%2BNmvfHnQZdW03wsPht4x%2BMXiT4baDp9vptyutWd/o9pqkr6jPdNcmGWGWfRL%2BIW626Miy27mV/nUAG54o/Yb8QeI/jpf%2BN1%2BMltB4H8QfELRPHninwZ/wjBa7vPEGlWlnb2skN/9qC29qTpumzPAbeR2ktSRMolcVf8AhL%2Bzh%2B0v8N/jZ8W/i5qn7QXgXUofiNsuNG0y3%2BF17bto15b2sVpZSTSnWpBeRJDEPNiVLdpXJZJIB8lcp%2B01%2B2N8bfhX8U/GL/DzTPCzeDfhNovhvU/HdtrOm3M2o6xHql9cRTR2M0dzHHaNbWtv54aSK4E8koixCFMh4vw1/wAFDv2hdd/aZ8R/COPwroMtpa3/AI1sdJ0f/hDNUhaNtFD/AGSaHWnuDY63Nc7UaXT7ONbi082RZSGtZcgHdfB7/gnR9k%2BDGj/Cf9qT4qDxhceFvGureJPCOvfDltd8DXOnXGoy3ks4Z7LWpZZT/p91ED5qr5Um0ox3O174N/8ABPbT/hL8C/2c/wBn6X4s32saF8BEs7i6XUIJ5n8S39rpc9nbzM1xdStawRT3D3UdsGkSIxW0UZSOBVrO/ZW/aD/aU/aN%2BBN9IfjD4C0z4nWUOl3GvaPr3wR1/Qv%2BEVW4gEskd1peoaol1dBisyxXCywQv5Tkb9jCsS7/AGu/2mtb/YWb9r/QvHXwu0G38Pw%2BJJtS1DWfCGo3lh4ut7K/mtdLudMSLUYpLWLUUhWWLc14x%2B1wLEs%2BVdwD0/Wv2d/jxqP7b2k/tRWXxv8ACMHhbS/CV14dHg2X4eXUmoSWtzLaXEz/ANpDVVjEv2i0QqfsZVY2ZCrNiUc3%2Bzh%2Byd%2B1d8C9H8b6l4k/af8AAPijxp40vf7Ru/Gs3wivbe4lvRIBEtzGddkEtnDbj7PDawm3EajcHLtIz%2BffFP8A4KGftAeCv2mfDnwtPgPSNE0%2B9vPBFtqOhar4W1G9kc65diC7M2uwTpp%2BjTWoLiK1vImlvpIRHBlriMDuPhv%2B2H8XfjV%2B1v4o%2BEPw80Tw3beB08Aaje%2BBPEOoWtxLcarqllfx2M92%2ByZVOn%2BfI8SIqh5PsrzLKY5osAGz4P8A2Xv2kPh54e8V6n4P/aE8Dt4x8eeOJPEXivU9Y%2BFVzcaOCdMtNOWCy0%2BPWIpLb91ZQuzyXU5kkknLDEihOd1P9gn4v%2BGPBX7P/wAOPgV%2B0R4a0fR/gPdwXluPFnw5n1a41i5j0m%2B0rl7bVLKO2iNvqE7CJY2COsW0hEMbX/hL8fv2k/iJ%2BxhqXxW17xZ4T07xp4d8e%2BLNB1nVNE%2BFOs65Y3UGi%2BJdT0gSW2i2eoG%2BeSWOyjfYlxKVZ3IDAADzv4h/t8/tKaD%2BwZ4d/bQ0OLwvDdPp%2BovqHhhvhprGox6zcW9xNHAHvLe9VPC8MyQZll1JZUsHmKXDBreQMAeq69%2Bw3D4x/a7sP2pvFOoeAo5vD17Lf%2BG30L4ZJZ65Ldtp01hGdT1ZruRtQghiubho4Fht1DGJmLGFSZfDf7M/7TemeOvE/wAdNb/aQ8FXHxB1fwxpvh/R76w%2BFlzbaNaWdrey3TNc2J1iSe8mfz5Y1cXcSxBsomS%2B/N8X/tkePX/bk8C/s9fDjw7o1z4JvNYv9D8beIbyOV7g6wmi3OqR2lkySKg8iKCE3Dusit9tjjQq8Uu3B8Jftx/EP4d/Fz4m/D/9oTUNN1zTvAnhe11OG/0D4aar4Zurm9nvpbOHTLO21O7nOsmeRYo4bu0YQNNIsWS0i4AJvHn7A3xu8R/s2%2BIPg34Y/aV8L6f4h8afEdfF/i/xBf8AwzuLnT2mW6t7pbew0%2BLVoWs4zJaQFjJcXDOWndiXl3r0Hjb9lb9pjx5%2B0j4G%2BO/iL9o3wNe6b4L0a3jt/CN/8K7yS2i1Vgyahq9oy62nkXE0LtBAZluTaRPIqmQyzNJy3wx/aW/a5%2BIf7JGs/G3x747%2BEPwz1rwb4v8AFdl44vta8N6hqmkWNnpV/dWyqmzUbV9yrAPMuTJtYqzLAu8InAfFv/gqj8XfhLpHhrxz8UPDvhL4eRf8Kp8JeMNa8BeLNOu59a8RXOpzSrqml6VKtxCsU2mpEGkLQXLZmQypbR4lYA9wuf2SPi14k/am8ffGPx/8ZPCWpeBviB8P7PwbqXgi1%2BH91b38em2r6pJCRqR1V0aUvq1wJG%2ByAMiRqqxkM7ee6L/wS%2B8b2HhlI9Q/aO0hte0LRPBujeCb3Tfh39l0%2B3sfDWoyX9iupWQvm/tF3kkKymOW1QAAwRwNlj03wl/al%2BM/ir9rfxh8Efif4t0DwtZQeIdS074e%2BH9T%2BEWt2s/iC3t7SGZbu31ue9Wwv2UtO0lvbxeYI4WJKBWYbn7LPxY/ac8aftEfFb4WfGDxn4E8R%2BHvh6mjadDrfhHwPe6NI2uXNs97d2ki3GqXyukNnPpcgZSpLXjAj5BuAOg%2BDHwE1T4AfBbxjpfiXxrba/rfibWdZ8Sa/qGnaMdNsjeXm53W2tDNMbeIAL8rSysz75Gdmcmq/jj/AJSF/C//ALIz48/9O3hCvUvHP/Ik6x/2Crj/ANFtXlvjj/lIX8L/APsjPjz/ANO3hCgD2aiiigAooooAKKKKACvBf2P/APk3rV/%2By9%2BOf/VgarXvVeC/sf8A/JvWr/8AZe/HP/qwNVoA6zX/ANib9jLxXrt74p8U/sj/AAx1LU9Su5LrUdR1DwDp0091PIxeSWSR4SzuzEszMSSSSTk1U/4YH/YV/wCjLPhL/wCG50z/AOMV534//wCCyn/BNz4X%2BO9b%2BGnjr9o77Drfh3V7nTNYsv8AhENYl%2Bz3VvK0Use%2BO0ZH2ujDcrFTjIJHNZH/AA/N/wCCWX/R0X/lk65/8hV4M8bwwptSnRvd3v7O9%2Bt9N73uaf8AETcTQ/dLPJx5dLfW6qtbS1vrCta1rWVrWsrWXs2gfsTfsZeFNdsvFPhb9kf4Y6bqem3cd1p2o6f4B06Ge1njYPHLHIkIZHVgGVlIIIBByK1v2mvgnZftJ/s6eO/2e9Q1%2BXSYfG/hHUNDfVYIBK9n9qt3hEwQkByhcNtJAbbjIzmvGvAP/BZT/gm58UPHei/DTwL%2B0d9u1vxFq9tpmj2X/CIaxF9ouriVYoo98loqJud1G5mCjOSQOa9x%2BOvxh8Ofs%2B/B7xH8b/GWmajdaN4V0qXU9ZTSoUknis4hunmCu6BljjDysM52xttDNhT6GBrZbWhJ4OUGk9eTltfz5UtbdyZcSVOJP3s8a8TyaXdWVXlvra8qlS197Jq%2B9up5H4i/Ym%2BIXj/Qfi7L49%2BPtrF4k%2BLfw703wzfa14T8KzabDpslmNRC3MUUl9PIyOL8BojMDiJsSDzBs4b4I/8ABKaL4ReIofE0PxJ8IWG34uDxy%2Bg%2BAvhfHoGkQMPCN54cNnbWqXkphDfahdtKzyMzoykfOHT0X4z/APBRD4O/BbS/F2uap4b1PULHwV4ts/DesaiPEGg6VaPf3GmxaiEhuNX1Kzhk2QTwBgH375gqK%2ByQpyNr/wAFHdJ8U%2BPo7/wTcWlx4C1zwZ8JNd8I6rFoUk95df8ACYeINW00rMj3cKxxiKzsyrAF4GkmdkucLBXcSdX8Df2KPEPwCj8CXfhH4uWVzf8Agb4G6V8OreXUPC7tDd/Y5IGN80aXasu9YWAhDnYXB8xtu1us/aN%2BAXjj4qeIPB/xM%2BD/AMT9O8I%2BM/BN7ePpWqa14afV7Ge1vLVre5tp7VLq1dwf3MqssyFZLePO9C6N5h4N/wCCjR%2BJn7RXg/wR4Q%2BD/iay8A%2BI/BXizX7TxZqmhLO3iGHSbjToY59Ljsrmacxv9qlbyp7dJ5g0DQoQTn0n9qT40fED4e6N4F8LfBxNIh8UfEnxvb%2BHdC1DxPpc9xZabmyvNQnuZ7WOa3lm22thcBYhLETIyAsozQBT8O/ssax4C/Zdtf2VvBninwvqGh6Z4HsNCsf%2BE78EtrEd5PHuF3c6hAt5BHdx3CbcwIIdjmRt7q6onndn/wAE14vDf7PL/Bfwje/CR7zVvGU3iTxHP4m%2BB8Oo6Ml28CW8R0zSRfxR6cbeCG2igLyXG1IPnErOznodK/a6%2BKb/ALBPjX9o9/h3Zax448C/8JXpl9omjw3As9Q1PQ9SvtNlmhjBknW3lksjOIgZJVjfZl3GTyfwR/bM%2BI/x68H/ABM0fwV%2B018ILq/%2BGGoWV3qHxS0vwNe33hnUdHn083TNHbJrKsksMiTxvIt7NGPIOVDs0cQB6R4V/Yo8J%2BCr34G6J4f8V3H/AAifwJ0C5tfD%2BgXlqJZr3UDp8em2uoy3G4DfFZyaihXyz5j35fcnl7X1dQ/ZS8N%2BL/jB8SPid8TdcfW7Px/4FsfB0eixxyWn9l6PELxriFJ4pfMMlxLeyu8qeUwWOBRzEr18zz/8FJvj7ovwv%2BEmm/FHxF4K8D%2BMvGfwtu/iB4x1y6%2BFeu6zYaPpnnwi2ibTLG%2BM9oFiuVa6u57vyLZoCG3ecmzq/F3/AAUd8TeC/wBr1PhLr3iTwPb6HP8AEzRfCGl%2BDDp9y/iPV7PUtOtpofElvci58n%2BzxeXQtiBbOn7iQG5EpEAAPUP2W/2Dfh3%2ByZ8WvHfxJ%2BH3jXxZe2njK10q2ttG8ReM9Z1ZdMhsrfyQok1G%2BuPMLcFW2qY1HlqdvFeweD/%2BQTN/2Fb7/wBK5a1Ky/B//IJm/wCwrff%2BlctAGpRRRQAUUVX1XVtK0LT5dW1vU7eztYE3T3N1Mscca%2BrMxAA%2BtDaSuxxjKclGKu32LFFfPPxV/wCCrX/BP34Q3h0nXv2l9C1TUS%2ByPTPCnmaxO8n/ADzxZrIFbPGGI561xw/4KafF74k/J%2By//wAE3fi/4sVv%2BPfUvFVrB4asJ/RknumbcvuVH0rzKmc5XTnyKqpS7RvN/dBS/Q%2B3wnhrx1i8OsRLATpUntOu44eD81PEToJr0Uj63or5IOr/APBaL4tfJY%2BEfgt8JLCX776lf3eu6nAP9kRAWzEf7VCf8E5/2mfiAftv7QP/AAVM%2BL17cuPmi%2BHQtfC8C5/hCQJJkdsnBNR/aWIq/wADDTl5y5aa/wDJm3/5KdP%2BpOUYL/kaZ3haT/lpOri5/wDlCnGn/wCVn5XPreuH8b/tOfs2/DSV7f4jftB%2BCNAkj%2B/HrXiuztWH4SSA14Ef%2BCNH7Luvfu/ix8S/i549hb/XW/i/4mXsyS/7whMR/Iiu48D/APBLT/gnh8PYlh0D9kHwVOE%2B62t6WNTb/vq8MpP50e2zup8NGEf8U3L8IRX5i/s7wwwn8XMcVXfalhadJf8AgWIryf8A5IVvE/8AwVi/4JyeEWZdV/a68JSlev8AZlxJe/l9nR8/hXJSf8Fr/wBgjU3Nv8OPF3izxnODgW3hbwBqkzsfQebBGD%2BdfQ3hj4A/AjwQqp4M%2BCnhHSAn3Bpfhu1twv08uMYrrI444kEUSBVUYVVGABR7LO571acfSEn/AOlTX5B9f8LqHwZfjKv%2BPFUaa%2BapYaT%2B6R8l/wDD0Lx94qO34R/8E1P2gdYB/wBVc654Ti0i3l91kmlbj3xSN%2B0j/wAFZfiN/ovw7/4J4%2BFPBCv/AKrVfiH8TYbyP6tb2CiVfpmvraij6hjp/wATFz/7djCP6Sf4h/rdwthf9z4foX6OtWxVf706lGD9HGx8kj9nz/grn8R/33xA/b58D%2BAkk/12n/Dz4bJfqB/dSbUGEi/73Wl/4dZ%2BJ/F/7z42f8FFfj94jLf66y0zxgmk2UvrmCCI8fRq%2BtaKP7FwMv4vNP8AxTm/w5or8B/8RN4po6YFUMMunsMLhqbX/bzo1Z/Nzb8z5T0n/gir/wAE67e7Gq%2BKfg1qPie/H3tQ8TeMNTupH/3h9oCH/vmvRfCn/BOj9gzwVsOgfsf/AA7Dx/cmvPCltdSL7h5kdgffNez0VrSyjKqLvDDwX/bsf1TPPx3iHx/mUeXFZtiZrs69VL0SjOCS8kkvI5/w38J/hZ4OVV8IfDTw/pQT7g03RoINv02IMV0FFFd8YQgrRSXpp%2BR8pWxGIxM%2BetNyfeTcn98m3%2BIUUUVRiFeM/sv/APJb/wBo7/ss1j/6hXhevZq8Z/Zf/wCS3/tHf9lmsf8A1CvC9AHs1FFFABRRRQAUUUUAFFFFABRRRQAUUUUAFFFFABRRRQAUUUUAFFFFABRXOfF3xH8QPCPw31bxL8LPBOm%2BI9fs7cSafo2r682mW1ydy7vMukt7holVNzZEMhO3AXmvNo/2zLFP2C/Dv7bd58PZ/M8TeBtE1vTvCNtqKu732qxW32TTxcMiqd1xdRQ%2BcUUDO8qB8tAHtlfCX/BRzU/7E/4KyfsQanuxm68b2uf%2Bu0eixY/8er6h/Zu%2BO/ij4wv4x8I/En4fWPhfxf4B8TroviTSdJ199Usi8thaahBPbXUltbPNE9vew5LwRssiyptIQM3x7/wV51I6L/wUg/Yd1QHAHjvVrdm9BNf%2BHoz/AOhV5uby5MvnLs4/%2Bl0z7bw6ofWuMcPR/njXX34XF/5H6HUUUV6R8SFFFFABRRRQAUUUUAFFFFABRRRQAVleH/8AkLa5/wBhRP8A0kt61az73wxpF/dvfyC5ilkAEj2t/NBvwMAsI3UMQOMnnFAGhRWX/wAIfpP/AD96r/4PLv8A%2BO0f8IfpP/P3qv8A4PLv/wCO0AaleU/FX9jz4VfGD9o34e/tOeKL/WYtc%2BHIvP7P0%2Bxu40sNUM0ZWI30TRs0/wBmZpJYNrp5ckjN83GPQv8AhD9J/wCfvVf/AAeXf/x2j/hD9J/5%2B9V/8Hl3/wDHaAPmrUP%2BCSXwQ1jS/EPhnWPjR8SbnQ9b%2BHvjPwZp2hPqWmrbaDpfieaKbUvsmyxEjzCSFDHNcvcMvIcyDAHa%2BKv2CfAOs%2BPtV%2BLPhL4seN/CXizVPGdz4iPiLw7d2BntmudJsNKubKNLqzmiNrLBpto7K8byLLGHSRCFC%2Bwf8IfpP/P3qv8A4PLv/wCO0f8ACH6T/wA/eq/%2BDy7/APjtAHJ/s5fs8eH/ANmL4V%2BFvgr4D8a%2BIL7w34Q8J2Wg6RY63NbTN5dsGVbmSVIEkkndSquS3lkRqVRWLM3L6B%2Bw98OvDvxzX41Wfj3xXJb2niTUfEmieCprq0OjaRrt/ayWt5qluothc%2BfLFcXYKSTvCrXlwyxK0hNeqf8ACH6T/wA/eq/%2BDy7/APjtH/CH6T/z96r/AODy7/8AjtAHkPxI/YP8CfFXxpZ%2BNfFvxZ8as82laJp/jfT7afT4rXxrHpN293ZHUkWzypWeWZn%2Bxm1WVZWikDRBY1h8OfsA%2BA/CvxBHjjSPjF47W00/X/EGv%2BE/DD3entp/hrWda%2B1m%2B1C0/wBD895S1/fFEuZp4Y/tUgSMLtVfZP8AhD9J/wCfvVf/AAeXf/x2j/hD9J/5%2B9V/8Hl3/wDHaAPBvHH/AATi8O/EvwD468KeO/2ofinqOs/Eaz0nTvFXjUz6LDqVzpGnTTzQaSI4dMSyWzZru8EqfZt0y3kyu7K2Bd%2BJX7BM/wAUtG%2BHOma/%2B158T4Jvhnqs%2BpaRd2Wn%2BGFW%2BumUJay3Vo%2BitZu1moYW3lwR%2BWXMh3yLG6e2f8IfpP8Az96r/wCDy7/%2BO0f8IfpP/P3qv/g8u/8A47QB474w/YG8CeOPiLN481z4weOfsmrapoGq%2BMfDEFzp6ad4n1LR3geyvLsfYvPjcNa2pdLWW3hlFuivGV3KzvCn/BOD9kD4afHWT9pD4LfBXwz4E8Wt4UvNDg1Lwd4R0qyMH2mVZHvVAtDuugV2h3LIVZlZGBNewf8ACH6T/wA/eq/%2BDy7/APjtH/CH6T/z96r/AODy7/8AjtAHjXwl/Yh8SfBb4Ual8K/Bf7bPxaB1HxlqPiUeILmz8LvfW11qF9d39/GijRBbtDPdXs8xWSF2Q7ViaNVC1Brf/BPnwvqfwWH7POl/tEfErSfB%2BoWmrQ%2BM9J0%2B70ot4rbVLu4u9SmvLibT5J4Zbma7umdrKS1x57bNm1Nntn/CH6T/AM/eq/8Ag8u//jtH/CH6T/z96r/4PLv/AOO0AeR%2BIv8AgnF%2BxZ4g%2BO/hL9pSH9nbwfpvjLwhr0usW2uaX4T06K51C7e0ktle7nNuZpjH5glRt6sssUb7jtwWaZ%2BwN8Ktf1nUtc/aV8Waz8b5NQ0GPRUtPixpOjXdnbWCXUd4YVtLTT7a3kLXEFvKZJo5JN1tEQ4216//AMIfpP8Az96r/wCDy7/%2BO0f8IfpP/P3qv/g8u/8A47QB83T/APBJH9nLQ/hxZ/Cn4LeKvEPw00O2%2BKF348udP8C6ToMNvqGpyzvNBFdW9zpk0E9taOyG2iaM%2BV9mtySzQxsvpfxJ/ZSf4wWug6B8Sv2hfHmqeHtMtrFNf8Lsmjw2fima1mE6z6gYdPSYF5FQyRW0tvBIqbGiMbOjejf8IfpP/P3qv/g8u/8A47R/wh%2Bk/wDP3qv/AIPLv/47QB5/L%2By1BrXxz0f43ePvjf418Sr4Y1e81Twd4T1U6ZHpehXlzaT2TzQ/ZbKG5mZbW6uoU%2B0zzBVuHwN21l6L4KfBDwp8CtE1rSPDGoahfS%2BIfF2q%2BI9Y1HVpY5Li5vL66edwWjRF8uJWjt4l25WG3iUlipY73/CH6T/z96r/AODy7/8AjtH/AAh%2Bk/8AP3qv/g8u/wD47QAnjn/kSdY/7Bdx/wCi2ry7xx/ykL%2BF/wD2Rnx5/wCnbwhXqJ8GaG%2BFna%2BmTIJiuNWuZEb2ZWkKsPYgivLvHH/KQv4X/wDZGfHn/p28IUAezUUUUAFef/tL/HG5%2BAPw1i8WaL4RXxBrWq%2BIdL0Hw3ocmo/Y473UdQvYrSBZZ/LkMEKtL5ksgjkZYo3KpIwVG9Arz79pf4HXXx%2B%2BGsXhPRfF6%2BH9a0rxDpeveG9ck077ZHZ6jp97FdwNLb%2BZGZ4WaLypYxJGzRSOFeNirqAefXP7dF1oX7L3in43eLfhTHaeJ/B3jE%2BEdb8JW/iISWkesPqUFhBjUHgTFlIbq1uDctArRwSlniDI0dcN8Qv%2BCpJ%2BGXgy9PjXwN4D0PxNoHxVk8CeMbrxH8VDY%2BEdCvV0WPWY5Z9cbTiypLbT20SB7RGN1MYCFKbj6T8P/wBlb4jeCPhH4x8A6p8TPB/iHVPHV1qWq%2BIr7Xvh3JPp93qt7MxkMlidRw9gtsIbZbQy%2BZsh3PcuzE1wHgv/AIJoa18JdE0XxB8GPin4P8OeNdN8f3viq8ktvhfs8LTTXOjpo/2eDRbe/ha1jisobdYmW7LhklZ2k8%2BQEA%2BgP2efi1J8evgR4P8AjZL4OvvDzeLPDdnqx0TUjmey8%2BFZPKY4GcbuDhSRglVzgea/sf8A/JvWr/8AZevHP/qwNVrr/g1%2By18O/hj%2By1oH7KHiyws/GXh7SdAj0vUIPEOkwy22pKPmffasGiWIvkrDgqihVGQorkf%2BCe/gnwf4d/Zj1HwB4b8L2GmaHp/xa%2BIVpp2kabapb21pBH401pY4oo4wFiRAqhQoAXaMYxQB71RWV/wh%2Bk/8/eqf%2BDy7/wDjtL/wh%2Bk/8/eq/wDg8u//AI7QBqVU17QtH8UaHe%2BGfEWmxXmn6jaSWt9Z3Cbo54ZFKPGw7qykgj0NVv8AhD9J/wCfvVf/AAeXf/x2j/hD9J/5%2B9V/8Hl3/wDHaAPn7wT/AMEwfhR8NPhH4D%2BGHw8%2BNXxH0rUPh9rep6ppfjldT0%2B51u8lv0miuhdSXNlJBJuim8pXWFJY0hiEbptJNjwN/wAExPgH8P8Aw14e8K6J4t8YSW3hrw18PNDsGu9Stnke28G6rd6ppbSN9nG6SWe8lW4bgOioIxCwLt7z/wAIfpP/AD96r/4PLv8A%2BO0f8IfpP/P3qv8A4PLv/wCO0AeIfDb/AIJ3eBfhT8RNL%2BIHhL46/ERV8L%2BG9d0LwHoVxeabJYeFrPVZraaZLRDY75TE9pB5JunuNipsO5Plr0j45/APRPjv4N0vw5q/jTXdE1TQNatdY8PeLNAe1XUdM1CAMq3MQnglt2LRyTROkkLxvHNIpTB46f8A4Q/Sf%2BfvVf8AweXf/wAdo/4Q/Sf%2BfvVf/B5d/wDx2gDi/ht%2BzbYfCL4YQ/Cv4e/FXxVYWqadq63Gok2E15dapqV015ca1I8toym9%2B0y3EwAUWxe5k3QOBGE5m5/YV8Aa78FfiD8HfHfxP8ZeI5viq23x/wCLtUubGPVNWt/IitjaH7NaRW0FubWL7P5cMEY2SysMSyPKfWv%2BEP0n/n71X/weXf8A8do/4Q/Sf%2BfvVf8AweXf/wAdoA82/aL/AGOvBv7RN9bavL8RfFXg6%2Bj8M6h4b1C%2B8GzWUUmo6LemE3Ony/arWcLGzQRlZYhHPEQ3lypvfdNffsk%2BGtV%2BIvhvxXrHxO8V3XhrwdcWt14V%2BGrtYJoem3dtam2guBstFvJmjUs6pNcyRLKRIIwyRlPQ/wDhD9J/5%2B9V/wDB5d//AB2sfx3qPwu%2BF3he68b/ABJ8enQNHsk3Xeqax4rntreIf7TyTBRnsM80pSjCLlJ2SNKNGtiKsaVKLlKTSSSbbb2SSTbb6JJt9jrKyvB//IJm/wCwpff%2BlctfImpf8FC9U%2BO2rTeEP%2BCc/wCzr4w%2BKckUphufHGr65e6P4ZtGBw3%2BkzuHuWUg5jRVJHKs1XbL9jL/AIKC/HeyS0/ai/bfTwToUgxN4K%2BBummyG0nLKdTud1yc5IYEMDknPr5P9r062mEpyq%2BcdIf%2BBytF/wDbqkffrw7xeWpT4ixdHL1vyVW54i3/AGDUVOrFvoqsqHmktT2j9on9uz9kr9lRDB8cfjfo2k6gQDFocMjXWoy5%2B7ttYA8uDwAxULz1FePJ%2B37%2B118eG8r9jP8A4J%2BeJZtNk/1fjH4s3qaBYle0kduS01xGexQg%2B3p6v%2Bzp/wAE/wD9kb9liQap8IvgzpsOtMS0/ifVQ19qkznlnN1OWkUseSEKrntXstHsM2xOtWqqS7U1d/Oc1/6TBA828Pck93L8BPG1F/y8xU3Tp37xw2HknbsquIb7rofI4/Z0/wCCrvxl/efGX9uTwn8ObKXmfRPhL4N%2B0OVP8Ivb8%2BbGR6qDU%2Blf8EcP2V9a1CLXf2hfFnxE%2BL2pRP5i3XxH8dXV0iv6rFC0SbfRWDADjmvrGimsky%2BTvWi6j/vylP8ABvl/8lIl4n8YUYuGXVYYKPbC0aWHdu3PCDrP51797nG/Cr9nb4CfAu0Fl8Gvgx4X8Lps2s2haHBbO4/23RQzn3Ykmuyoor06dOnSgowikl0SSX3JI%2BIxeNxmYYh18VVlUm95TlKcn6ylKTfzYUUUVZzBRUd3d2lhbPeX11HDDGMySyuFVR6kngV534s/bH/ZG8BzNbeNv2o/h3pMy9YNR8aWMMn02tKCfyrOpWo0VepJR9Wl%2BbRjWxGHw6vVmorzaX5tHpFFeCzf8FRf%2BCeMF9/Z7/theBTJ/eTWkZP%2B%2Bxlf1rVg/wCCif7BFzb/AGmP9s74YBT2k8cWKN/3y0oP6VzLMstltXh/4HH/AOSOSOb5TJ6Yin/4HD/5M9lorxcf8FGv2BTJ5Y/bM%2BGefU%2BNLPH5%2BZipZv8Agoh%2BwVBD57/tn/C4r6J46sGP5CUmn/aOX/8AP6H/AIHH/wCSK/tXKv8AoIp/%2BBw/%2BTPY6K%2BcvG3/AAVx/wCCcXgO0%2B1ar%2B1h4bvSxxHDoPnalI7dgFtI5Dk%2B%2BBXKr/wVy8I%2BJ/n%2BDf7FH7Qvja3f/Uapo3wzdLKT382aVCB9VrCec5TCXL7aLfZPmf3RUjmqcQZJTly/WIt9ovnf3QU2fW9FfJJ/bo/b38X/ALr4U/8ABJ3xYwbpc%2BM/HunaOsY/vFHDM30BzSj4rf8ABZy6H22H9lD4N2sb8rZXPjq5eaMejOi7CfpU/wBsYaXwQqS9Kc/1USP7fwcv4dOrLzVGpb8VH8D61or5JbxD/wAFsPHJ/s/Tvh58A/AsQ4m1DVNW1LU5SP70SQgLn2fihf2bf%2BCuNwPttx/wUq8KW0snL2Nv8HbN4Yj/AHVdpN7D3PNH9qTl/Dw1V/8Abqj/AOlTT/AP7ZqT/hYStJf4Yx/9LqJv7j62or5Jb4W/8Fn/AAb%2B/wDDf7VHwZ8ZsOfI8XeCLrTkPtmxYmlHjT/gtmB9nb4Kfs%2BF04a4HiPVRHIf7yrjcB7Hmj%2B1XH48PVX/AG5f8YzaD%2B2nHSphayf/AF75vxjNo%2Bta8Z/Zf/5Lf%2B0d/wBlmsf/AFCvC9eYf8JP/wAFvDyPhh%2BzePY61rP%2BFdF/wTruvjfea38ebn9o7TPDdn4zb4zQf2zbeEZppNOT/ikfDYh8pp/3hzD5Rbd/GWxxiujDY5YmfKqc49byi4r77vU6sJmMcZUcFRqQ0vecHFel%2BZ6%2BR9J0UUV2nohRRRQAUUUUAFFFFABRRRQAUUUUAFFFFABRRRQAUUUUAFFFFAGB8UdE8eeJfh9qugfDLxTpGia7eWpisNV17QpdTtLckgM0ltFc2ryjZuAAmjwSDkgFT4d4J/Yf%2BKFp%2Bw7o/wCxT8Tfj3oWqW/hzwVpmi6D4n8O%2BA5tNuLa70xrdtNv2in1G6R2ia1gd48hZHUkGNTsH0hRQB5l%2Bzd8B/FPwefxj4u%2BJXxBsfFHi/x94nXWvEmraToD6XYq8VhaafBBbWslzcvDElvZQ5DzyM0jSvkBwq/CP/BZL4R/Cj4b/tn/ALPvxp8E/DHw9o2u3Ot32q%2BJdc0rRYLe71R4de8KpG9zNGgecr5z4LliN5x1Nfp3X5y/8F7v9AuPBvizp/YHgHXNQ3f3dvivwOmf/IleTnumTV32i39zT/Q/QPCnXxJymH89aMP/AAZGpT/9yH6NUUUV6x%2BfhRRRQAUUUUAFFFFABRRRQAUUUUAFFFFABRRRQAUUUUAFFFFABRRRQAUUUUAFFFFABRRRQAUUUUAFFFFABRRRQAUUUUAFeM%2BOP%2BUhfwv/AOyM%2BPP/AE7eEK9mrxnxx/ykL%2BF//ZGfHn/p28IUAezUUUUAFFFFABRRRQAV4z%2Bwf/yRDXP%2ByzfEf/1Ndbr2avGf2D/%2BSIa5/wBlm%2BI//qa63QB7NRRRQAUUUUAFFFFABRRRQAVi/EL4kfD/AOEvhK78e/E/xppnh/RbFN13qmr3qW8EQ7Au5AyTwB1J4AJr52%2BPf/BRxI/iFc/s1/sRfD8fFj4nQ/LqSWlxs0Pw0MkGXUbwHYu0g5iRtxKlSyNgH5g8SeIf2XLb4r2fiL9uv45at%2B1P8X4ZS%2Bj/AAj%2BF%2Bjvqeh6HL0McNnERBIy5Cs9wwZgAWiLDNeBjc9oUW4UGpNOzk3aCfa6u5y/uU1J9G4n2/8AqxlXDuAp5lxji/qVGaUqdJJSxdZPVOnRbXs4S6Va/LFrWFOqrN/QF/8A8FFPjZ%2B1DezeE/8Agml%2BzzceKLTzGhm%2BLHjuKXTPDVqQcF4VYCe9KnqqBSODtYVo%2BAv%2BCXOjeOPFVr8Xf2/vi3qfxt8WW7%2BbaaZrEYt/DmlMeq22mp%2B7YD7paTIcAEoDVCw/aA/4Km/Fiyh0r4AfsH%2BEfhho6RrHY6p8V/FO8pEBgYsNPAlh2jACtkfhUzfsQft8/GFT/wANJ/8ABS3XdMsZxibw/wDCLw5b6KIweqpfNunYHp8y8VxRTxclOrTqYh9E4qnSXpGbV/WUZvrY8%2Bt4sVsFRlhuDctnhKbTTqrTETT0fPiq3JOKa3hhqVCFna81v7t8Vf2jP2X/ANlTw7b23xY%2BK/hPwVYwQBbDTbu%2Bht2MYGAsFuvzsAB0RTjFeGy/8Fi/gF4wuGs/2afgr8W/i6ysVN34E%2BH9y9ohHUvLc%2BVtHbOCM12vwS/4Jd/sQfAvUT4m0T4JWWv%2BIHfzLjxP40kbWL%2BaX/nr5l0XEb%2B8apXv0EEFrAltbQpHHGoWOONQFUDoAB0Fesqec1lrOFJdopzf3ycY/dE/PpR4jxknOpUhSvronVl85TcY37%2B6/V9fk0/t/wD7Z2vjb8Pv%2BCTXxFuXb/VDxH4q0/SQT/tGTdtpB8Xf%2BCzHjA/afDv7IXwh8HR9fs3i3x9PqEmP7u6xULn36V9bUU/7OxUv4mKqP0UI/lBv8Rf2VjZ/xcbVf%2BFU4flBv8T5KPjH/gtq3%2BjJ8G/2eUd%2BFuX8Q6sY4z6soG4j2HNIPh1/wWo8U/v9e/aN%2BBnhVjz5Hhnwjf3yD23XhBr62oo/spP4q9V/9v2/9JivzD%2BxFL48TWf/AHEt/wCkwi/xPko/s5f8Fc9RHkXf/BR/wfpyt96fT/hBazOnuBLJg/jR/wAMBftqeJB/xcn/AIKz/EK63f6z/hF/COnaNn6eVv219a0Uf2Ng38Upy9alT/5JB/q/gH8cqkvWtVf4KcT5KH/BJbR9RP2nxb%2B37%2B0zq112mm%2BKzRqn%2B4iQAKPbmg/8EifAs37jUf23f2lby1P37G5%2BLkhif6gQg/rX1rRR/YeVf8%2Bvxn/8sD/VzJOtFf8AgVT/AOWHyba/8EUP2Arq4S88e%2BBvE3i%2BaNtyyeKPHep3GW9SEnRT%2BIxXonhH/gmx%2BwF4IiWLQv2PPh62z7smpeGLe9kHvvuFds%2B%2Ba9uorSnlGVUXeFCCf%2BFN/e02bUchySg708NTT78kW/vak/xOEh/Zb/Zlt7L%2BzIP2dPAiW3/PunhGyCf98iLFZVx%2BxB%2BxbdXBu7r9kL4XySnrLJ4A04t%2BZhzXqFFdLweElvTj/wCAx/8AkTrlgMDJa0YP/tyP/wAieZH9in9jUx%2BUf2Sfhlt/u/8ACBadj8vJqKH9h39iq2m%2B0W/7H/wtjk/vp8P9NB/MQ16lRS%2BpYL/n1H/wGP8A8iT/AGdl/wDz5h/4BD/5A5bwb8Dfgn8Obv8AtD4e/B7wtoM%2BMefo3h%2B2tXx/vRIprqaKK3hCFONoJJeSS/JI6adOnSjywikuySX5JBRRRVFhRRRQAUUUUAFeM/sv/wDJb/2jv%2ByzWP8A6hXhevZq8Z/Zf/5Lf%2B0d/wBlmsf/AFCvC9AHs1FFFABRRRQAUUUUAFFFFABRRRQAUUUUAFFFFABRRRQAUUUUAFFFFABRXO/Fz4peDfgf8LfEXxj%2BId%2B9roXhbRbnVNWnihaWRbeCJpH2IuWkchSFRQWZiAASRXEfDv8AbA8EeMPBPjnxb428CeKPAd58Nomn8aeG/Fttavf6fb/YlvkuALC4uoZo3gbcpilc7kkjIWSN0AB6zX59/wDBdHR/7c8LTWWzOz4CeMLjH/XHxN4Glz/45X1X%2BzT%2B114X/aV1TWPDll8M/FXhLVtG0bSdYl0vxUtgzz6bqa3DWV3HJYXd1CVk%2By3A8tpFlTy8vGodC3z9/wAFbtH/ALcl1Ky2btn7LXxNuMf9cdQ8Iy5/8crz83h7TKcRHvCf/pMj7Hw8xP1PxAyiv/LisO//ACvS/wAz7D8Aax/wkXgTRPEG/d9u0i2uN3rviVs/rWvXn/7Jusf8JD%2Byv8M9f37vt3w/0a43eu%2BxhbP616BXXQn7ShCfdJ/ek/1Pnc2w31PNcRh/5KlSP/gNScf/AG0KKKK1OAKKKKACiiigAooooAKKKKACiiigAooooAKKKKACiiigAooooAKKKKACiiigAooooAKKKKACiiigAooooAKKKKACvGfHH/KQv4X/APZGfHn/AKdvCFezV4z44/5SF/C//sjPjz/07eEKAPZqKKKACvIf21/iR4%2B%2BHnwn0iy%2BGXiVtC1jxZ4/8O%2BGIfESWkM76TFqGp29vPcxxzo8TTCF5BF5iPGJWjLo6go3r1c78WPhP4B%2BN/gK9%2BGfxN0NtQ0e/eCSaGK9mtpY5YZkngnhngdJYJopoo5Y5YnWSOSNHRlZQQAfOlh8Zf2qJ/2Q/ihYeDfEGo%2BKvHfw%2B%2BI134Zt/FFroNrLqV9pcV9atNfx2cMSW89/Bp1zLiJIhHNc2oAhAk8qvIYP27/2jNcg/wCFA%2BCdQ%2BKur6jL8fbnwdp3i7/hBtI07xdfaTF4QtvEZb7FqlvaadZ3JluDCHureJfssJfyvOda%2BxPC37KPwX8EfD26%2BF/hCz8SabpF7aTw3Qs/HmsR3Urz3Ul1Pdm6F39o%2B2yTyySPe%2BZ9pct80pAAFGT9in9nN/hlZ/CiPwpq8Gn2Gvya7a6paeM9Wh1pNUkWRJL46tHdDUGuXjmlieYzl3ikaNiUJWgCx8Gfjp4O1/8AZc0P44Q%2BJPFniXTBoayXV/deFXn1u5liYwzCaw0y2ybpZUdZIreDaHV9ihQK5j/gnT4hsPFv7N194p0q3vorbUfi38Q7m3i1PS57K5RH8Z60wEtvcIk0DgHmORFdTkMoIIr1n4b/AA48EfCHwHpPwy%2BG/h6HSdC0SyS00zT4CxWGJRxlmJZ2JyWdiWZiWYkkk%2BafsH/8kQ1z/ss3xH/9TXW6APZqKKKACiiigAooryX9rr9tn9n39ifwA3jn43eMEgnmRho3h6yKy6jq0o/5Z28OQW5wC7bUXI3MuRWVevRw1F1a0lGK3bdkjOrWo0KbnVkoxXVtJfe/69T0H4hfETwN8J/Bmo/ET4leK7HQ9D0m3M%2Bo6pqVwIoYEHcse5JAAHJJAAJIFfld%2B0d/wUv/AGkP%2BClnxGuv2YP%2BCfnw%2B8UP4ODeXrGp6O/2K/1iEttJnu3GzSrNgG%2B9mWQAKQocoPTbP9jX9sT/AIKzeMbD4vft83eofDP4T2dwLnwt8HtLuGS%2BuV/hlvGIBjcqcF3XzcFwkcAbcfvP4NfA74Rfs9eBrb4bfBP4e6Z4a0S05jsdMtwgdsAGSRuWlkOBl3LMe5NfNVoZpxB7sG6GG72tUqLyT%2BCL8/ea3SWh7GVcRzyle2yikvb9MRVgpez88PQmnF1F9nEYiMlB%2B9RwzaVRfF/wB/4I6eMrzwBa%2BBf2o/jJHpXg5CJJPhD8IfN0vR5mwM/b7xj9r1JiOC0rbwQMSEACvsb4J/s6/Ar9nHw0PCPwL%2BFGh%2BF7AgebHpNgsbzkdGlk%2B/M3%2B07Mfeu0or2MFlOX5el7GGqVuZ6yt2u9l5RUV5HhPCwq4%2Bpj8RKVbE1G3OrVlKpVm3u5VJuUtey5V5WskUUUV6R0hRRRQAUUUUAFFFFABRRRQAUUUUAFFFFABRRRQAUUUUAFFFFABRRRQAUUUUAFFFFABXjP7L//ACW/9o7/ALLNY/8AqFeF69mrxn9l/wD5Lf8AtHf9lmsf/UK8L0AezUUUUAFFFFABRRRQAUUUUAFFFFABRRRQAUUUUAFFFFABRRRQAUUUUAef/tV/BW6/aM/Zu8bfA7Ttej0q88T%2BHLqx07U5oTLHaXTITBM6AguiyhGZAQWUEZGc15X4U/Z8/at1uH4u%2BL/HOp%2BEfCHi/wCLOgnSre/8H%2BI7vUY/Ci2umG2sLiFrixtzeym5nurh9ywCNfJjHmlWc/SlFAHzN/wT/wD2OPFv7LfiLxbruofDH4c/DzSNe0HQdPtvAfws1C4udMa%2BsReC51qV5rO0xd3aXFtE4ETNs0%2BIyTTMRs4f9tv4M%2BG9P%2BO3iPVdI1DxDPeeL/2Vfiql/Bqvi7Ub%2B0ibzvDCqLW1uZ5ILIHecrbpEGwu4HauPtGvnn9pHR/%2BEh/a38KaBs3fbv2efiTb7fXff%2BE1x%2BtY4mHtMNOHeMl96a/U9PJcT9TzrC4j%2BSrSl/4DUpy/9tNz/gm/rH9ufsB/Bu93Z2fDfSLfP/XK1ji/9kr2qvmv/gj5rH9uf8E1vhNe787NAmt8/wDXG7nix/45X0pXNlU/aZXQl3hD/wBJie1x/hvqfHmbUP5cViF/5Xq/5hRRRXefJBRRRQAUUUUAFFFFABRRRQAUUUUAFFFFABRRRQAUUUUAFFFFABRRRQAUUUUAFFFFABRRRQAUUUUAFFFFABRRRQAV4z44/wCUhfwv/wCyM%2BPP/Tt4Qr2avGfHH/KQv4X/APZGfHn/AKdvCFAHs1FFFABRRRQAUUUUAFeM/sH/APJENc/7LN8R/wD1Ndbr2avGf2D/APkiGuf9lm%2BI/wD6mut0AezUUUUAFVtY1jSfD2k3Wv6/qlvY2NlbvPe3t3MscUESKWeR3YgKqqCSScADJqeaaG3he4uJVjjjUs7u2AoHJJJ6Cvze/bF/ay8J/tkWWvahrnjC90L9lnwBqQg8W69pshS8%2BJusI2Y9F03BBkt94G51IDY3ZCgOvm5nmVLLqPM9ZO9le22rbfSMVrKXRaK8nFPCcsZXxdHAZfRlXxVeShSpRV5Tm9Fte0Ve8pbJedjX/bF/4LM6x/wg%2Bq3H7EXhlbvRrO7/ALOufi34gsX/ALNe9OQLPSbZgH1S7JztAHlrgO4MWZBc/wCCZv8AwTF8c2fjGP8Abr/b/wBTv/FPxT1UrdaFpniOb7Q2gJ96OWUN8ouQD8kagJbjAUBx8na/sW/seeMvih420X9sn9rfwLZ6FcaRZiH4OfCC2hC2HgPTcDy5GiACtfOoUsxUFDjhWCpD9l142Ay3E5jiY47MJOSWtODVor%2B%2B4dH/ACqV5JaytJ8sfsMzyrJ%2BE6H1D2kMZmP/AC%2BxCs6NB9aGDjrH3dY1sW%2BapUleFGVOipTqlFFFfVnywUUUUAFFFFABRRRQAUUUUAFFFFABRRRQAUUUUAFFFFABRRRQAUUUUAFFFFABRRRQAUUUUAFFFFABXjP7L/8AyW/9o7/ss1j/AOoV4Xr2avGf2X/%2BS3/tHf8AZZrH/wBQrwvQB7NRRRQAUUUUAFFFFABRRRQAUUUUAFFFFABRRRQAUUUUAFFFFABRRRQAUVm%2BM/GPhX4d%2BD9W%2BIHjnX7XStE0LTZ9Q1jVL2UJDZ2sMbSSzSMeFREVmJ7AGua%2BC/7Rfwk%2BP/h7U/Evw212%2BaHRb77HrVpr3h%2B%2B0e90%2BbyI7gLPaahDDcQ7oZopVLxgPHIrqSpBoA7evGPHkaS/8FB/hjFIoKt8F/HoYHuDq3hCut%2BB/wC0f8Kf2jNNutc%2BEl7rd7p1ssMkWqaj4Q1PTbS/hlDGKeynvLeKO/gcIWWa2aWMqVIbDqTyfjj/AJSF/C//ALIz48/9O3hCgNjzL/giHI9v/wAE4PBnhyViZNF1bXbGTPXK6vdtj8nFfWdfJf8AwRx/0H9nXxr4T6f2B8afFGn7f7u27D4/8iV9aV5ORf8AImw67QS%2B66/Q/QPFbXxLzef8%2BIqT/wDBnJU/9yBRRRXrH5%2BFFFFABRRRQAUUUUAFFFFABRRRQAUUUUAFFFFABRRRQAUUUUAFFFFABRRRQAUUUUAFFFFABRRRQAUUUUAFFFFABXjPjj/lIX8L/wDsjPjz/wBO3hCvZq8Z8cf8pC/hf/2Rnx5/6dvCFAHs1FFFABXz9/wUuOmD9mu1/wCE08v/AIQr/hYXhf8A4WR9o/49/wDhHv7ZtPtv2rPH2Py/%2BPnd%2B7%2Bzef5n7vfX0DRQB8F%2BCLT4X%2BPv2Avi18L/AIf/ABl8FeFvAkfjvUtW8BNq2tR2uiHwjDrEUjxOyN%2B50O6ng1CzE0YMItZj5QaMIp8ot/8Ahffiz9jf4r%2BDvhd%2BzpZ6x8GPE3xK1iaGx%2BB3iHTDo1l4Xg8N6aZbPTJdSn01LjT7rWUvlnmgjAdBfrHFieJx%2BpdFAHin7IHiH4hX/wDwT9%2BGOveEfhzFF4h/4Vjo32Dw94r1pLON3WzhVRNc2aXoiRlG8MiSkBlBUNkLW/4J03HiW7/ZuvrrxlpNjYavJ8W/iG2p2Omai93bW858Z615kcU7wwtMgbIDtFGWABKLnA90rxn9g/8A5Ihrn/ZZviP/AOprrdAHs1FFeTftsftUaB%2Bx7%2Bz9q3xc1DTzqWrM6af4T0CIFpdY1afK21qir8zbm%2BZtuSERyASMVlXr0sNRlVqO0Yq7fkv6%2B%2By6mGJxNHB4edes7Rim2/Jf1ouraS1Z88/8FUv2nIvEN1N%2Bw94H8ff8I9a3OhtrXxt8aQtn/hF/Cy43xDHW6u8rDHFyzCVV24mDCj%2Bwr%2Byrc/tG614S/am%2BMXw6/wCEY%2BG/gyySL9nv4STrmPTLMAbNavV6S3k2BIpbOCQ%2BSdjV4f8AsQ/sq%2BIf2yfixqWm/FDVTrvhLQ/FS698cPE24NF458Xr88WjROPlfTtPV9pVcxs5cqNskRT9XI444Y1iiQKqgBVUYAA6ACvlMsw9XOsXLH4le5f3Y9%2BV6X7xi9e0ql5aqnA%2B/wAFRr%2BHmUSqVY8uc46mvaP7WCwk43hho/yYivCSqYmStKnCcaCcZSqWWiiivsD4cKKKKACiiigAooooAKKKKACiiigAooooAKKKKACiiigAooooAKKKKACiiigAooooAKKKKACiiigAooooAK8Z/Zf/AOS3/tHf9lmsf/UK8L17NXjP7L//ACW/9o7/ALLNY/8AqFeF6APZqKKKACiiigAooooAKKKKACiiigAooooAKKKKACiiigAooooAKKKKAPMP21PhD4q%2BPn7JnxD%2BDvgV7Ua34g8KXlro8d9KUt5roxkxRSsASsTuFR2wcKzHBxg%2BReHPhD8cvjUPjxq/jf4Oa98O5PjT4YHh/R7bU9V0u6m0RLbSHtlvbw2N5Mm%2BWe7mEawNMRHaI0hiLhB9WUUAfL3/AATv%2BFf7R/wx1DV9P%2BJ/hrxr4e8Lw%2BC/D9ha6J488dQa9PN4gtxdrqd/ZPDdXItbCWNrFY4N0KgwuVtbYZ8zav8AwX4k8Pf8FNvBfiLVvi54h12z1b4PeOHsNB1W205LTRQureEspbNbWkU7h9wz9olnPyDaV%2BbP0PXjPjj/AJSF/C//ALIz48/9O3hCgDzH/glR/wASzUf2kfCTcfYf2nfE8sS/3YphbOg/Q19aV8l/8E8s6T%2B1b%2B1b4T6eT8VrXUNv/X1Yq%2Bfx219aV5OSaZbCPZzX3VKh%2BgeKPvcbV6v/AD8hhp/%2BB4TCP9Aooor1j8/CiiigAooooAKKKKACiiigAooooAKKKKACiiigAooooAKKKKACiiigAooooAKKKKACiiigAooooAKKKKACiiigArxnxx/ykL%2BF/wD2Rnx5/wCnbwhXs1eM%2BOP%2BUhfwv/7Iz48/9O3hCgD2aiiigAoornfiv8V/APwR8BXvxM%2BJuuNp%2Bj2DwRzTRWc1zLJLNMkEEEUECPLPNLNLHFHFGjSSSSIiKzMAQDoqK87sv2rfgJffAu6/aRTx00PhCxknhvr280i7t7m2uYbk2klpJZSxLdJdC5UwfZWiExlxGELkKcqX9tv9n9PAMXxGtbvxhe2UmrzaXNp2mfDDX7vVbK7iQSSRXWmw2LXtoVjKOTPCg2SRtnEiFgD1mvGf2D/%2BSIa5/wBlm%2BI//qa63XqPgXxx4R%2BJvgrSPiP8P/ENrq%2Bha/pkGo6NqtjKHhvLWaNZIpkYdVZGVgfQ15d%2Bwf8A8kQ1z/ss3xH/APU11ugD2YkKCzEAAck1%2BR/7YHx18eft7/tRaXF8Eroz2S69deDPgUikmKe/AA1rxWwHWG0hykMg6OUlQhoZFr7O/wCCs/7Q2sfB39mZvhj8PtWjtfGfxSvf%2BEZ8OzvIVFlDKpN7fuRykcFtvYyD7jOjdq8v/wCCNP7N%2Bm3uiSftkarokltp91oqeF/g/pl5GBJp3hq1kYNdMv8ADcXtwJLiQju7FTtlxXyOdzqZpmNPK6TstJTa6LdfctV/elH%2BU%2Bh4PwWErZrWzvMIKeEyz2dTklrGvjJ3eEoNfahBwli68dnTo04vSpr9efs5/APwD%2BzB8E/DvwK%2BGmniDSfD2nJbxuUAe5k6y3EmOskkhaRj6se2BXbUUV9XSp06NONOCtFJJJdEtEeRjcbi8yxlTF4qbnVqSlOUpO7lKTcpNvu22/6SRRRRVnKFFFFABRRRQAUUUUAFFFFABRRRQAUUUUAFFFFABRRRQAUUUUAFFFFABRRRQAUUUUAFFFFABRRRQAUUUUAFeM/sv/8AJb/2jv8Ass1j/wCoV4Xr2avGf2X/APkt/wC0d/2Wax/9QrwvQB7NRRRQAUUUUAFFFFABRRRQAUUUUAFFFFABRRRQAUUUUAFFFFABRRRQAUVm%2BM/GPhX4d%2BD9W%2BIHjnX7XStE0LTZ9Q1jVL2UJDZ2sMbSSzSMeFREVmJ7AGuc%2BCH7Qnwq/aI0TUNd%2BFusajMukagLHVrDW/Dt9pF9Y3BhinVJ7O/hhuIt0M0MqF4wHSVHUlWBoA7Wvn34teO9H8Mf8FOPgd4T1SUJN4k%2BEPxEttOyeXniv/CVwU/79RTN/wAAr034SftE/Br47a34w8PfCbxtHrN14B8TSeHvFYgtJ0Sy1KOKOSS3EkiKkxVZFDNEXVXDIWDo6r8Vf8FhPGWq/Bz9uL9lL9oyxfy7HwHL4lu/ElxnHk6Vdah4a0%2B5bPut2q88fNXJjsT9Twkq3SNm/S8U/uTb%2BRw5li/qGBniOkbN%2BnNFSfyTb%2BR6t%2Bx//wASj/gp9%2B1t4ePCXLeCdQtx679JlWQ/99AV9aV8l/Bf/iTf8Fi/jVpvT%2B2vhd4c1DH97yXeDP64r60rkybTDVI9qlVf%2BTt/qfp3iR7%2BdYSt/PgsDL7sLCD/ABphRRRXrH5%2BFFFFABRRRQAUUUUAFFFFABRRRQAUUUUAFFFFABRRRQAUUUUAFFFFABRRRQAUUUUAFFFFABRRRQAUUUUAFFFFABXjPjj/AJSF/C//ALIz48/9O3hCvZq8Z8cf8pC/hf8A9kZ8ef8Ap28IUAezUUUUAFeQftr/AA38ffEP4T6RffDLwy2u6x4T8f8Ah3xPD4dS7hgfVotP1O3uJ7aOSd0iWYwpIYvNdIzKsYd0Ul19fooA%2BT/CvwJ8d%2BJ/2dvih4e%2BMn7P3jO2u/Hfje88cafoHhzX9GXUtLuEv4JNOt4Z2vfsy6lEbC1vSWc2glk2edKA2eF8PfDf9vj4E/BPx9rHwz%2BGXxA8QeMvjd8XhqmsajqWv%2BGJvEHg7Rl0TTtMe%2BkQ3Vppc9%2By6WDDBbMbeE3MO8Srbukv3VRQB538LfhVZeG/2YPDfwZ%2BGtr4l%2BGVrpfhOy0vRrcS6fd6roMUMKRxxs8n220mmRUCs589GOTls7q4/wD4J06Tf6D%2BzdfaJqvie%2B1u5s/i38Q4bjWNTjgS5vnXxnrQM0q28UUIdyNxEcaJknaqjAHulfNXwR%2BIK/CX9hf4pfFNpQn/AAjfjn4saoHPY2/izX5R%2BqVFScaVNzlsk2/km/0Iq1I0aUqktopt%2BiTb/BM%2BJP22/HfiT9tP9o/xBqngS9Mltf8AiRPgt8IXX5k8%2Bdg/iTWFHdEtybUupKtFcqeq1%2BrHw88CeG/hd4B0T4aeDrEW2k%2BH9Jt9O0y3H/LOCGNY41/75UV%2BZ3/BFf4cL8W/iV4Q8YS24k8N/Ar4aRWWkSYys/iTXi9/fXAPd47eYW7g8ghPSv1Jr5fhenKvTqZhU%2BKq/wAFq7eXM7Lygj67MaUsi4MynJJaVqkPr2J/6/4yMZ04P/rzhFh6aT29pLa7Ciiivqz5QKKKKACiiigAooooAKKKKACiiigAooooAKKKKACiiigAooooAKKKKACiiigAooooAKKKKACiiigAooooAKKKKACvGf2X/wDkt/7R3/ZZrH/1CvC9ezV4z%2By//wAlv/aO/wCyzWP/AKhXhegD2aiiigAooooAKKKKACiiigAooooAKKKKACiiigAooooAKKKKACiiigDzD9tT4Q%2BKvj5%2ByZ8Q/g74Fe1Gt%2BIPCl5a6PHfSlLea6MZMUUrAErE7hUdsHCsxwcYPmHw18CftLeOfEvxm%2BIs3w/134Ra18VNJt9L8KX2pyaRqs/heSx0swxandw2l%2B8UzvdXMpjhikkDR2aGVoTJtX6eooA%2BW/8AgnV%2Byr%2B0H%2By144%2BLOjfFXWPCF14Z1PWdDHgyTwt4Wn00XUNroNhZSTlZ9Vv5QN1v5RWUiR5IZZi7LMqrwn7fP7L/AIk%2BNfxz1P4eaj8UfEPiRfGH7OnxCPhzw5qtppy2mjXkGqeEprdbY21pFO4adISftEs7fINpXnP2/XjPjj/lIX8L/wDsjPjz/wBO3hCsq9GGIoTpT2kmn6NNfqYYnD08Xhp0KnwzTi/Rpp/mfIHwe%2BPFz4Y%2BIP7NP/BRvU7/AM/w38VvAFt8MPiRdyHK2GrRSt9nuif4Q93DNG5JAVFyckiv0lr8%2Bv2ev2c/D/xZ%2BFP7VH/BLjxS6Wy%2BHPH1xqPhB5Fx/ZtnqiC/0uRQOcRTRlzt6hiOM19E/wDBNr9o3xB%2B0X%2BzBp0/xHV4fHXg69n8LfEGynP72HVrIiKVn95F2SntmQgdK%2BcyGtUpSVGp/wAvE5f9xIe5VXzcYzX%2BJn29KvPizwvy/N5a4nL1HB4ju4J1Pq1R%2Bko1sPJ91Svq9ffKKKK%2BoPjwooooAKKKKACiiigAooooAKKKKACiiigAooooAKKKKACiiigAooooAKKKKACiiigAooooAKKKKACiiigAooooAK8Z8cf8pC/hf/2Rnx5/6dvCFezV4z44/wCUhfwv/wCyM%2BPP/Tt4QoA9mooooAKKK8//AGl/jjc/AH4axeLNF8Ir4g1rVfEOl6D4b0OTUfscd7qOoXsVpAss/lyGCFWl8yWQRyMsUblUkYKjAHoFFfPtz%2B3RdaF%2By94p%2BN3i34Ux2nifwd4xPhHW/CVv4iElpHrD6lBYQY1B4ExZSG6tbg3LQK0cEpZ4gyNHWFZf8FAfHviC%2Bb4O%2BD/gh4b1L4uWvxJvPB2reF0%2BIci6JZz22iw61LdHVRpzTNCLS6tEx9iEgubjymVVR5VAPp%2Bvz5/ao8dTeBP%2BCN/xlkspMXes/Fnx5o1pGDgyG7%2BIOqQOo/7ZPIfoDX2n%2Bzv8aNH/AGifgf4X%2BNuh6Pc6bB4k0iK7fS71laawmIxLbSFcqzxSB42KkqShIJBBr8w/%2BCoHja703/gnVpXw70m8EN3rH7TfxJ1Fs874NP8AE3iSdxj/AH2hP4V43EVf6tkeJqf3Gvv939TlxmCrZnQWAou08RKFGL7Sr1KdFP5Orf5M%2Bu/%2BCIvw20/wB/wTp8G63HYrFqPi%2B5v9f1qYLj7RPNdSJG//AIDxQL/wGvrSvLf2HvBv/Cvf2M/hT4MeLZLp/wAPNHjuFxj999jiMh/Fyx/GvUq6cpoLDZXQpW2hH/0lN/i2fZcb4ynj%2BMsxr0vgdeqo%2BUIzlTppeUadOnFdopLoFFFFegfLhRRRQAUUUUAFFFFABRRRQAUUUUAFFFFABRRRQAUUUUAFFFFABRRRQAUUUUAFFFFABRRRQAUUUUAFFFFABRRRQAV4z%2By//wAlv/aO/wCyzWP/AKhXhevZq8Z/Zf8A%2BS3/ALR3/ZZrH/1CvC9AHs1FFFABRRRQAUUUUAFFFFABRRRQAUUUUAFFFFABRRRQAUUUUAFFFFABRUd7e2enWcuoahdxQW8ETSTzzSBUjRRlmZjwAACST0rmfAPx0%2BCPxW8BT/FT4XfGPwr4k8L2xmFz4k0DxDbXlhF5IzLuuIXaNdg5bLfKOuKAOqrxnxx/ykL%2BF/8A2Rnx5/6dvCFd98J/jh8Fvj1oE3iv4GfF/wAL%2BNNLt7o21xqXhPxBbajbxTBVYxNJbu6q4VlO0nOGB7iuB8cf8pC/hf8A9kZ8ef8Ap28IUAeV/tj/AAx%2BN37Nnx9P/BRz9mbQpfEwXQodK%2BLPw8ijBm1nSYGLLeWbYz9qgU/d53IoA/iV%2BCufHOv/AAx8ZX//AAVP/YRtV%2BI/wq%2BJVpaz/FrwHpce3UrWW2QxtqVomeLiNSRPAQCSGJyG3xfe9fI3xP8A2I/j1%2Bz18Ttc/aQ/4Ju%2BM9L0q61%2B5F74x%2BEXiKLGheIJwPnmgdcGxuWH8S4VmxuZVBB%2BazHL61KbrUOZxcua0bOUJ2%2BOCeklJaTpv4lqtbo04ez7MOBs1rYrD0FisHiYuGJw0r2nFuMm4Wakpc0YzTg1OFSMatO756dT6J%2BBPx6%2BE/7Svwx074v/AAW8Y22t6FqceYbm3bDROMbopUPzRSqThkYAj8q7Cvy68P8Ajzwsnxx1TxX%2BzP49l/Zf%2BPt7OsvjH4JfE5Nnhjxbcc4eJ8LGWkOds8OHfJKou9pG%2Bnfg/wD8FRPA8Hi2D4HftseCLv4KfEUny0svE0o/sfViMDzbHUR%2B5kQkjAZhgnaGcgmtcDn2HqxUMS1F7c32G%2B13Zwl/cqKMk9E5LU%2B2fC%2BXcT4SeacF13jKEbudH/mMw/Vxq0UlKpGGq9tRjKLSTnTpNtH1RRTYZobmFLi3lWSORQyOjZDA8ggjqKdX0B8K007MKKKKACiiigAooooAKKKKACiiigAooooAKKKKACiiigAooooAKKKKACiiigAooooAKKKKACiiigAooooAK8Z8cf8AKQv4X/8AZGfHn/p28IV7NXjPjj/lIX8L/wDsjPjz/wBO3hCgD2aiiigArz79pf4HXXx%2B%2BGsXhPRfF6%2BH9a0rxDpeveG9ck077ZHZ6jp97FdwNLb%2BZGZ4WaLypYxJGzRSOFeNirr6DRQB4b8P/wBlb4jeCPhH4x8A6p8TPB/iHVPHV1qWq%2BIr7Xvh3JPp93qt7MxkMlidRw9gtsIbZbQy%2BZsh3PcuzE1wngf/AIJp6j8IfDmleI/gl8TfCPhb4h6f49vPFEuq6d8MxF4cdrnSY9IksItFgvomgtVs7e02Kt3vE1qsrvJvkR/q2igDzn4U/sxfDX4d/szaJ%2By14m0q18YeHtN0GPTtVj8TadDcR6y33ppriBlMTGWUtKybdoLYAAAr8cv2/dL0e80Twf8As1/DXSbLRrXwj4j%2BJk%2BiaNpVqkFtax6j8SL7SY4o4YwFRFijdVVQAoGAK/dOvwy0K0n%2BMX/BRjVPDs8bMmk/tanw6u4ZEtj/AMJd4j1e7RfYN5RPuRXyvGLc8pVBf8vJxj%2BN/wDI%2Bj4HgqviJkcZK8YYqFZ9uXCwr4t38v8AZo/efuLpGl2eh6Ta6Lp8ey3s7dIIE/uoihVH5AVYoor6lJJWR89KUpycpO7ev3hRRRTJCiiigAooooAKKKKACiiigAooooAKKKKACiiigAooooAKKKKACiiigAooooAKKKKACiiigAooooAKKKKACiiigArxn9l//kt/7R3/AGWax/8AUK8L17NXjP7L/wDyW/8AaO/7LNY/%2BoV4XoA9mooooAKKKKACiiigAooooAKKKKACiiigAooooAKKKKACiiigAooooA8i/b7%2BH3jT4rfsUfFP4cfDzRpdT1nWfA2o2tlpEDhX1MtA26zUsQoM67oRuIX95yQMmvOP2d/GulTfFL41/HGb4Q%2BO9N8GeL47CXR9G1T4Y6ta3eqvpmjxx31wbCW1WZGkRreziSVEe5NiVhWRVQn6kooA%2BY/%2BCeXiPUPjH4k%2BIf7UPjfwH4t8J%2BKfHEulx3PhDxL8P9W0P%2BwtKtI7hNPtGk1C1gW/vMS3ElzLAZI43mSFWaOKKSXVv9N%2BK9p/wU28F3njbxp4e1DQrj4PeOD4a07SvDE9nd2CDVvCXmLc3Ml7Ml2TlMFIbcLtOQ24bfoevGfHH/KQv4X/APZGfHn/AKdvCFAHs1FFFAHE/HL9nD4E/tL%2BFG8E/Hj4V6N4o07DeVHqdoGktyeC0MoxJC3%2B1Gyt718nfFL/AIJR/GLwp4OuPA37Mf7Qtn4g8FN80Xwi%2BOel/wBu6NHgfKltd4%2B02Sr/AA%2BV84JzvzzX3PRXnYzKsDjm5VYe9a3MtJW7XW68pKS8jjngaP1yGMpOVKvBpxq05Sp1YtbNTg4y06XbXkfj%2Bmp/8FEf%2BCc0jt4K%2BG3j3wNoNrIWfw/Mj%2BNvA7L13JNEft2kwnH3f3shPVhnFe3fs9f8HDfwD8TiDRP2lfBF14WuypMniHwzKdW0tlBwZXjUC7tQSchHiZgOpr9Eq8m%2BNv7CP7HP7RbzXPxl/Zx8KazeXGfO1Q6YtvfNn/p6g2Tf%2BP14kcjzfLnfLsV7v8lSN4/K23yS9D7KpxnnmPjy59Ro5j/09qJ4fF/PFYaKjVfnicNUbfxTerfT/Bz9ob4F/tCaEPEnwQ%2BLWgeKLTYGkfRtTjmeHPaRAd8Tf7LgH2rsq%2BAvHf8Awby/srvro8Zfs/fF/wCIPw41mFy9lPpmsC6itm7FfMCz5H/Xer/h/wDZk/4LZfs3hYfhN%2B2r4H%2BLGkWiHytL%2BJ%2BkTw3M%2BOg86MSTMx/27kD3rsp5lnNDTGYRv%2B9Skpr/AMBbjL8z5zG43K781CjXp/3ZKlWXynRlBv8A7eoxfV9j7uor4huP%2BCiX/BRT4K2tvF%2B01/wSo8R3yAMbvXfhh4gj1aIqP4xawrK0Q7/vJh%2BFR%2BGf%2BDgn9gi91FtF%2BIdt498EXsL7Lq18TeEmLwN3DLavMw/LPtW3%2BsOURfLVqezfacZQf/k0UvubPP8Ar9BU3UlGcYreUqdVRXm5ezcUvOUortc%2B4qK%2BefBX/BWH/gnJ4%2BCHQv2u/CMG/wC7/bd1JpuPr9rSLH416x4R/aA%2BA/xA2f8ACBfGzwjrfmf6v%2ByPElrc7vp5chzXfRx%2BBxH8KrGXpKL/ACf6Bh8zy3Ffwa8Jek4v8pX/AAOuooBBGQaK6ztCiiigAooooAKKKKACiiigAooooAKKKKACiiigAooooAKKKKACiiigAooooAK8Z8cf8pC/hf8A9kZ8ef8Ap28IV7NXjPjj/lIX8L/%2ByM%2BPP/Tt4QoA9mooooAKKK8h/bX%2BJHj74efCfSLL4ZeJW0LWPFnj/wAO%2BGIfESWkM76TFqGp29vPcxxzo8TTCF5BF5iPGJWjLo6gowB69RXyFrf7SP7QHhL9iL4t38HxG/tbxz8PviBd%2BENB8V3emWiXets1/axWmyCOFbQ6i8d7Haxjykt3vFQtGkbMi%2BWj9qr9ta/0OH4S2PiX4mXHim2%2BMuraNqHhvTdM8Hr8QodIg8OW2pQrMZ0/4R1sTXcMzzRNtNrdWkaubkyoQD9D6/Hv9iDwE%2Brf8FOrJ7qHJuf2qfjV4guxj71taXctnaN/wG4Nx%2BdfpL%2BzJ8etS8V/sQ%2BA/wBoX4p6s%2Buajf8AgLTdS8SXfhDwzfXLXN49vH9oNvYwwNdE%2BaXHlLFvXBBQYIHxb/wTSvfD/wAT/wDgpLrni7w1pt3b6boXhv4hXgi1HS7iyuUvdR%2BJOsybpre5RJoJDbgBo5EV1IwygggeHnlFVvqyf/P2H6v8on3HAGHis2xeYv8A5hcFjZr/ABVKCw0fnfEO3mfpjRRRXuHw4UUUUAFFFFABRRRQAUUUUAFFFFABRRRQAUUUUAFFFFABRRRQAUUUUAFFFFABRRRQAUUUUAFFFFABRRRQAUUUUAFFFFABXjP7L/8AyW/9o7/ss1j/AOoV4Xr2avGf2X/%2BS3/tHf8AZZrH/wBQrwvQB7NRRRQAUUUUAFFFFABRRRQAUUUUAFFFFABRRRQAUUUUAFFFFABRRRQAUUUUAFeM%2BOP%2BUhfwv/7Iz48/9O3hCvZq8Z8cf8pC/hf/ANkZ8ef%2BnbwhQB7NRRRQAUUUUAFFFFABRRRQAVzfxF%2BDfwi%2BL%2Bnf2R8WPhb4d8T2u0qLfxBosF4gHsJUYD8K6SipnCFSPLNJrs1dfc7m2HxOJwdZVsPOUJraUZOMl6OLi18mj5K%2BKH/BED/gnF8S/OuLb4JzeGLucEPd%2BE9bubTAPYQl2gH/AH7rwLx5/wAG2/w0%2BztB8Hf2j72whU5S08W%2BDrHUjIP7rTwfZ5F/3hzX6ZUV4mI4ZyDFO88PFPulyv8A8lt%2BR9F/rln1VcuMlTxS7Ymhh8Tf1dehUn/5V/zPyUb/AIIv/tp/B7H/AArnTvBGr2UI/dnwf8S/EWhai%2BO/%2BkSy26/rQPhP%2B3r8Jxnxb4M/bS0VIu/g/wCM%2BneMIMDvHbiGNgP9ksT71%2BtdFcP%2BqOAp/wACpOHzuv8A21/iR/aXBmJ/37hvBSfej9Zwcv8Ay2xPJf8A7heiR%2BSq/tafEbwGQnjD/gqD8ffhey8FPix%2BzbDeGM%2BjlPMzXd%2BCf2wPjf4k2DwZ/wAFy/ghq5bHlr4y%2BHttorP7EO8ZB9q/S5lV1KOoIIwQRwRXCeNv2Wv2ZviTvPxD/Z38Da4ZPvPq/hSzuGJ9cyRk596P7BzGl/DxF/V1Y/8ApNSS/AP7P8IcV8WCx%2BGf/TnH%2B1ivSOIpJ/fM%2BZvCHjH/AIK1eKUWT4YftNfsoeNFIyjAamQ//gI7fpXQf8JT/wAFu9K/4/8A4Wfs46rjr/Zmt6zBu%2BnnCug8X/8ABHz/AIJseNmMmqfspaHauTkPot5d6eVPqBazRgflWB/w5y/Z50QY%2BFfxx%2BNfgXH%2Br/4RL4oXcPl/TzhJR9Rzqn1k/wDDXf5VKL/MP9UfDLEfwM%2BzCh5VaEaiXzo1W3/4ChB8bf8AgsVp3/H7%2BxD8MdSx1/s74lGHP081KP8AhqX/AIKw2H/H3/wSu0a/x1%2Bw/HDTYs/TzI6U/wDBOf8AaZ8M/wDJMf8Agqr8YbTb/q/%2BEqhs9bx9fNVN1H/DN/8AwVt8Lf8AIvf8FIPCfiZV%2B4nif4RWtpkeha0kJ/GjlzWHxKuvSVCf6J/gH/EOckrf7pxbT9KtOvSf/k2EqxXzkJ/w2h/wUttf%2BQp/wSA1JMdfsnxs0af%2BUYzR/wAN3ft32/8AyEP%2BCSPjNfX7N8QdMl/kBS%2BV/wAFvvDP3Lr9mvxPAvXzE1uyuX/LMYo/4X1/wV98Of8AIZ/YG%2BH/AIk29f8AhHvinHZ7vp9qQ4/Gj2%2BKj8VXEL1owf8A6TFh/wAQozup/u3EOEq%2BmKwsX91WhRt82If%2BCgf7YcP/AB9/8EnfiWPXyfEenyfyNH/DxL9qRP8AX/8ABKb4tj18u%2Bsn/wDZqX/huf8Ab50T/kd/%2BCSHiyDH3/7B%2BJGl6n%2BXlquaP%2BHoPxB0b/kc/wDgmJ%2B0db4%2B%2BdG8FRaiB%2BKTrmj66l8WMqR9aNv/AHEH/EHvEWX8DFQq/wDXuvl0/wAsTET/AIeO/tHJ/rv%2BCVnxnH%2B4tm3/ALPR/wAPJvj4v%2Bt/4JY/HEf7lhat/wC1KX/h8H8GLD/kbv2Y/j54fx97%2B2fhVcJt%2Bux2o/4faf8ABP8Asv8AkavHHinQsfe/tf4f6qm367LdqP7Qw63zJL1hBfnGIf8AEGPF9/w8PiJ/4KNCp/6bqVPwE/4eX/GhP9d/wS2%2BPg/3NDt2/wDatH/Dz74mR/8AHz/wS%2B/aLHr5Xg%2BF/wCU1aWlf8FpP%2BCY2s4%2ByftVaemen2vQNTg/9GWy10emf8FU/wDgnXq2Psv7XvgxM9PtOomD/wBGKtaRxlKfw5nB/Kj/APJI46/hP4t4X%2BLhMZH1wUv/AJWziv8Ah6j4kh/4/f8AgmT%2B1Cvr5Hw0ST%2BVxR/w9nsov%2BP/AP4Jz/tV23qZvg8cfpcmvVdO/wCChH7B%2Bq4%2Bx/tmfC/J6LN46sIyfweUGt3T/wBrv9k/V8f2V%2B098PLrPT7P41sHz%2BUprojKvL4cwi/%2B3aL/APbzyK3A/iFhv4scRH/FgpL86aPDf%2BHvHw%2Bj/wCP79i39pG19RP8JJR/KY0f8PhPgwnFz%2BzF8fIT6S/Cq4H8nr6NsPjh8FdUx/Znxf8AC9znp5HiC2fP5PWzY%2BK/C%2BqY/s3xJYXGenkXiPn8jW0aWZS%2BHFxf/cOH6TPMq5JxVh/4ldx/xYa35tHyz/w%2BJ%2BBPT/hnb4659P8AhVlzn/0Kj/h8F8HX/wCPb9lv4/znsIvhTcHP5uK%2BtQQRkHIorT6rm/8A0Er/AMFR/wDkzl%2Bp57/0GR/8Ex/%2BTPkr/h7n4Ol/48P2Fv2mrv0%2Bz/CKQ5/OcUf8PYHlP%2Bhf8E1/2rpR/ePwh2g/ibmvrWij6pmv/QV/5Sh/8kH1HO3vjf8AyjT/AFkfJX/D1PxA/MX/AATK/ajI/wBv4Yqv/txVT4KftUal%2B0x/wUL8Gf2j%2BzJ8UPhz/YnwZ8ZbP%2BFk%2BGRp39oedq3hXP2bEj%2BZ5flDf02%2BbH13cfYFeM%2BOP%2BUhfwv/AOyM%2BPP/AE7eEK1oYbH06qlUxHMu3JBX%2Bad0b4bCZnSrKVXFc8esfZwjf5ptrvoezUUUV6B6gVzvxY%2BE/gH43%2BAr34Z/E3Q21DR794JJoYr2a2ljlhmSeCeGeB0lgmimijljlidZI5I0dGVlBHRUUAeWWv7F37OVp8Kb34Jf8IXqE/hjUreRL/Tr3xVqdwbiaS9e%2Be9eWW4aVr43Tmc3xb7V5gVvNyi4ypf%2BCfn7LMnhmDw2nhLxFDNb%2BIZ9cXxHa/ETXIdefUJrVbSWeTWEvRqEpe2jigYPOymKGKMjbGgX2iigDH%2BH/gHwb8KvA2j/AA0%2BHfh220jQdA02Gw0fS7NNsVrbRIEjjUdcBQBzknqSTXwN/wAEZtJutY/bM/bB8c3w3R2Hxh1bRdNf%2B6g8Qa3cTL/33Ihr9Ea%2BMP8AgjR4SbSrH9pbxjcxYl1v9rn4grG%2BPvQQavLGv5P5tedjKbq4rDeUm/uhJfmz7HhvGxwWQ513qUKdNf8Ab2Koyf4U9fI%2Bz6KKK9E%2BOCiiigAooooAKKKKACiiigAooooAKKKKACiiigAooooAKKKKACiiigAooooAKKKKACiiigAooooAKKKKACiiigAooooAK8Z/Zf8A%2BS3/ALR3/ZZrH/1CvC9ezV4z%2By//AMlv/aO/7LNY/wDqFeF6APZqKKKACiiigAooooAKKKKACiiigAooooAKKKKACiiigAooooAKKKKAPHv%2BCg58cj9hz4sH4b/2n/bH/CBan9n/ALE3/btn2d/N%2BzeX8/n%2BV5nl7Pn37dvzYr5s%2BEXiX4ead8Mf2nvDX/BOTX/DUHh3UvC0z/BWw8C3VuthdeJYvDubw6SkJ8twkr6aZTACq3LS78SmWvvSigD43/4Jln9nw/GPx7/wxadI/wCFT/8ACt/BXmf8I5t%2Bw/8ACVb9Z/tLzNnH9o/Y/wCyPte797u8nzP3m%2BvQb/Uvivd/8FNvBdn428F%2BHtP0K3%2BD3jgeGtR0rxPPeXd%2Bh1bwl5jXNtJZQpaEYTASa4DbjkrtG76Hr5w/aP1f416P%2B3h8J5/gd8P/AAt4i1JvhH47W7tPFfjC50WCOD%2B1PCRLpLb6fes77to2GNRgk78gKQD6Porxn/hOP%2BChf/Rr/wAGf/D8at/8y9H/AAnH/BQv/o1/4M/%2BH41b/wCZegD2aivGf%2BE4/wCChf8A0a/8Gf8Aw/Grf/MvR/wnH/BQv/o1/wCDP/h%2BNW/%2BZegD2aivnHSf2jv27dY%2BM%2Bv/AAOt/wBlD4SLqnh3wvpGu3ly/wAddU8iSDUbnUreFEI8Mbi6tpc5YFQAHjwWJYL1H/Ccf8FC/wDo1/4M/wDh%2BNW/%2BZegD2aivGf%2BE4/4KF/9Gv8AwZ/8Pxq3/wAy9H/Ccf8ABQv/AKNf%2BDP/AIfjVv8A5l6APZqK8Z/4Tj/goX/0a/8ABn/w/Grf/MvXL%2BAf2jv27fiJ4r8b%2BENH/ZQ%2BEkNx4D8URaFqslz8ddUCTzyaVp%2Bph4tvhgkp5OowqSwU70cYwAzAH0dRXjP/AAnH/BQv/o1/4M/%2BH41b/wCZej/hOP8AgoX/ANGv/Bn/AMPxq3/zL0AezUV4z/wnH/BQv/o1/wCDP/h%2BNW/%2BZej/AITj/goX/wBGv/Bn/wAPxq3/AMy9AHs1FfOPwi/aO/bt%2BMvhS78X%2BHP2UPhJbW9n4o1vQpI73466ormfS9VutMncbfDDDY01pIyHOSjKSFOVHUf8Jx/wUL/6Nf8Agz/4fjVv/mXoA9morxn/AITj/goX/wBGv/Bn/wAPxq3/AMy9H/Ccf8FC/wDo1/4M/wDh%2BNW/%2BZegD2aivGf%2BE4/4KF/9Gv8AwZ/8Pxq3/wAy9cv8Ef2jv27fjx8GPCHxx8K/sofCS10vxn4X0/XdNttQ%2BOuqLPDBd20dxGkgTwwyhwsgDBWYZBwSOaAPo6ivGf8AhOP%2BChf/AEa/8Gf/AA/Grf8AzL0f8Jx/wUL/AOjX/gz/AOH41b/5l6APZqK8Z/4Tj/goX/0a/wDBn/w/Grf/ADL1y/xu/aO/bt%2BA/wAGPF/xx8VfsofCS60vwZ4X1DXdSttP%2BOuqNPNBaW0lxIkYfwwqlysZChmUZIyQOaAPo6ivGf8AhOP%2BChf/AEa/8Gf/AA/Grf8AzL0f8Jx/wUL/AOjX/gz/AOH41b/5l6APVdU8H%2BEtcz/bfhfTrzPX7VYxyZ/76BrndT/Zw/Z41vP9s/AbwXd56/avC9pJn/vqM1xn/Ccf8FC/%2BjX/AIM/%2BH41b/5l6P8AhOP%2BChf/AEa/8Gf/AA/Grf8AzL1nKjRn8UU/VJ/mmdlDMcxwv8GvOH%2BGc4/%2BkziaepfsMfsT6wSdU/Y/%2BF1wT1aXwBpzH8zDmsLUP%2BCaX/BP3U8/af2Ofh4uf%2Bffwxbw/wDotRWD8Xf2jv27fg14UtPF/iP9lD4SXNveeKNE0KOOy%2BOuqM4n1TVbXTIHO7wwo2LNdxs5zkIrEBjhT1H/AAnH/BQv/o1/4M/%2BH41b/wCZeueWX5fP4qMH/wBuR/8AkT16PGPF%2BH/hZliI%2BmIrr/3Mc1f/APBJL/gm/qWftH7JHhdc/wDPus8X/oEgrGvv%2BCK//BMTUM/aP2VrBc/88PEOqRf%2BgXQrvv8AhOP%2BChf/AEa/8Gf/AA/Grf8AzL0f8Jx/wUL/AOjX/gz/AOH41b/5l6xlk2Ty3w1P/wAAj/kenS8S/Eah/DznFr0xNb/5YzzI/wDBD3/gmlCc6T8B9QsD2Nn451lcfndmk/4cq/sPQf8AIJsvHVh6fY/iJqS4/wC%2BpTXp3/Ccf8FC/wDo1/4M/wDh%2BNW/%2BZeuX8fftHft2/DvxX4I8Iax%2Byh8JJrjx54ol0LSpLb466oUgnj0rUNTLy7vDAITydOmUFQx3ugxgllz/sLJemGgvSKX5WOr/iK/ic/izrEv/FWlL/0rmOZ/4c2/szQDGl/Ff4w2Pp9k%2BJ14Mfnml/4dB/CqH/kGfta/tC2Xp9l%2BLE4x%2BcZr03/hOP8AgoX/ANGv/Bn/AMPxq3/zL0f8Jx/wUL/6Nf8Agz/4fjVv/mXo/sLJ%2BlFf%2BTL8pIP%2BIq%2BIr%2BLM6j9VSl/6VQkeZf8ADpjSYv8AkHf8FC/2p7PHQW3xgYY/O3NUvgr%2Bypd/sx/8FC/Ba3H7THxU%2BIq618GfGWwfE3xUNUOn%2BTq3hXP2c%2BWnl%2BZ5o39d3lR9Mc%2Btf8Jx/wAFC/8Ao1/4M/8Ah%2BNW/wDmXqh4H8D/ALVnjH9qzw58bvjd8OPh74Z0bwz8PfEOhww%2BFfiHfa1dXd1qV9olwjMlxpFikUaJpcoLB3YtKgC4yRtQyrL8NVVSlC0l5z/Jza/A8/NOPuL87wM8HjsV7SnO106dBXs0170MNTmtUtprs7q6futFFFegfHhRRRQAUUUUAFeD/wDBO3wtpnhn4K%2BLZtP3btU%2BPHxKvrpnxzK3jPWFPTsFRR%2BFe8V8lfsleLP2ztP%2BHviiz%2BGPwD%2BGGr6Enxp%2BIv8AZ%2Bo698XdR027mX/hM9ZLGS2i0C5SIhtwAEz5AByCdoTSbT7FxqVIwlBPSVr%2Bdndfc9T61orxn/hOP%2BChf/Rr/wAGf/D8at/8y9H/AAnH/BQv/o1/4M/%2BH41b/wCZemQezUV4z/wnH/BQv/o1/wCDP/h%2BNW/%2BZej/AITj/goX/wBGv/Bn/wAPxq3/AMy9AHs1FfOPwR/aO/bt%2BPHwY8IfHHwr%2Byh8JLXS/GfhfT9d0221D466os8MF3bR3EaSBPDDKHCyAMFZhkHBI5rqP%2BE4/wCChf8A0a/8Gf8Aw/Grf/MvQB7NRXjP/Ccf8FC/%2BjX/AIM/%2BH41b/5l6P8AhOP%2BChf/AEa/8Gf/AA/Grf8AzL0AezUV84/G79o79u34D/Bjxf8AHHxV%2Byh8JLrS/BnhfUNd1K20/wCOuqNPNBaW0lxIkYfwwqlysZChmUZIyQOa6j/hOP8AgoX/ANGv/Bn/AMPxq3/zL0AezUV4z/wnH/BQv/o1/wCDP/h%2BNW/%2BZej/AITj/goX/wBGv/Bn/wAPxq3/AMy9AHs1FeM/8Jx/wUL/AOjX/gz/AOH41b/5l65f4u/tHft2/BrwpaeL/Ef7KHwkube88UaJoUcdl8ddUZxPqmq2umQOd3hhRsWa7jZznIRWIDHCkA%2BjqK8Z/wCE4/4KF/8ARr/wZ/8AD8at/wDMvR/wnH/BQv8A6Nf%2BDP8A4fjVv/mXoA9morxn/hOP%2BChf/Rr/AMGf/D8at/8AMvR/wnH/AAUL/wCjX/gz/wCH41b/AOZegD2aivnHx9%2B0d%2B3b8O/FfgjwhrH7KHwkmuPHniiXQtKktvjrqhSCePStQ1MvLu8MAhPJ06ZQVDHe6DGCWXqP%2BE4/4KF/9Gv/AAZ/8Pxq3/zL0AezUV4z/wAJx/wUL/6Nf%2BDP/h%2BNW/8AmXo/4Tj/AIKF/wDRr/wZ/wDD8at/8y9AHs1FeM/8Jx/wUL/6Nf8Agz/4fjVv/mXrl9W/aO/bt0f4z6B8Drj9lD4SNqniLwvq%2Bu2dynx11TyI4NOudNt5kcnwxuDs2qQFQFIISTJUhQwB9HUV4z/wnH/BQv8A6Nf%2BDP8A4fjVv/mXo/4Tj/goX/0a/wDBn/w/Grf/ADL0AezUV4z/AMJx/wAFC/8Ao1/4M/8Ah%2BNW/wDmXo/4Tj/goX/0a/8ABn/w/Grf/MvQB7NRXzjpP7R37dusfGfX/gdb/sofCRdU8O%2BF9I128uX%2BOuqeRJBqNzqVvCiEeGNxdW0ucsCoADx4LEsF6j/hOP8AgoX/ANGv/Bn/AMPxq3/zL0AezUV4z/wnH/BQv/o1/wCDP/h%2BNW/%2BZej/AITj/goX/wBGv/Bn/wAPxq3/AMy9AHs1FeM/8Jx/wUL/AOjX/gz/AOH41b/5l65fwD%2B0d%2B3b8RPFfjfwho/7KHwkhuPAfiiLQtVkufjrqgSeeTStP1MPFt8MElPJ1GFSWCnejjGAGYA%2BjqK8Z/4Tj/goX/0a/wDBn/w/Grf/ADL0f8Jx/wAFC/8Ao1/4M/8Ah%2BNW/wDmXoA9mrxn9l//AJLf%2B0d/2Wax/wDUK8L0f8Jx/wAFC/8Ao1/4M/8Ah%2BNW/wDmXq3%2Byt8OfjT4P1j4oeO/jpoHhfSdU8ffEKLXLPSvCfiW51a3tbWLQdH0xVe4uLKzZpGk06Vyoi2hZEG5jnAB63RRRQAUUUUAFFFFABRRRQAUUUUAFFFFABRRRQAUUUUAFFFFABRRRQAUUUUAFfK/7T37Wnxc%2BGHxj8Wa14B8O%2BD5PDHwf8P%2BH73xqda0i4m1XVLfV7%2BVLmCwuI7iNLLyLazjuMyRTi5kKRkQ%2BX5p%2BqK8Z%2BM/7EPw4%2BN3xSPxM1zxz4q0uLUbXSLXxf4a0a6tU07xTBpd7Je2MV8stvJMFjmmlz9nlgMschimMsYVAAezUUUUAFFFFAHzH4c/aV%2BJkP7f/ij4P/EbWPD3hPw2viC00TwZFqPwi1lLrxjANAg1HEHiNrtdOaWO7udQAtBC8nl2kwCgs0i/TleV%2BLP2WoPH/wAZNI%2BKfj343%2BNdX0rw9rsetaB4AuDpkWjWOoR27wRzhobJL2XZ5kkipNdSRiR92z5EC%2BqUAFFFFAHi/wDwUF%2BLvxw/Z%2B/ZH8afHr4BXvhSPWPBOhXeuXUHjDRbm%2Btru0tbaWZ7dEtrq2ZJXZEUSFyqAsSj8CvP/Hn7Wnxc8F/HjxbqfhTw74Qi%2BHnhD4x%2BEfh94ys5tIuDreq6rrsGipHqEN2lwsMccH9uaTGYpLeV5EhnxLHtQV7D%2B1j%2BzjZftafAjXv2fda%2BKvinwjpPieylsdcv/CC6d9rubKWJ4prbdf2l1GiOr8siLICo2uvOeLg/YB8HT/EWz%2BIvir44%2BPtdY6zpOueJtG1CXSorHxPrmmJGljq17HbWETLcRCC0wts0EDGxti8TGPJAPe6KKKACvF/2yfi78cPgla%2BAfGPwsvfCn9jah8TPDnh7xfY%2BINFubm6ubXVdZsdNBs5YbqFLaSNbmWTfIk6koi7OSa9oryr9q79lt/2qvDeheF5/j7438DW%2BheJLDXUbwXDo7Pd3tjeQXlm0p1LT7wbYri3jcLGEDcrJvU7QAecfs8/tK/EzW/2qvFvwR%2BKGr%2BHvCenQ%2BKdbt/BPhKT4Razplzr1tC6Sm/t9auLv7BqDsZJpZYraAvyXYrhifpyvJdJ/ZRD/ABk0X4y/Ef8AaA8d%2BNZvC93eXfhPQvEI0mGw0e6ubeS1kuIlsNPtpZX%2BzzTwr58kqos77QCQR61QAUUUUAeH/t3fFz48fs/fBrV/jr8KPGPgWx0/wtotzeXui%2BLPDN7f3PiG9yi2emWcltewfZ5riUi3RvKumaWeILCx%2BVvP/gj%2B198Z9c%2BJfgr%2B1vBnhLSPhp43%2BJ/ij4beFfDWnaXNHq%2BiX%2BgQ6tvnnuRcNbzQSN4f1NFhjt4jGrWx8yTLAen/ALSv7IMH7SXjzwR8QJv2gfHfhC58A3dze6LY%2BGItGns5L2VBGt5NBqenXiPPDH5iwyAKYxPKR8zZFXwH%2Bw18PfAfxlt/i7D8RfF2pQadrup69onhDUrmy/snStb1GN49Q1SBIrVJ/PnE92WV5nhRr65McUfmcAHtdFFFABXy/wDtc/Hj9pf4LfETT/CmlQ%2BAPGuj%2BOYdattF%2BHMXg%2B%2Bk1hLW00O6u5L%2B4nF68V1bC6it7aSEWsQP2%2BFBMZGRJPqCvDpv2JriP9o/xX%2B01on7VfxL07V/Fumw6dc6XDB4fntNPs4YGjhtrNrnSZbm3iWV3utizbXncu4cHbQAz9hD9oPxv8e/h7eXXxX8faNfeLtOFm2v%2BG7L4Xav4RvNAee2WUQXNlq91PcOC2/y7gBI5FQ7Q20mvdK83%2BB37N2nfBnxP4k%2BIesfFLxT448VeK4rG31jxP4uawW5e0sxN9ltUi0%2B1tbaOKNrm5cbYQzNcSFmbIx6RQAUUUUAfHP/AAUE/bj%2BKn7GHjn%2B09c0XQPGPhF9G1HW7fwrL8OdTspbdNN0a%2B1JJP8AhIprp9Mnu/temjZYrAl0I5llA2wtI3r37NHxd%2BOerfFTxv8As9ftHXPhTUPE/hHSdD1qPWvBWkXNhY3NjqgvI0iMFzc3LrLFcaddqX83EiGJtkZJUVvjr%2Bwl4I/ac1q6tfj/APFvxr4o8F3MlxIvwyvJNNh0WKSaxmsmbfb2Ud9IBHcTMElunQO%2B7b8iBen/AGfP2ZtI%2BAd5r3iK7%2BKHizxx4j8SGzj1bxV41uLN76W2tIjFa2o%2Bx21vCsUQeVhiPezzyu7Ozk0AelUUUUAFfEf7U/7ZX7Wfwb%2BNXiD4UeDvDfhzxrqdhotxrvhgJ8D/ABBHJooGo6ZaoYW%2B3OPE0gsdUuPO/svynhaErKIxMI6%2B3K8P179i3U/Evj0/E7Wv2ufijNrenwXkXg28KaAB4VW6mhkn%2ByRjSdk7NHAtvuvVumWJnClXdnIB1X7LHxYf4yfCODxZe/EzRvFV/DqN1ZapfaN4MvvDotriKVla1m03ULie6s54xhXjmcPn5tqhgK9GrhvgH8BfD3wA8M6no2leKdb8Qajr%2BvXGt%2BJPEniOaBr3Vb%2BYIjTyi3ihgTEcUMSpDFHGqRIAowSe5oAKKKKACiiigAooooAKKKKAKPijxDYeEvDWo%2BK9VDm10yxmu7kRLlvLjQu2B3OFNfOf7E37Sfxr8f8AinR/Bnxs8PeDLMeOvhbZfEbwzD4M0q4tBpkd5cE3en3ZmuJRdzRvc2z/AGxBAJ2lmJgj2gv9LXdpa39rLY3tuk0M0bRzRSqGV1IwVIPBBHGK8h/Zm/Yr8Bfswaq%2Br6B8QfFviWW28MWPhnw6PFl7azDQNCs3ke3021Nvbwlo1MnzSzma4kEcXmTP5a4APYqKKKACuF/ag8efEX4Wfs0fET4nfB/wouveLfDngXV9U8LaG1jNdDUdRt7OWW2tjDAyyzCSVETy42DtuwpBINd1Wd4t0S/8S%2BGNQ8P6X4r1HQrm9tJIbfWtIWBrqxdlIE0QuIpYi6nkCSN0yPmVhkEA8u/Yp%2BLU/wAUPhnfWWrfELw/rOp%2BHdVXTrzTNE%2BGGp%2BDn0NBbQSRWdxpWqXM9zC4RxIrt5aPFLFsTA3v7FXnnwH/AGdtJ%2BB154l8R3PxE8SeMfEni/UYbzxF4p8VvZi7ujDbpbwRCOxtra2iijjQBVjhTJZ2YszMx9DoAKKKKAPlz9qj9rH4ofs4fF7xxZfErRvCXiL4X2H7O/i/x7baFb6JcJqrtog0tZ7a4uZLl7eaKdb6cBBbIVCJl3ywrt/2Z/i/8fNU%2BLnjL9nX9pZ/CV54o8MeGPD3iWPVfBWk3NjZSWWrPqVutsYbm5uXMsNxpF2DKJAsiPE3lxnctQfGP9hXw78dPjq3xl8efHbxzLps3grU/CN98PYYNF/sS70bUltvt9pIX01r0idrSB2cXQdShCMiMyHpP2d/2XdD/Z9vta8Rz/FDxb438Q6/a2Flf%2BJ/G1zaSXpsLFJFs7MfZLa3j8qIz3DglDI73Mru7s2aAPT6KKKACvkT41/tL/tbeDNd/aA8CW/hXwZ4svfAXh/wp4k%2BG1jpPw/1O/nWPUdV1KEJeWsV48uozwLpsc6m2FuS5IVflVq%2Bu68Ll/Yo8QxfHTxt8f8AQv20PitpWreN9IsdMubGys/DDWmm21lcXM9mlsJdFeT90by6UGZ5S6zkSeYVQqAdX%2Byp8W5vjL8KR4m1H4naN4p1G11W5sdWutH8EX/hs2dxE3zWs%2BmajcT3VpOildyTMGIZW2qrCvSa4T4B/APQPgDoWs2On%2BLdc8R6r4m8QS654n8TeJJbdr3Vb%2BSGGDzZBbQwwRhYLe3hVIoo0VIUAXOSe7oAKKKKAPjb9pb9rv8AaW/Z4%2BM0Hw21lPhn41vtbggm8Iw6d4WvbSXwXeal4h0zw9pE2pyvfTC6inbV5wWiWzkcWN0sYZfMMXuP7Kvxf%2BJHxGHj/wCH3xiOiT%2BKvhp48bw1rOq%2BGtOms7DU/M0vTtWt7iG3mnnkt82uqW6PG00uJI5MMQRjhbb/AIJq%2BEmuviG/iH9pf4nazb/EnXjrmsW%2BpHQvMs9SiuIZ9Puba6i0tLpTYPb24tI3mkiiWFAyPzn1j4B/AXQ/gH4e1bTbLxfrniTVvEWvTa14n8UeJXtjf6vfSRxQ%2BdMLWCCBdkEFvAiRRRoscEaheCSAd1RRRQAy5%2B0/ZpPsezzth8rzc7d2OM45xmviD4rftc/tp/DT4ia58Nre28B%2BM9e8MXvhq31bx14I%2BCuv6tH4ct9Wa8e9sJdKs9Snu7maOGysbomKdP3d1C0sCAxNJ9vXcMlxay28N1JA8kbKs8QUvGSMBl3ArkdRkEeoNfPfwY/YC8QfAT4bXHw0%2BHf7dXxiijutWfU5tZvLLwnPqEt3K8slzPNM%2BhH7TJO8u6SScSPmNNhQDBAPWfgJ8Q7L4rfB3w/8QrD4gaN4qTU9PEj6/wCH9JmsLS7kBKyFLWeaaW2KurI0MkjvGysrHcpA6%2BuS%2BBfwX8Jfs%2B/C/TvhT4Kub%2B4srCW6uJr7VbkTXV9d3VzLdXV1M4VQ0s1xPNK%2B1VXdIdqquFHW0AFUfE8PiS58N6hb%2BDdTsbLV5LKVdLvNTsHuraC4KERySwxyxNNGrYLIskZYAgOpO4XqzfGOg3/ijwtf%2BHdL8W6loNzeWrxQa1o4gN1YuRxNELiKWIup5AkjdDj5lYZFAHw98N/27P2tfjB8U9b%2BCXws034fJ4z02112%2Bk8Z%2BK/hdrWhrqmmaRa6LKljLol5fJqGnyvd%2BIdiTTzPH5UMlwkLrOgP2N8Avi1pvx8%2BBPgr466NpstnZ%2BNfCWm69aWcz7ngivLWO4WNiAMlRIAT6ivFtX/4JkeB9a1y%2B%2BIt3%2B0p8U0%2BIGrJeWutfEm2vdIh1a/0y6trW2m0wommizhtillaMPItopVkgWVZQ5Zj9B%2BC/B/hr4eeDtJ8AeDNJi0/R9D0yDT9JsIc7La2hjWOKNc84VFVR9KANOiiigDl/jTqPjjRvhbrWt/DnxDY6Xq1hZm6hvtQ8H3viBEjjIeUDTrGeC5vJGiV1SKGQOXZcK5%2BRvi34S/8FEfj94k8aaHqfje48I%2BBPBmpTzr4g8cXnwM8RTW2sX8Ov3WkIlzKt9GnhmeS1tLX9xqjSSwPKsb52BK%2B2/iZ4M13x74Sm8OeG/ilr/g28kljeLX/AAzFYvdwbWBKqt/bXMDBgCpDxNwTjBwR4rdf8E5vCmoeD7j4bat%2B0h8TbvwxrmoTX/jzQJrjRxF4wu57xrq4mvpV00XEXmllhaOzltYhDEkaoo3bgD6JooooAKKKKACiiigAooooAKKKKACiiigAooooAKKKKACiiigAooooAKKKKACiiigAooooAKKKKACiiigAooooAKKKKACiiigAooooAKKKKACiiigAooooAKKKKACiiigAooooAKKKKACiiigAooooAKKKKACiiigAooooAKKKKACiiigAooooAKKKKACiiigAooooAKKKKACiiigAooooAKKKKACiiigAooooAKKKKACiiigAooooAKKKKACiiigAooooAKKKKACiiigAooooAKKKKACiiigAooooAKKKKACiiigAooooAKKKKACiiigAooooA//Z\">"
            ]
          },
          "metadata": {
            "tags": []
          }
        }
      ]
    },
    {
      "cell_type": "markdown",
      "metadata": {
        "id": "_9460sDV8s6h",
        "colab_type": "text"
      },
      "source": [
        "# Submit the MLP with 2 hidden layers\n",
        "Run these cells after training the MLP with 2 hidden layers"
      ]
    },
    {
      "cell_type": "code",
      "metadata": {
        "id": "nHzhnV3Q8s6h",
        "colab_type": "code",
        "colab": {}
      },
      "source": [
        "'''## GRADED PART, DO NOT CHANGE!\n",
        "# Validation loss for MLP\n",
        "grader.set_answer(\"i8bgs\", s.run(loss, {input_X: X_val_flat, input_y: y_val_oh}))\n",
        "# Validation accuracy for MLP\n",
        "grader.set_answer(\"rE763\", accuracy_score(y_val, s.run(classes, {input_X: X_val_flat})))'''"
      ],
      "execution_count": 0,
      "outputs": []
    },
    {
      "cell_type": "code",
      "metadata": {
        "id": "r5pUbJUb8s6l",
        "colab_type": "code",
        "outputId": "a7cb1228-25b9-45cb-924f-691c3de32859",
        "colab": {
          "base_uri": "https://localhost:8080/",
          "height": 34
        }
      },
      "source": [
        "'''# you can make submission with answers so far to check yourself at this stage\n",
        "grader.submit(COURSERA_EMAIL, COURSERA_TOKEN)'''"
      ],
      "execution_count": 0,
      "outputs": [
        {
          "output_type": "stream",
          "text": [
            "Submitted to Coursera platform. See results on assignment page!\n"
          ],
          "name": "stdout"
        }
      ]
    }
  ]
}